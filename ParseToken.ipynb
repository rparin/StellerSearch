{
 "cells": [
  {
   "cell_type": "code",
   "execution_count": null,
   "metadata": {},
   "outputs": [],
   "source": [
    "from HelperClass import InvertedIndex\n",
    "invIndex = InvertedIndex()\n",
    "invIndex.loadAll('DevShelve')\n",
    "\n",
    "# import warnings\n",
    "# warnings.filterwarnings('ignore')"
   ]
  },
  {
   "cell_type": "code",
   "execution_count": 1,
   "metadata": {},
   "outputs": [
    {
     "data": {
      "text/plain": [
       "1049"
      ]
     },
     "execution_count": 1,
     "metadata": {},
     "output_type": "execute_result"
    }
   ],
   "source": [
    "import pandas as pd\n",
    "dfLenRead = pd.read_hdf('DevHDF5/DocId.hdf5', 'docLen')\n",
    "dfLenRead[11][0]"
   ]
  },
  {
   "cell_type": "code",
   "execution_count": null,
   "metadata": {},
   "outputs": [],
   "source": [
    "#ToDo split into a-f etc and get top 10k words\n",
    "\n",
    "tfDict = {} #{token:{docId,tf}}\n",
    "count = 0\n",
    "for term in invIndex['pos']:\n",
    "    dfCount = len(invIndex['pos'][term])\n",
    "    tfDict[term] = {}\n",
    "    for docId in invIndex['pos'][term]:\n",
    "        tfDict[term].update({docId: len(invIndex['pos'][term][docId])})\n",
    "        count += 1\n",
    "        if count > 10000:\n",
    "            break"
   ]
  },
  {
   "cell_type": "code",
   "execution_count": null,
   "metadata": {},
   "outputs": [],
   "source": [
    "def df_from_dict(dictObj:dict, toInt = False):\n",
    "    df = pd.DataFrame.from_dict(dictObj, orient='index')\n",
    "    df.fillna(0, inplace=True)\n",
    "    if toInt: df = df.astype('int32')\n",
    "    return df.transpose()"
   ]
  },
  {
   "cell_type": "code",
   "execution_count": null,
   "metadata": {},
   "outputs": [],
   "source": [
    "df = df_from_dict(tfDict,True)"
   ]
  },
  {
   "cell_type": "code",
   "execution_count": null,
   "metadata": {},
   "outputs": [],
   "source": [
    "# df = df_from_dict(idfDict)\n",
    "# df.to_hdf(f'DevHDF5/TermInfo.hdf5', key='idf')"
   ]
  },
  {
   "cell_type": "code",
   "execution_count": null,
   "metadata": {},
   "outputs": [],
   "source": [
    "#ToDo split into a-f etc and get top 10k words\n",
    "\n",
    "termDict = {} #{term:{{docIds:{docId}},df:dfNum}}\n",
    "for term in invIndex['pos']:\n",
    "    docSet = set()\n",
    "    dfCount = len(invIndex['pos'][term])\n",
    "    for docId in invIndex['pos'][term]:\n",
    "        docSet.add(docId)\n",
    "    termDict[term] = {'docIds':docSet, 'df':dfCount}"
   ]
  },
  {
   "cell_type": "code",
   "execution_count": null,
   "metadata": {},
   "outputs": [],
   "source": [
    "# print(termDict['artifici']['docIds'])\n",
    "# print(termDict['artifici']['df'])"
   ]
  },
  {
   "cell_type": "code",
   "execution_count": null,
   "metadata": {},
   "outputs": [],
   "source": [
    "# df_from_dict({'artifici':termDict['artifici']})"
   ]
  },
  {
   "cell_type": "code",
   "execution_count": null,
   "metadata": {},
   "outputs": [],
   "source": [
    "# from string import ascii_lowercase as alc\n",
    "# for letter in alc:\n",
    "#     print(letter)\n",
    "#     df = pd.DataFrame()\n",
    "#     for term in termDict:\n",
    "#         if term.startswith(letter):\n",
    "#             if term == 'self':\n",
    "#                 df.insert(0, term, [termDict[term]['docIds'], termDict[term]['df']])\n",
    "#             else:\n",
    "#                 df = df.assign(**{term:termDict[term]})\n",
    "#     df.to_hdf(f'DevHDF5/TermMeta.hdf5', key=letter)"
   ]
  },
  {
   "cell_type": "code",
   "execution_count": null,
   "metadata": {},
   "outputs": [],
   "source": [
    "# from string import ascii_lowercase as alc\n",
    "# abcSet = set()\n",
    "# for letter in alc: abcSet.add(letter)\n",
    "# df = pd.DataFrame()\n",
    "# for term in termDict:\n",
    "#     if term.isdigit():\n",
    "#         num = int(term)\n",
    "#         if ((num >= 0) and (num <= 5000)):\n",
    "#             if(term[0] != '0'):\n",
    "#                 print(term)\n",
    "                # df = df.assign(**{term:termDict[term]})\n",
    "# df.to_hdf(f'DevHDF5/TermMeta.hdf5', key='num')"
   ]
  }
 ],
 "metadata": {
  "kernelspec": {
   "display_name": "Python 3",
   "language": "python",
   "name": "python3"
  },
  "language_info": {
   "codemirror_mode": {
    "name": "ipython",
    "version": 3
   },
   "file_extension": ".py",
   "mimetype": "text/x-python",
   "name": "python",
   "nbconvert_exporter": "python",
   "pygments_lexer": "ipython3",
   "version": "3.10.7"
  },
  "orig_nbformat": 4
 },
 "nbformat": 4,
 "nbformat_minor": 2
}
