{
 "cells": [
  {
   "cell_type": "code",
   "execution_count": null,
   "metadata": {},
   "outputs": [],
   "source": [
    "from HelperClass import InvertedIndex\n",
    "invIndex = InvertedIndex()\n",
    "invIndex.loadAll('DevShelve')\n",
    "\n",
    "# import warnings\n",
    "# warnings.filterwarnings('ignore')"
   ]
  },
  {
   "cell_type": "code",
   "execution_count": null,
   "metadata": {},
   "outputs": [],
   "source": [
    "import pandas as pd\n",
    "dfLenRead = pd.read_hdf('DevHDF5/DocId.hdf5', 'docLen')\n",
    "dfLenRead[11][0]"
   ]
  },
  {
   "cell_type": "code",
   "execution_count": null,
   "metadata": {},
   "outputs": [],
   "source": [
    "#ToDo split into a-f etc and get top 10k words\n",
    "\n",
    "tfDict = {} #{token:{docId,tf}}\n",
    "count = 0\n",
    "for term in invIndex['pos']:\n",
    "    dfCount = len(invIndex['pos'][term])\n",
    "    tfDict[term] = {}\n",
    "    for docId in invIndex['pos'][term]:\n",
    "        tfDict[term].update({docId: len(invIndex['pos'][term][docId])})\n",
    "        count += 1\n",
    "        if count > 10000:\n",
    "            break"
   ]
  },
  {
   "cell_type": "code",
   "execution_count": null,
   "metadata": {},
   "outputs": [],
   "source": [
    "def df_from_dict(dictObj:dict, toInt = False):\n",
    "    df = pd.DataFrame.from_dict(dictObj, orient='index')\n",
    "    df.fillna(0, inplace=True)\n",
    "    if toInt: df = df.astype('int32')\n",
    "    return df.transpose()"
   ]
  },
  {
   "cell_type": "code",
   "execution_count": null,
   "metadata": {},
   "outputs": [],
   "source": [
    "df = df_from_dict(tfDict,True)"
   ]
  },
  {
   "cell_type": "code",
   "execution_count": null,
   "metadata": {},
   "outputs": [],
   "source": [
    "# df = df_from_dict(idfDict)\n",
    "# df.to_hdf(f'DevHDF5/TermInfo.hdf5', key='idf')"
   ]
  }
 ],
 "metadata": {
  "kernelspec": {
   "display_name": "Python 3",
   "language": "python",
   "name": "python3"
  },
  "language_info": {
   "codemirror_mode": {
    "name": "ipython",
    "version": 3
   },
   "file_extension": ".py",
   "mimetype": "text/x-python",
   "name": "python",
   "nbconvert_exporter": "python",
   "pygments_lexer": "ipython3",
   "version": "3.10.7"
  },
  "orig_nbformat": 4
 },
 "nbformat": 4,
 "nbformat_minor": 2
}
