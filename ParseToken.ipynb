{
 "cells": [
  {
   "cell_type": "code",
   "execution_count": 3,
   "metadata": {},
   "outputs": [],
   "source": [
    "from HelperClass import InvertedIndex\n",
    "import pandas as pd\n",
    "\n",
    "invIndex = InvertedIndex()\n",
    "invIndex.loadAll('DevShelve')\n",
    "\n",
    "# import warnings\n",
    "# warnings.filterwarnings('ignore')"
   ]
  },
  {
   "cell_type": "code",
   "execution_count": 9,
   "metadata": {},
   "outputs": [],
   "source": [
    "#ToDo split into a-f etc and get top 10k words\n",
    "\n",
    "tfDict = {} #{token:{docId:tf}}\n",
    "for term in invIndex['pos']:\n",
    "    dfCount = len(invIndex['pos'][term])\n",
    "    tfDict[term] = {}\n",
    "    for docId in invIndex['pos'][term]:\n",
    "        tfDict[term].update({docId: len(invIndex['pos'][term][docId])})"
   ]
  },
  {
   "cell_type": "code",
   "execution_count": 4,
   "metadata": {},
   "outputs": [],
   "source": [
    "def df_from_dict(dictObj:dict, toInt = False):\n",
    "    df = pd.DataFrame.from_dict(dictObj, orient='index')\n",
    "    df.fillna(0, inplace=True)\n",
    "    if toInt: df = df.astype('int32')\n",
    "    return df.transpose()"
   ]
  },
  {
   "cell_type": "code",
   "execution_count": null,
   "metadata": {},
   "outputs": [],
   "source": [
    "# df = df_from_dict(idfDict)\n",
    "# df.to_hdf(f'DevHDF5/TermInfo.hdf5', key='idf')"
   ]
  },
  {
   "cell_type": "code",
   "execution_count": 5,
   "metadata": {},
   "outputs": [],
   "source": [
    "#ToDo split into a-f etc and get top 10k words\n",
    "\n",
    "# termDict = {} #{term:{{docIds:{docId}},df:dfNum}}\n",
    "# for term in invIndex['pos']:\n",
    "#     docSet = set()\n",
    "#     dfCount = len(invIndex['pos'][term])\n",
    "#     for docId in invIndex['pos'][term]:\n",
    "#         docSet.add(docId)\n",
    "#     termDict[term] = {'docIds':docSet, 'df':dfCount}"
   ]
  },
  {
   "cell_type": "code",
   "execution_count": null,
   "metadata": {},
   "outputs": [],
   "source": [
    "# print(termDict['artifici']['docIds'])\n",
    "# print(termDict['artifici']['df'])"
   ]
  },
  {
   "cell_type": "code",
   "execution_count": null,
   "metadata": {},
   "outputs": [],
   "source": [
    "# df_from_dict({'artifici':termDict['artifici']})"
   ]
  },
  {
   "cell_type": "code",
   "execution_count": null,
   "metadata": {},
   "outputs": [],
   "source": [
    "# from string import ascii_lowercase as alc\n",
    "# for letter in alc:\n",
    "#     print(letter)\n",
    "#     df = pd.DataFrame()\n",
    "#     for term in termDict:\n",
    "#         if term.startswith(letter):\n",
    "#             if term == 'self':\n",
    "#                 df.insert(0, term, [termDict[term]['docIds'], termDict[term]['df']])\n",
    "#             else:\n",
    "#                 df = df.assign(**{term:termDict[term]})\n",
    "#     df.to_hdf(f'DevHDF5/TermMeta.hdf5', key=letter)"
   ]
  },
  {
   "cell_type": "code",
   "execution_count": null,
   "metadata": {},
   "outputs": [],
   "source": [
    "# from string import ascii_lowercase as alc\n",
    "# abcSet = set()\n",
    "# for letter in alc: abcSet.add(letter)\n",
    "# df = pd.DataFrame()\n",
    "# for term in termDict:\n",
    "#     if term.isdigit():\n",
    "#         num = int(term)\n",
    "#         if ((num >= 0) and (num <= 5000)):\n",
    "#             if(term[0] != '0'):\n",
    "#                 print(term)\n",
    "                # df = df.assign(**{term:termDict[term]})\n",
    "# df.to_hdf(f'DevHDF5/TermMeta.hdf5', key='num')"
   ]
  },
  {
   "cell_type": "code",
   "execution_count": 15,
   "metadata": {},
   "outputs": [
    {
     "name": "stdout",
     "output_type": "stream",
     "text": [
      "{\"60\": 1}\n"
     ]
    }
   ],
   "source": [
    "import json\n",
    "json_str = json.dumps(tfDict['hello'])\n",
    "json_dict = json.loads(json_str)\n",
    "print(json_str)"
   ]
  },
  {
   "cell_type": "code",
   "execution_count": 16,
   "metadata": {},
   "outputs": [],
   "source": [
    "jsonDict = {}\n",
    "for term in tfDict:\n",
    "    jsonDict[term] = json.dumps(tfDict[term])"
   ]
  },
  {
   "cell_type": "code",
   "execution_count": 32,
   "metadata": {},
   "outputs": [
    {
     "name": "stdout",
     "output_type": "stream",
     "text": [
      "<class 'pandas.core.frame.DataFrame'>\n",
      "Index: 356273 entries, artifici to 2510003e04rik\n",
      "Data columns (total 1 columns):\n",
      " #   Column  Non-Null Count   Dtype \n",
      "---  ------  --------------   ----- \n",
      " 0   Terms   356273 non-null  object\n",
      "dtypes: object(1)\n",
      "memory usage: 5.4+ MB\n"
     ]
    }
   ],
   "source": [
    "df = df_from_dict(jsonDict).transpose()\n",
    "df.columns = ['Terms']\n",
    "df['Terms'] = df['Terms'].astype(str)\n",
    "df.info()"
   ]
  },
  {
   "cell_type": "code",
   "execution_count": 33,
   "metadata": {},
   "outputs": [],
   "source": [
    "df.to_hdf(f'DevHDF5/Terms.hdf5', key='terms')"
   ]
  }
 ],
 "metadata": {
  "kernelspec": {
   "display_name": "Python 3",
   "language": "python",
   "name": "python3"
  },
  "language_info": {
   "codemirror_mode": {
    "name": "ipython",
    "version": 3
   },
   "file_extension": ".py",
   "mimetype": "text/x-python",
   "name": "python",
   "nbconvert_exporter": "python",
   "pygments_lexer": "ipython3",
   "version": "3.10.7"
  },
  "orig_nbformat": 4
 },
 "nbformat": 4,
 "nbformat_minor": 2
}
