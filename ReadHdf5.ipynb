{
 "cells": [
  {
   "cell_type": "code",
   "execution_count": 1,
   "metadata": {},
   "outputs": [],
   "source": [
    "import pandas as pd"
   ]
  },
  {
   "cell_type": "code",
   "execution_count": 2,
   "metadata": {},
   "outputs": [],
   "source": [
    "def df_from_dict(dictObj:dict, toInt = False):\n",
    "    df = pd.DataFrame.from_dict(dictObj, orient='index')\n",
    "    df = df.fillna(0)\n",
    "    if toInt: df = df.astype('int32')\n",
    "    return df.transpose()"
   ]
  },
  {
   "cell_type": "code",
   "execution_count": 3,
   "metadata": {},
   "outputs": [],
   "source": [
    "def getNum(docId:int):\n",
    "    return ''"
   ]
  },
  {
   "cell_type": "code",
   "execution_count": 4,
   "metadata": {},
   "outputs": [
    {
     "data": {
      "text/plain": [
       "'https://aiclub.ics.uci.edu/'"
      ]
     },
     "execution_count": 4,
     "metadata": {},
     "output_type": "execute_result"
    }
   ],
   "source": [
    "url1 = pd.read_hdf(f'DevHDF5/Url{getNum(100)}.hdf5', '1')\n",
    "url1.iat[0,0]"
   ]
  },
  {
   "cell_type": "code",
   "execution_count": 5,
   "metadata": {},
   "outputs": [
    {
     "data": {
      "text/plain": [
       "'http://archive.ics.uci.edu/ml/datasets/Adult'"
      ]
     },
     "execution_count": 5,
     "metadata": {},
     "output_type": "execute_result"
    }
   ],
   "source": [
    "dfUrl = pd.read_hdf('DevHDF5/DocId.hdf5', 'url')\n",
    "dfUrl[500][0]"
   ]
  },
  {
   "cell_type": "code",
   "execution_count": 6,
   "metadata": {},
   "outputs": [
    {
     "data": {
      "text/plain": [
       "170"
      ]
     },
     "execution_count": 6,
     "metadata": {},
     "output_type": "execute_result"
    }
   ],
   "source": [
    "dfLenRead = pd.read_hdf('DevHDF5/DocId.hdf5', 'docLen')\n",
    "dfLenRead[10][0]"
   ]
  },
  {
   "cell_type": "code",
   "execution_count": 7,
   "metadata": {},
   "outputs": [
    {
     "data": {
      "text/plain": [
       "5.579199109398079"
      ]
     },
     "execution_count": 7,
     "metadata": {},
     "output_type": "execute_result"
    }
   ],
   "source": [
    "dfIdf = pd.read_hdf('DevHDF5/TermInfo.hdf5', 'idf')\n",
    "dfIdf['artifici'][0]"
   ]
  },
  {
   "cell_type": "code",
   "execution_count": 8,
   "metadata": {},
   "outputs": [],
   "source": [
    "from HelperClass import InvertedIndex\n",
    "invIndex = InvertedIndex()\n",
    "invIndex.loadAll('DevShelve')"
   ]
  },
  {
   "cell_type": "code",
   "execution_count": 16,
   "metadata": {},
   "outputs": [
    {
     "name": "stdout",
     "output_type": "stream",
     "text": [
      "{1, 2, 3, 1028, 513, 1032, 1034, 1555, 534, 1047, 24, 1053, 544, 545, 34, 1060, 1572, 550, 1063, 552, 41, 554, 1069, 47, 48, 559, 563, 1077, 55, 56, 568, 58, 1081, 1082, 1596, 63, 1087, 65, 1091, 1092, 1603, 1096, 585, 588, 78, 79, 1614, 594, 1618, 85, 1110, 1111, 1113, 96, 99, 612, 1123, 1126, 104, 1643, 112, 626, 115, 116, 1144, 128, 129, 640, 2176, 133, 1158, 139, 140, 1166, 655, 144, 1172, 149, 662, 663, 152, 667, 1186, 1698, 164, 1191, 680, 1195, 1197, 1198, 687, 1199, 183, 184, 188, 701, 707, 2248, 715, 716, 1229, 1235, 725, 1239, 1241, 219, 731, 732, 1248, 227, 2276, 743, 745, 234, 243, 755, 1269, 247, 1276, 253, 1279, 770, 259, 1284, 1289, 267, 779, 782, 271, 784, 785, 1808, 788, 277, 796, 287, 800, 801, 293, 806, 807, 811, 304, 307, 820, 311, 312, 823, 1337, 1341, 318, 319, 836, 325, 326, 330, 331, 847, 857, 1882, 1888, 353, 359, 361, 874, 881, 882, 885, 889, 381, 893, 899, 388, 389, 902, 904, 912, 401, 2455, 1434, 1441, 930, 420, 421, 936, 940, 432, 948, 440, 442, 445, 451, 459, 979, 469, 982, 471, 985, 988, 478, 479, 482, 485, 494, 500, 501, 502, 508, 510}\n",
      "209\n"
     ]
    },
    {
     "data": {
      "text/html": [
       "<div>\n",
       "<style scoped>\n",
       "    .dataframe tbody tr th:only-of-type {\n",
       "        vertical-align: middle;\n",
       "    }\n",
       "\n",
       "    .dataframe tbody tr th {\n",
       "        vertical-align: top;\n",
       "    }\n",
       "\n",
       "    .dataframe thead th {\n",
       "        text-align: right;\n",
       "    }\n",
       "</style>\n",
       "<table border=\"1\" class=\"dataframe\">\n",
       "  <thead>\n",
       "    <tr style=\"text-align: right;\">\n",
       "      <th></th>\n",
       "      <th>artifici</th>\n",
       "      <th>ai</th>\n",
       "      <th>about</th>\n",
       "      <th>at</th>\n",
       "      <th>a</th>\n",
       "      <th>and</th>\n",
       "      <th>applic</th>\n",
       "      <th>among</th>\n",
       "      <th>academia</th>\n",
       "      <th>almuni</th>\n",
       "      <th>...</th>\n",
       "      <th>atox1</th>\n",
       "      <th>arpp19</th>\n",
       "      <th>aw047730</th>\n",
       "      <th>arhgap32</th>\n",
       "      <th>acsl6</th>\n",
       "      <th>au040320</th>\n",
       "      <th>apod</th>\n",
       "      <th>a030009h04rik</th>\n",
       "      <th>adal</th>\n",
       "      <th>a930024n18rik</th>\n",
       "    </tr>\n",
       "  </thead>\n",
       "  <tbody>\n",
       "    <tr>\n",
       "      <th>docIds</th>\n",
       "      <td>{1, 2, 3, 1028, 513, 1032, 1034, 1555, 534, 10...</td>\n",
       "      <td>{1, 2, 3, 1042, 1555, 2082, 1572, 41, 554, 56,...</td>\n",
       "      <td>{1, 2, 3, 11, 12, 13, 14, 17, 20, 21, 22, 24, ...</td>\n",
       "      <td>{1, 2, 3, 4, 2049, 6, 7, 9, 10, 11, 12, 15, 16...</td>\n",
       "      <td>{1, 2, 3, 6, 7, 8, 9, 10, 11, 12, 13, 14, 2058...</td>\n",
       "      <td>{1, 2, 3, 4, 5, 6, 7, 8, 9, 10, 11, 12, 13, 14...</td>\n",
       "      <td>{1, 2, 1539, 3, 5, 6, 7, 1032, 9, 522, 1033, 2...</td>\n",
       "      <td>{128, 1, 2, 3, 643, 2176, 1287, 776, 14, 272, ...</td>\n",
       "      <td>{1, 2, 3, 1138, 1299}</td>\n",
       "      <td>{1, 2, 3}</td>\n",
       "      <td>...</td>\n",
       "      <td>{2738}</td>\n",
       "      <td>{2738}</td>\n",
       "      <td>{2738}</td>\n",
       "      <td>{2738}</td>\n",
       "      <td>{2738}</td>\n",
       "      <td>{2738}</td>\n",
       "      <td>{2738}</td>\n",
       "      <td>{2738}</td>\n",
       "      <td>{2738}</td>\n",
       "      <td>{2738}</td>\n",
       "    </tr>\n",
       "    <tr>\n",
       "      <th>df</th>\n",
       "      <td>209</td>\n",
       "      <td>82</td>\n",
       "      <td>694</td>\n",
       "      <td>1222</td>\n",
       "      <td>880</td>\n",
       "      <td>1812</td>\n",
       "      <td>231</td>\n",
       "      <td>72</td>\n",
       "      <td>5</td>\n",
       "      <td>3</td>\n",
       "      <td>...</td>\n",
       "      <td>1</td>\n",
       "      <td>1</td>\n",
       "      <td>1</td>\n",
       "      <td>1</td>\n",
       "      <td>1</td>\n",
       "      <td>1</td>\n",
       "      <td>1</td>\n",
       "      <td>1</td>\n",
       "      <td>1</td>\n",
       "      <td>1</td>\n",
       "    </tr>\n",
       "  </tbody>\n",
       "</table>\n",
       "<p>2 rows × 3183 columns</p>\n",
       "</div>"
      ],
      "text/plain": [
       "                                                 artifici  \\\n",
       "docIds  {1, 2, 3, 1028, 513, 1032, 1034, 1555, 534, 10...   \n",
       "df                                                    209   \n",
       "\n",
       "                                                       ai  \\\n",
       "docIds  {1, 2, 3, 1042, 1555, 2082, 1572, 41, 554, 56,...   \n",
       "df                                                     82   \n",
       "\n",
       "                                                    about  \\\n",
       "docIds  {1, 2, 3, 11, 12, 13, 14, 17, 20, 21, 22, 24, ...   \n",
       "df                                                    694   \n",
       "\n",
       "                                                       at  \\\n",
       "docIds  {1, 2, 3, 4, 2049, 6, 7, 9, 10, 11, 12, 15, 16...   \n",
       "df                                                   1222   \n",
       "\n",
       "                                                        a  \\\n",
       "docIds  {1, 2, 3, 6, 7, 8, 9, 10, 11, 12, 13, 14, 2058...   \n",
       "df                                                    880   \n",
       "\n",
       "                                                      and  \\\n",
       "docIds  {1, 2, 3, 4, 5, 6, 7, 8, 9, 10, 11, 12, 13, 14...   \n",
       "df                                                   1812   \n",
       "\n",
       "                                                   applic  \\\n",
       "docIds  {1, 2, 1539, 3, 5, 6, 7, 1032, 9, 522, 1033, 2...   \n",
       "df                                                    231   \n",
       "\n",
       "                                                    among  \\\n",
       "docIds  {128, 1, 2, 3, 643, 2176, 1287, 776, 14, 272, ...   \n",
       "df                                                     72   \n",
       "\n",
       "                     academia     almuni  ...   atox1  arpp19 aw047730  \\\n",
       "docIds  {1, 2, 3, 1138, 1299}  {1, 2, 3}  ...  {2738}  {2738}   {2738}   \n",
       "df                          5          3  ...       1       1        1   \n",
       "\n",
       "       arhgap32   acsl6 au040320    apod a030009h04rik    adal a930024n18rik  \n",
       "docIds   {2738}  {2738}   {2738}  {2738}        {2738}  {2738}        {2738}  \n",
       "df            1       1        1       1             1       1             1  \n",
       "\n",
       "[2 rows x 3183 columns]"
      ]
     },
     "execution_count": 16,
     "metadata": {},
     "output_type": "execute_result"
    }
   ],
   "source": [
    "aTerms = pd.read_hdf('DevHDF5/TermMeta.hdf5', 'a')\n",
    "print(aTerms['artifici']['docIds'])\n",
    "print(aTerms['artifici']['df'])\n",
    "aTerms"
   ]
  }
 ],
 "metadata": {
  "kernelspec": {
   "display_name": "Python 3",
   "language": "python",
   "name": "python3"
  },
  "language_info": {
   "codemirror_mode": {
    "name": "ipython",
    "version": 3
   },
   "file_extension": ".py",
   "mimetype": "text/x-python",
   "name": "python",
   "nbconvert_exporter": "python",
   "pygments_lexer": "ipython3",
   "version": "3.10.7"
  },
  "orig_nbformat": 4
 },
 "nbformat": 4,
 "nbformat_minor": 2
}
