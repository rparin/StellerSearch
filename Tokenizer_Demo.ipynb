{
 "cells": [
  {
   "cell_type": "code",
   "execution_count": 1,
   "metadata": {},
   "outputs": [],
   "source": [
    "import sys  \n",
    "sys.path.insert(0, './Tokenizer.py')\n",
    "from Tokenizer import Tokenizer"
   ]
  },
  {
   "cell_type": "code",
   "execution_count": 2,
   "metadata": {},
   "outputs": [
    {
     "name": "stdout",
     "output_type": "stream",
     "text": [
      "some -> 2\n",
      "text -> 2\n",
      "a -> 1\n",
      "file -> 1\n",
      "hello -> 1\n",
      "here -> 1\n",
      "insert -> 1\n",
      "is -> 1\n",
      "more -> 1\n",
      "read -> 1\n",
      "test -> 1\n",
      "this -> 1\n",
      "to -> 1\n",
      "world -> 1\n"
     ]
    }
   ],
   "source": [
    "parsedInput = Tokenizer('Tokenizer.txt')\n",
    "parsedInput.printFreq()"
   ]
  }
 ],
 "metadata": {
  "kernelspec": {
   "display_name": "Python 3",
   "language": "python",
   "name": "python3"
  },
  "language_info": {
   "codemirror_mode": {
    "name": "ipython",
    "version": 3
   },
   "file_extension": ".py",
   "mimetype": "text/x-python",
   "name": "python",
   "nbconvert_exporter": "python",
   "pygments_lexer": "ipython3",
   "version": "3.10.7"
  },
  "orig_nbformat": 4
 },
 "nbformat": 4,
 "nbformat_minor": 2
}
