{
 "cells": [
  {
   "cell_type": "code",
   "execution_count": 1,
   "metadata": {},
   "outputs": [],
   "source": [
    "from HelperClass import InvertedIndex, Token"
   ]
  },
  {
   "cell_type": "code",
   "execution_count": 2,
   "metadata": {},
   "outputs": [],
   "source": [
    "fTok = Token('fish')\n",
    "fTok.addDoc(1)\n",
    "fTok.addPosition(1,1)\n",
    "fTok.addWeight(1,'title', 1)\n",
    "fTok.addWeight(1,'normal', 1)\n",
    "\n",
    "fTok2 = Token('fish')\n",
    "fTok2.addDoc(2)\n",
    "fTok2.addPosition(2,1)\n",
    "fTok2.addPosition(2,2)\n",
    "fTok2.addWeight(2,'title', 1)\n",
    "fTok2.addWeight(2,'normal', 1)\n",
    "fTok2.addWeight(2,'normal', 2)"
   ]
  },
  {
   "cell_type": "code",
   "execution_count": 3,
   "metadata": {},
   "outputs": [
    {
     "data": {
      "text/plain": [
       "Total Tokens: 1\n",
       "Token: fish\n",
       "\tDocId: 1, Freq: 1\n",
       "\t\tPos: {1}\n",
       "\t\tWeights: {'title': {1}, 'normal': {1}}\n"
      ]
     },
     "execution_count": 3,
     "metadata": {},
     "output_type": "execute_result"
    }
   ],
   "source": [
    "invIndex = InvertedIndex()\n",
    "invIndex.addToken(fTok)\n",
    "invIndex.write()\n",
    "invIndex"
   ]
  },
  {
   "cell_type": "code",
   "execution_count": 4,
   "metadata": {},
   "outputs": [
    {
     "data": {
      "text/plain": [
       "Total Tokens: 1\n",
       "Token: fish\n",
       "\tDocId: 2, Freq: 2\n",
       "\t\tPos: {1, 2}\n",
       "\t\tWeights: {'title': {1}, 'normal': {1, 2}}\n"
      ]
     },
     "execution_count": 4,
     "metadata": {},
     "output_type": "execute_result"
    }
   ],
   "source": [
    "invIndex2 = InvertedIndex()\n",
    "invIndex2.addToken(fTok2)\n",
    "invIndex2.write()\n",
    "invIndex2"
   ]
  },
  {
   "cell_type": "code",
   "execution_count": 5,
   "metadata": {},
   "outputs": [
    {
     "data": {
      "text/plain": [
       "Total Tokens: 1\n",
       "Token: fish\n",
       "\tDocId: 1, Freq: 1\n",
       "\t\tPos: {1}\n",
       "\t\tWeights: {'title': {1}, 'normal': {1}}\n",
       "\tDocId: 2, Freq: 2\n",
       "\t\tPos: {1, 2}\n",
       "\t\tWeights: {'title': {1}, 'normal': {1, 2}}\n"
      ]
     },
     "execution_count": 5,
     "metadata": {},
     "output_type": "execute_result"
    }
   ],
   "source": [
    "fInvIndex = InvertedIndex()\n",
    "fInvIndex.addToken(fTok)\n",
    "fInvIndex.addToken(fTok2)\n",
    "\n",
    "fInvIndex"
   ]
  },
  {
   "cell_type": "code",
   "execution_count": 11,
   "metadata": {},
   "outputs": [
    {
     "name": "stdout",
     "output_type": "stream",
     "text": [
      "Total Tokens: 1\n",
      "Token: fish\n",
      "\n",
      "\n"
     ]
    },
    {
     "data": {
      "text/plain": [
       "Total Tokens: 1\n",
       "Token: fish\n",
       "\tDocId: 1, Freq: 1\n",
       "\t\tPos: {1}\n",
       "\t\tWeights: {'title': {1}, 'normal': {1}}\n",
       "\tDocId: 2, Freq: 2\n",
       "\t\tPos: {1, 2}\n",
       "\t\tWeights: {'title': {1}, 'normal': {1, 2}}\n"
      ]
     },
     "execution_count": 11,
     "metadata": {},
     "output_type": "execute_result"
    }
   ],
   "source": [
    "newIndex = InvertedIndex()\n",
    "newTok = Token('fish')\n",
    "newIndex.addToken(newTok)\n",
    "print(newIndex)\n",
    "\n",
    "newTok.readShelve('Shelve', 'fish')\n",
    "newIndex.addToken(newTok)\n",
    "\n",
    "newIndex"
   ]
  }
 ],
 "metadata": {
  "kernelspec": {
   "display_name": "Python 3",
   "language": "python",
   "name": "python3"
  },
  "language_info": {
   "codemirror_mode": {
    "name": "ipython",
    "version": 3
   },
   "file_extension": ".py",
   "mimetype": "text/x-python",
   "name": "python",
   "nbconvert_exporter": "python",
   "pygments_lexer": "ipython3",
   "version": "3.10.7"
  },
  "orig_nbformat": 4
 },
 "nbformat": 4,
 "nbformat_minor": 2
}
