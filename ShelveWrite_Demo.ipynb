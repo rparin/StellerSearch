{
 "cells": [
  {
   "cell_type": "code",
   "execution_count": 1,
   "metadata": {},
   "outputs": [],
   "source": [
    "from HelperClass import InvertedIndex, Posting, Token"
   ]
  },
  {
   "cell_type": "code",
   "execution_count": 2,
   "metadata": {},
   "outputs": [
    {
     "data": {
      "text/plain": [
       "\tDocId: 1, Freq: 2\n",
       "\t\tPositions: {1, 2}\n",
       "\t\tFields:\n",
       "\t\t\ttitle:{1, 2}\n",
       "\t\t\tnormal:{3}\n",
       "\t\t\tbold:{4}"
      ]
     },
     "execution_count": 2,
     "metadata": {},
     "output_type": "execute_result"
    }
   ],
   "source": [
    "fishP = Posting(1)\n",
    "fishP.addPosition(1)\n",
    "fishP.addPosition(2)\n",
    "fishP.addWeight('title', 1)\n",
    "fishP.addWeight('title', 2)\n",
    "fishP.addWeight('normal', 3)\n",
    "fishP.addWeight('bold', 4)\n",
    "\n",
    "fishP2 = Posting(2)\n",
    "fishP2.addPosition(3)\n",
    "fishP2.addPosition(7)\n",
    "fishP2.addPosition(10)\n",
    "fishP2.addWeight('title', 5)\n",
    "fishP2.addWeight('title', 9)\n",
    "fishP2.addWeight('bold', 4)\n",
    "\n",
    "fishP\n"
   ]
  },
  {
   "cell_type": "code",
   "execution_count": 3,
   "metadata": {},
   "outputs": [
    {
     "data": {
      "text/plain": [
       "'1:dict(weights);2:dict(weights);'"
      ]
     },
     "execution_count": 3,
     "metadata": {},
     "output_type": "execute_result"
    }
   ],
   "source": [
    "'key = Term'\n",
    "'Value Below F#0 (DocId)'\n",
    "'1,2,3,4,5'\n",
    "\n",
    "'Value Below F#1 (Freq)'\n",
    "'DocId:Freq-Positions'\n",
    "'1:2;2:2;'\n",
    "\n",
    "'Value Below F#2 (Positions)'\n",
    "'DocId:Freq-Positions'\n",
    "'1:1,2;2:1,2,3;'\n",
    "\n",
    "'Value Below F#3 (Weights)'\n",
    "'1:dict(weights);2:dict(weights);'"
   ]
  },
  {
   "cell_type": "code",
   "execution_count": 4,
   "metadata": {},
   "outputs": [
    {
     "data": {
      "text/plain": [
       "'1:2;'"
      ]
     },
     "execution_count": 4,
     "metadata": {},
     "output_type": "execute_result"
    }
   ],
   "source": [
    "fishP.getFreqStr()"
   ]
  },
  {
   "cell_type": "code",
   "execution_count": 5,
   "metadata": {},
   "outputs": [
    {
     "data": {
      "text/plain": [
       "'1:1,2;'"
      ]
     },
     "execution_count": 5,
     "metadata": {},
     "output_type": "execute_result"
    }
   ],
   "source": [
    "fishP.getPosStr()"
   ]
  },
  {
   "cell_type": "code",
   "execution_count": 6,
   "metadata": {},
   "outputs": [
    {
     "data": {
      "text/plain": [
       "'1-title:1,2,normal:3,bold:4;'"
      ]
     },
     "execution_count": 6,
     "metadata": {},
     "output_type": "execute_result"
    }
   ],
   "source": [
    "fishP.getFieldStr()"
   ]
  },
  {
   "cell_type": "code",
   "execution_count": 7,
   "metadata": {},
   "outputs": [],
   "source": [
    "fishTok = Token('fish')\n",
    "nTok = Token('notFish')\n",
    "fishTok.addPosting(fishP)\n",
    "fishTok.addPosting(fishP2)\n",
    "nTok.addPosting(fishP2)"
   ]
  },
  {
   "cell_type": "code",
   "execution_count": 8,
   "metadata": {},
   "outputs": [],
   "source": [
    "invIndex = InvertedIndex()\n",
    "invIndex.addToken(fishTok)\n",
    "invIndex.addToken(nTok)\n",
    "invIndex.write()"
   ]
  },
  {
   "cell_type": "code",
   "execution_count": 13,
   "metadata": {},
   "outputs": [],
   "source": [
    "import shelve\n",
    "filePath = 'Shelve' #Create this folder\n",
    "def readShelve(filePath:str, token:str):\n",
    "    with shelve.open(f'{filePath}/DocId', 'c') as shelf:\n",
    "        print(shelf[token])\n",
    "\n",
    "    with shelve.open(f'{filePath}/Freq', 'c') as shelf:\n",
    "        print(shelf[token])\n",
    "\n",
    "    with shelve.open(f'{filePath}/Pos', 'c') as shelf:\n",
    "        print(shelf[token])\n",
    "\n",
    "    with shelve.open(f'{filePath}/Fields', 'c') as shelf:\n",
    "        print(shelf[token])"
   ]
  },
  {
   "cell_type": "code",
   "execution_count": 10,
   "metadata": {},
   "outputs": [
    {
     "name": "stdout",
     "output_type": "stream",
     "text": [
      "1,2\n",
      "1:2;2:3;\n",
      "1:1,2;2:10,3,7;\n",
      "1-title:1,2,normal:3,bold:4;2-title:9,5,bold:4;\n"
     ]
    }
   ],
   "source": [
    "readShelve(filePath, 'fish')"
   ]
  },
  {
   "cell_type": "code",
   "execution_count": 18,
   "metadata": {},
   "outputs": [
    {
     "name": "stdout",
     "output_type": "stream",
     "text": [
      "1\n",
      "1:1;\n",
      "1:16;\n",
      "1-normal:16;\n"
     ]
    }
   ],
   "source": [
    "readShelve('DevShelve', 'fall')"
   ]
  }
 ],
 "metadata": {
  "kernelspec": {
   "display_name": "Python 3",
   "language": "python",
   "name": "python3"
  },
  "language_info": {
   "codemirror_mode": {
    "name": "ipython",
    "version": 3
   },
   "file_extension": ".py",
   "mimetype": "text/x-python",
   "name": "python",
   "nbconvert_exporter": "python",
   "pygments_lexer": "ipython3",
   "version": "3.10.7"
  },
  "orig_nbformat": 4
 },
 "nbformat": 4,
 "nbformat_minor": 2
}
