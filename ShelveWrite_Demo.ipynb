{
 "cells": [
  {
   "cell_type": "code",
   "execution_count": 1,
   "metadata": {},
   "outputs": [],
   "source": [
    "from HelperClass import InvertedIndex, Posting, Token, ShelveDB"
   ]
  },
  {
   "cell_type": "code",
   "execution_count": 2,
   "metadata": {},
   "outputs": [
    {
     "data": {
      "text/plain": [
       "\tDocId: 1, Freq: 2\n",
       "\t\tPositions: {1, 2}\n",
       "\t\tFields:None"
      ]
     },
     "execution_count": 2,
     "metadata": {},
     "output_type": "execute_result"
    }
   ],
   "source": [
    "fishP = Posting(1)\n",
    "fishP.addPosition(1)\n",
    "fishP.addPosition(2)\n",
    "\n",
    "fishP2 = Posting(2)\n",
    "fishP2.addPosition(3)\n",
    "fishP2.addPosition(7)\n",
    "fishP2.addPosition(10)\n",
    "\n",
    "fishP"
   ]
  },
  {
   "cell_type": "code",
   "execution_count": 3,
   "metadata": {},
   "outputs": [],
   "source": [
    "fishTok = Token('fish')\n",
    "nTok = Token('notFish')\n",
    "fishTok.addPosting(fishP)\n",
    "fishTok.addPosting(fishP2)\n",
    "nTok.addPosting(fishP2)"
   ]
  },
  {
   "cell_type": "code",
   "execution_count": 4,
   "metadata": {},
   "outputs": [
    {
     "data": {
      "text/plain": [
       "Total Tokens: 2\n",
       "Token: fish\n",
       "DocId: 1, Pos: \tDocId: 1, Freq: 2\n",
       "\t\tPositions: {1, 2}\n",
       "\t\tFields:None\n",
       "\n",
       "DocId: 2, Pos: \tDocId: 2, Freq: 3\n",
       "\t\tPositions: {10, 3, 7}\n",
       "\t\tFields:None\n",
       "\n",
       "\n",
       "Token: notFish\n",
       "DocId: 2, Pos: \tDocId: 2, Freq: 3\n",
       "\t\tPositions: {10, 3, 7}\n",
       "\t\tFields:None\n",
       "\n"
      ]
     },
     "execution_count": 4,
     "metadata": {},
     "output_type": "execute_result"
    }
   ],
   "source": [
    "invIndex = InvertedIndex()\n",
    "invIndex.addToken(fishTok)\n",
    "invIndex.addToken(nTok)\n",
    "# invIndex.write()\n",
    "invIndex"
   ]
  },
  {
   "cell_type": "code",
   "execution_count": 29,
   "metadata": {},
   "outputs": [
    {
     "name": "stdout",
     "output_type": "stream",
     "text": [
      "{'title': {2, 3}, 'normal': {4}}\n"
     ]
    }
   ],
   "source": [
    "from collections import defaultdict\n",
    "\n",
    "_weights = defaultdict(lambda: dict)\n",
    "\n",
    "def addWeight(docId, field, pos):\n",
    "    if docId in _weights:\n",
    "        if field in _weights[docId]:\n",
    "            _weights[docId][field].add(pos)\n",
    "        else:\n",
    "            _weights[docId][field] = {pos}\n",
    "    else:\n",
    "        _weights[docId] = {field:{pos}}\n",
    "\n",
    "\n",
    "addWeight(1,'title', 2)\n",
    "addWeight(1,'title', 3)\n",
    "addWeight(1,'normal', 4)\n",
    "addWeight(2,'normal', 5)\n",
    "addWeight(2,'title', 1)\n",
    "\n",
    "\n",
    "print(dict(_weights[1]))"
   ]
  },
  {
   "cell_type": "code",
   "execution_count": 5,
   "metadata": {},
   "outputs": [],
   "source": [
    "import shelve\n",
    "def writeTerm(tokenObj:Token):\n",
    "    term = tokenObj.getToken()\n",
    "    with shelve.open(f'Shelve/Terms', 'c') as shelf:\n",
    "        shelf[term] = tokenObj.getAllPostings()"
   ]
  },
  {
   "cell_type": "code",
   "execution_count": 6,
   "metadata": {},
   "outputs": [
    {
     "data": {
      "text/plain": [
       "{1: {1, 2}, 2: {3, 7, 10}}"
      ]
     },
     "execution_count": 6,
     "metadata": {},
     "output_type": "execute_result"
    }
   ],
   "source": [
    "invIndex['fish'].getAllPositions()"
   ]
  },
  {
   "cell_type": "code",
   "execution_count": 7,
   "metadata": {},
   "outputs": [
    {
     "data": {
      "text/plain": [
       "{1, 2}"
      ]
     },
     "execution_count": 7,
     "metadata": {},
     "output_type": "execute_result"
    }
   ],
   "source": [
    "invIndex['fish'].getAllDocId()"
   ]
  },
  {
   "cell_type": "code",
   "execution_count": 8,
   "metadata": {},
   "outputs": [],
   "source": [
    "# writeTerm(invIndex['fish'])"
   ]
  },
  {
   "cell_type": "code",
   "execution_count": 9,
   "metadata": {},
   "outputs": [],
   "source": [
    "def readTerm(term:str):\n",
    "    with shelve.open(f'Shelve/Terms', 'c') as shelf:\n",
    "        if term in shelf:\n",
    "            return shelf[term]\n",
    "        else:\n",
    "            return 'N/A'"
   ]
  },
  {
   "cell_type": "code",
   "execution_count": 10,
   "metadata": {},
   "outputs": [],
   "source": [
    "# readTerm('fish')"
   ]
  }
 ],
 "metadata": {
  "kernelspec": {
   "display_name": "Python 3",
   "language": "python",
   "name": "python3"
  },
  "language_info": {
   "codemirror_mode": {
    "name": "ipython",
    "version": 3
   },
   "file_extension": ".py",
   "mimetype": "text/x-python",
   "name": "python",
   "nbconvert_exporter": "python",
   "pygments_lexer": "ipython3",
   "version": "3.10.7"
  },
  "orig_nbformat": 4
 },
 "nbformat": 4,
 "nbformat_minor": 2
}
