{
 "cells": [
  {
   "cell_type": "code",
   "execution_count": 1,
   "metadata": {},
   "outputs": [],
   "source": [
    "from HelperClass import HTMLTokenizer, InvertedIndex\n",
    "from helper import cleanHtml, tokenizeHtml"
   ]
  },
  {
   "cell_type": "code",
   "execution_count": 2,
   "metadata": {},
   "outputs": [],
   "source": [
    "text_file = open(\"simple.html\", \"r\", encoding='utf-8')\n",
    "htmlContent = text_file.read()\n",
    "text_file.close()"
   ]
  },
  {
   "cell_type": "code",
   "execution_count": 3,
   "metadata": {},
   "outputs": [
    {
     "name": "stdout",
     "output_type": "stream",
     "text": [
      "<html>\n",
      "  <head>\n",
      "    <title>My page</title>\n",
      "  </head>\n",
      "  <body>\n",
      "    <h2>Welcome to my <a href=\"#\">page</a></h2>\n",
      "    <p>This is the first paragraph</p>\n",
      "    .\n",
      "    \n",
      "  </body>\n",
      "</html>\n"
     ]
    }
   ],
   "source": [
    "print(cleanHtml(htmlContent))"
   ]
  },
  {
   "cell_type": "code",
   "execution_count": 4,
   "metadata": {},
   "outputs": [
    {
     "name": "stdout",
     "output_type": "stream",
     "text": [
      "531\n",
      "Total Tokens: 9\n",
      "Token: my\n",
      "\tDocId: 1, Freq: 2                 \n",
      "\t\tPos: {0, 4}\n",
      "\t\tWeights: {'title': {0}, 'h2': {4}}\n",
      "Token: page\n",
      "\tDocId: 1, Freq: 2                 \n",
      "\t\tPos: {1, 5}\n",
      "\t\tWeights: {'title': {1}, 'h2': {5}}\n",
      "Token: welcom\n",
      "\tDocId: 1, Freq: 1                 \n",
      "\t\tPos: {2}\n",
      "\t\tWeights: {'h2': {2}}\n",
      "Token: to\n",
      "\tDocId: 1, Freq: 1                 \n",
      "\t\tPos: {3}\n",
      "\t\tWeights: {'h2': {3}}\n",
      "Token: thi\n",
      "\tDocId: 1, Freq: 1                 \n",
      "\t\tPos: {6}\n",
      "\t\tWeights: {'normal': {6}}\n",
      "Token: is\n",
      "\tDocId: 1, Freq: 1                 \n",
      "\t\tPos: {7}\n",
      "\t\tWeights: {'normal': {7}}\n",
      "Token: the\n",
      "\tDocId: 1, Freq: 1                 \n",
      "\t\tPos: {8}\n",
      "\t\tWeights: {'normal': {8}}\n",
      "Token: first\n",
      "\tDocId: 1, Freq: 1                 \n",
      "\t\tPos: {9}\n",
      "\t\tWeights: {'normal': {9}}\n",
      "Token: paragraph\n",
      "\tDocId: 1, Freq: 1                 \n",
      "\t\tPos: {10}\n",
      "\t\tWeights: {'normal': {10}}\n"
     ]
    }
   ],
   "source": [
    "invIndex = InvertedIndex()\n",
    "docLen = tokenizeHtml(1, invIndex, htmlContent)\n",
    "print(docLen)\n",
    "print(invIndex)"
   ]
  }
 ],
 "metadata": {
  "kernelspec": {
   "display_name": "Python 3",
   "language": "python",
   "name": "python3"
  },
  "language_info": {
   "codemirror_mode": {
    "name": "ipython",
    "version": 3
   },
   "file_extension": ".py",
   "mimetype": "text/x-python",
   "name": "python",
   "nbconvert_exporter": "python",
   "pygments_lexer": "ipython3",
   "version": "3.10.7"
  },
  "orig_nbformat": 4
 },
 "nbformat": 4,
 "nbformat_minor": 2
}
