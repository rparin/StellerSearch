{
 "cells": [
  {
   "cell_type": "code",
   "execution_count": 1,
   "metadata": {},
   "outputs": [],
   "source": [
    "from HelperClass import InvertedIndex, Token\n",
    "from helper import cleanHtml, tokenizeHtml"
   ]
  },
  {
   "cell_type": "code",
   "execution_count": 2,
   "metadata": {},
   "outputs": [
    {
     "data": {
      "text/plain": [
       "'utf-8'"
      ]
     },
     "execution_count": 2,
     "metadata": {},
     "output_type": "execute_result"
    }
   ],
   "source": [
    "import json\n",
    "  \n",
    "# Opening JSON file\n",
    "f = open('Res.json')\n",
    "  \n",
    "# returns JSON object as \n",
    "# a dictionary\n",
    "data = json.load(f)\n",
    "data['encoding']"
   ]
  },
  {
   "cell_type": "code",
   "execution_count": 3,
   "metadata": {},
   "outputs": [],
   "source": [
    "text_file = open(\"simple.html\", \"r\", encoding='utf-8')\n",
    "htmlContent = text_file.read()\n",
    "text_file.close()"
   ]
  },
  {
   "cell_type": "code",
   "execution_count": 4,
   "metadata": {},
   "outputs": [
    {
     "name": "stdout",
     "output_type": "stream",
     "text": [
      "<html>\n",
      "  <head>\n",
      "    <title>My page</title>\n",
      "  </head>\n",
      "  <body>\n",
      "    <h2>Welcome to my <a href=\"#\">page</a></h2>\n",
      "    <p>This is the first paragraph</p>\n",
      "    <p>Pride cometh before the fall</p>\n",
      "    .\n",
      "    \n",
      "  </body>\n",
      "</html>\n"
     ]
    }
   ],
   "source": [
    "print(cleanHtml(htmlContent))"
   ]
  },
  {
   "cell_type": "code",
   "execution_count": null,
   "metadata": {},
   "outputs": [],
   "source": [
    "invIndex = InvertedIndex() #Create inverted index to hold tokens from parser"
   ]
  },
  {
   "cell_type": "code",
   "execution_count": 17,
   "metadata": {},
   "outputs": [
    {
     "name": "stdout",
     "output_type": "stream",
     "text": [
      "Total Tokens: 13\n",
      "Token: my\n",
      "\tDocId: 1, Freq: 2\n",
      "\t\tPos: {1, 5}\n",
      "\t\tWeights: {'title': {1}, 'h2': {5}}\n",
      "\tDocId: 2, Freq: 2\n",
      "\t\tPos: {1, 5}\n",
      "\t\tWeights: {'title': {1}, 'h2': {5}}\n",
      "\n",
      "Token: page\n",
      "\tDocId: 1, Freq: 2\n",
      "\t\tPos: {2, 6}\n",
      "\t\tWeights: {'title': {2}, 'h2': {6}, 'a': {6}}\n",
      "\tDocId: 2, Freq: 2\n",
      "\t\tPos: {2, 6}\n",
      "\t\tWeights: {'title': {2}, 'h2': {6}, 'a': {6}}\n",
      "\n",
      "Token: welcom\n",
      "\tDocId: 1, Freq: 1\n",
      "\t\tPos: {3}\n",
      "\t\tWeights: {'h2': {3}}\n",
      "\tDocId: 2, Freq: 1\n",
      "\t\tPos: {3}\n",
      "\t\tWeights: {'h2': {3}}\n",
      "\n",
      "Token: to\n",
      "\tDocId: 1, Freq: 1\n",
      "\t\tPos: {4}\n",
      "\t\tWeights: {'h2': {4}}\n",
      "\tDocId: 2, Freq: 1\n",
      "\t\tPos: {4}\n",
      "\t\tWeights: {'h2': {4}}\n",
      "\n",
      "Token: thi\n",
      "\tDocId: 1, Freq: 1\n",
      "\t\tPos: {7}\n",
      "\t\tWeights: {'normal': {7}}\n",
      "\tDocId: 2, Freq: 1\n",
      "\t\tPos: {7}\n",
      "\t\tWeights: {'normal': {7}}\n",
      "\n",
      "Token: is\n",
      "\tDocId: 1, Freq: 1\n",
      "\t\tPos: {8}\n",
      "\t\tWeights: {'normal': {8}}\n",
      "\tDocId: 2, Freq: 1\n",
      "\t\tPos: {8}\n",
      "\t\tWeights: {'normal': {8}}\n",
      "\n",
      "Token: the\n",
      "\tDocId: 1, Freq: 2\n",
      "\t\tPos: {9, 15}\n",
      "\t\tWeights: {'normal': {9, 15}}\n",
      "\tDocId: 2, Freq: 2\n",
      "\t\tPos: {9, 15}\n",
      "\t\tWeights: {'normal': {9, 15}}\n",
      "\n",
      "Token: first\n",
      "\tDocId: 1, Freq: 1\n",
      "\t\tPos: {10}\n",
      "\t\tWeights: {'normal': {10}}\n",
      "\tDocId: 2, Freq: 1\n",
      "\t\tPos: {10}\n",
      "\t\tWeights: {'normal': {10}}\n",
      "\n",
      "Token: paragraph\n",
      "\tDocId: 1, Freq: 1\n",
      "\t\tPos: {11}\n",
      "\t\tWeights: {'normal': {11}}\n",
      "\tDocId: 2, Freq: 1\n",
      "\t\tPos: {11}\n",
      "\t\tWeights: {'normal': {11}}\n",
      "\n",
      "Token: pride\n",
      "\tDocId: 1, Freq: 1\n",
      "\t\tPos: {12}\n",
      "\t\tWeights: {'normal': {12}}\n",
      "\tDocId: 2, Freq: 1\n",
      "\t\tPos: {12}\n",
      "\t\tWeights: {'normal': {12}}\n",
      "\n",
      "Token: cometh\n",
      "\tDocId: 1, Freq: 1\n",
      "\t\tPos: {13}\n",
      "\t\tWeights: {'normal': {13}}\n",
      "\tDocId: 2, Freq: 1\n",
      "\t\tPos: {13}\n",
      "\t\tWeights: {'normal': {13}}\n",
      "\n",
      "Token: befor\n",
      "\tDocId: 1, Freq: 1\n",
      "\t\tPos: {14}\n",
      "\t\tWeights: {'normal': {14}}\n",
      "\tDocId: 2, Freq: 1\n",
      "\t\tPos: {14}\n",
      "\t\tWeights: {'normal': {14}}\n",
      "\n",
      "Token: fall\n",
      "\tDocId: 1, Freq: 1\n",
      "\t\tPos: {16}\n",
      "\t\tWeights: {'normal': {16}}\n",
      "\tDocId: 2, Freq: 1\n",
      "\t\tPos: {16}\n",
      "\t\tWeights: {'normal': {16}}\n",
      "\n",
      "\n"
     ]
    }
   ],
   "source": [
    "#Cleans and parses HTML content into tokens then adds it to Inverted index\n",
    "tokenizeHtml(docId=1, invIndex=invIndex, htmlContent=htmlContent)\n",
    "tokenizeHtml(docId=2, invIndex=invIndex, htmlContent=htmlContent)\n",
    "print(invIndex)"
   ]
  }
 ],
 "metadata": {
  "kernelspec": {
   "display_name": "Python 3",
   "language": "python",
   "name": "python3"
  },
  "language_info": {
   "codemirror_mode": {
    "name": "ipython",
    "version": 3
   },
   "file_extension": ".py",
   "mimetype": "text/x-python",
   "name": "python",
   "nbconvert_exporter": "python",
   "pygments_lexer": "ipython3",
   "version": "3.10.7"
  },
  "orig_nbformat": 4
 },
 "nbformat": 4,
 "nbformat_minor": 2
}
