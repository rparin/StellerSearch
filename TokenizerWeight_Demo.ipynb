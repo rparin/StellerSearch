{
 "cells": [
  {
   "cell_type": "code",
   "execution_count": 1,
   "metadata": {},
   "outputs": [],
   "source": [
    "# import sys  \n",
    "# sys.path.insert(0, './Tokenizer.py')\n",
    "# from Tokenizer import Tokenizer\n",
    "\n",
    "# parsedInput = Tokenizer('Test.json')\n",
    "# parsedInput.printFreq()\n",
    "\n",
    "from HelperClass import HTMLTokenizer\n",
    "from helper import cleanHtml"
   ]
  },
  {
   "cell_type": "code",
   "execution_count": 2,
   "metadata": {},
   "outputs": [
    {
     "data": {
      "text/plain": [
       "'utf-8'"
      ]
     },
     "execution_count": 2,
     "metadata": {},
     "output_type": "execute_result"
    }
   ],
   "source": [
    "import json\n",
    "  \n",
    "# Opening JSON file\n",
    "f = open('Res.json')\n",
    "  \n",
    "# returns JSON object as \n",
    "# a dictionary\n",
    "data = json.load(f)\n",
    "data['encoding']"
   ]
  },
  {
   "cell_type": "code",
   "execution_count": 3,
   "metadata": {},
   "outputs": [],
   "source": [
    "text_file = open(\"simple.html\", \"r\", encoding='utf-8')\n",
    "htmlContent = text_file.read()\n",
    "text_file.close()"
   ]
  },
  {
   "cell_type": "code",
   "execution_count": 4,
   "metadata": {},
   "outputs": [
    {
     "name": "stdout",
     "output_type": "stream",
     "text": [
      "<html>\n",
      "  <head>\n",
      "    <title>My page</title>\n",
      "  </head>\n",
      "  <body>\n",
      "    <h2>Welcome to my <a href=\"#\">page</a></h2>\n",
      "    <p>This is the first paragraph</p>\n",
      "    .\n",
      "    \n",
      "  </body>\n",
      "</html>\n"
     ]
    }
   ],
   "source": [
    "print(cleanHtml(htmlContent))"
   ]
  },
  {
   "cell_type": "code",
   "execution_count": 5,
   "metadata": {},
   "outputs": [
    {
     "name": "stdout",
     "output_type": "stream",
     "text": [
      "My page {'title'}\n",
      "Welcome to my  {'h2'}\n",
      "page {'a', 'h2'}\n",
      "This is the first paragraph {'normal'}\n",
      "\n",
      "    .\n",
      "    \n",
      "   {'normal'}\n"
     ]
    }
   ],
   "source": [
    "parser = HTMLTokenizer()\n",
    "parser.feed(cleanHtml(htmlContent))"
   ]
  }
 ],
 "metadata": {
  "kernelspec": {
   "display_name": "Python 3",
   "language": "python",
   "name": "python3"
  },
  "language_info": {
   "codemirror_mode": {
    "name": "ipython",
    "version": 3
   },
   "file_extension": ".py",
   "mimetype": "text/x-python",
   "name": "python",
   "nbconvert_exporter": "python",
   "pygments_lexer": "ipython3",
   "version": "3.10.7"
  },
  "orig_nbformat": 4
 },
 "nbformat": 4,
 "nbformat_minor": 2
}
