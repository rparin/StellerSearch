{
 "cells": [
  {
   "cell_type": "code",
   "execution_count": 1,
   "metadata": {},
   "outputs": [],
   "source": [
    "# import sys  \n",
    "# sys.path.insert(0, './Tokenizer.py')\n",
    "# from Tokenizer import Tokenizer\n",
    "\n",
    "# parsedInput = Tokenizer('Test.json')\n",
    "# parsedInput.printFreq()\n",
    "\n",
    "from HelperClass import HTMLTokenizer, InvertedIndex\n",
    "from helper import cleanHtml, tokenizeHtml"
   ]
  },
  {
   "cell_type": "code",
   "execution_count": 2,
   "metadata": {},
   "outputs": [
    {
     "data": {
      "text/plain": [
       "'utf-8'"
      ]
     },
     "execution_count": 2,
     "metadata": {},
     "output_type": "execute_result"
    }
   ],
   "source": [
    "import json\n",
    "  \n",
    "# Opening JSON file\n",
    "f = open('Res.json')\n",
    "  \n",
    "# returns JSON object as \n",
    "# a dictionary\n",
    "data = json.load(f)\n",
    "data['encoding']"
   ]
  },
  {
   "cell_type": "code",
   "execution_count": 3,
   "metadata": {},
   "outputs": [],
   "source": [
    "text_file = open(\"simple.html\", \"r\", encoding='utf-8')\n",
    "htmlContent = text_file.read()\n",
    "text_file.close()"
   ]
  },
  {
   "cell_type": "code",
   "execution_count": 4,
   "metadata": {},
   "outputs": [
    {
     "name": "stdout",
     "output_type": "stream",
     "text": [
      "<html>\n",
      "  <head>\n",
      "    <title>My page</title>\n",
      "  </head>\n",
      "  <body>\n",
      "    <h2>Welcome to my <a href=\"#\">page</a></h2>\n",
      "    <p>This is the first paragraph</p>\n",
      "    .\n",
      "    \n",
      "  </body>\n",
      "</html>\n"
     ]
    }
   ],
   "source": [
    "print(cleanHtml(htmlContent))"
   ]
  },
  {
   "cell_type": "code",
   "execution_count": 5,
   "metadata": {},
   "outputs": [
    {
     "name": "stdout",
     "output_type": "stream",
     "text": [
      "Total Tokens: 9\n",
      "Token: my, Total Freq: 2\n",
      "\tDocId: 1, Freq: 2\n",
      "\t\tPositions: {1, 5}\n",
      "\t\tWeights:\n",
      "\t\t\ttitle:{1}\n",
      "\t\t\th2:{5}\n",
      "\n",
      "Token: page, Total Freq: 2\n",
      "\tDocId: 1, Freq: 2\n",
      "\t\tPositions: {2, 6}\n",
      "\t\tWeights:\n",
      "\t\t\ttitle:{2}\n",
      "\t\t\ta:{6}\n",
      "\t\t\th2:{6}\n",
      "\n",
      "Token: welcome, Total Freq: 1\n",
      "\tDocId: 1, Freq: 1\n",
      "\t\tPositions: {3}\n",
      "\t\tWeights:\n",
      "\t\t\th2:{3}\n",
      "\n",
      "Token: to, Total Freq: 1\n",
      "\tDocId: 1, Freq: 1\n",
      "\t\tPositions: {4}\n",
      "\t\tWeights:\n",
      "\t\t\th2:{4}\n",
      "\n",
      "Token: this, Total Freq: 1\n",
      "\tDocId: 1, Freq: 1\n",
      "\t\tPositions: {7}\n",
      "\t\tWeights:\n",
      "\t\t\tnormal:{7}\n",
      "\n",
      "Token: is, Total Freq: 1\n",
      "\tDocId: 1, Freq: 1\n",
      "\t\tPositions: {8}\n",
      "\t\tWeights:\n",
      "\t\t\tnormal:{8}\n",
      "\n",
      "Token: the, Total Freq: 1\n",
      "\tDocId: 1, Freq: 1\n",
      "\t\tPositions: {9}\n",
      "\t\tWeights:\n",
      "\t\t\tnormal:{9}\n",
      "\n",
      "Token: first, Total Freq: 1\n",
      "\tDocId: 1, Freq: 1\n",
      "\t\tPositions: {10}\n",
      "\t\tWeights:\n",
      "\t\t\tnormal:{10}\n",
      "\n",
      "Token: paragraph, Total Freq: 1\n",
      "\tDocId: 1, Freq: 1\n",
      "\t\tPositions: {11}\n",
      "\t\tWeights:\n",
      "\t\t\tnormal:{11}\n",
      "\n",
      "\n"
     ]
    }
   ],
   "source": [
    "invIndex = InvertedIndex() #Create inverted index to hold tokens from parser\n",
    "\n",
    "#Cleans and parses HTML content into tokens then adds it to Inverted index\n",
    "tokenizeHtml(docId=1, invIndex=invIndex, htmlContent=htmlContent)\n",
    "print(invIndex)"
   ]
  }
 ],
 "metadata": {
  "kernelspec": {
   "display_name": "Python 3",
   "language": "python",
   "name": "python3"
  },
  "language_info": {
   "codemirror_mode": {
    "name": "ipython",
    "version": 3
   },
   "file_extension": ".py",
   "mimetype": "text/x-python",
   "name": "python",
   "nbconvert_exporter": "python",
   "pygments_lexer": "ipython3",
   "version": "3.10.7"
  },
  "orig_nbformat": 4
 },
 "nbformat": 4,
 "nbformat_minor": 2
}
