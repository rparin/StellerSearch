{
 "cells": [
  {
   "cell_type": "code",
   "execution_count": null,
   "metadata": {},
   "outputs": [],
   "source": [
    "from HelperClass import InvertedIndex\n",
    "invIndex = InvertedIndex()\n",
    "invIndex.loadAll('DevShelve')"
   ]
  },
  {
   "cell_type": "code",
   "execution_count": null,
   "metadata": {},
   "outputs": [],
   "source": [
    "import math\n",
    "def calculate_idf(df, N = 55382):\n",
    "    idf = math.log((N + 0.1) / (df + 0.1))\n",
    "    return idf\n",
    "\n",
    "import pandas as pd\n",
    "def df_from_dict(dictObj:dict, toInt = False):\n",
    "    df = pd.DataFrame.from_dict(dictObj, orient='index')\n",
    "    if toInt: df = df.astype('int32')\n",
    "    return df.transpose()"
   ]
  },
  {
   "cell_type": "code",
   "execution_count": null,
   "metadata": {},
   "outputs": [],
   "source": [
    "len(invIndex['pos']['artifici'])"
   ]
  },
  {
   "cell_type": "code",
   "execution_count": null,
   "metadata": {},
   "outputs": [],
   "source": [
    "print(len(invIndex['pos']))"
   ]
  },
  {
   "cell_type": "code",
   "execution_count": null,
   "metadata": {},
   "outputs": [],
   "source": [
    "idfDict = {}\n",
    "count = 0\n",
    "for term in invIndex['pos']:\n",
    "    dfCount = len(invIndex['pos'][term])\n",
    "    idf = calculate_idf(dfCount)\n",
    "    df = df_from_dict({term:idf})\n",
    "    df.to_hdf(f'DevHDF5/Idf.hdf5', key=term)\n",
    "    count+=1\n",
    "    print(count, term)"
   ]
  },
  {
   "cell_type": "code",
   "execution_count": null,
   "metadata": {},
   "outputs": [],
   "source": [
    "df = pd.read_hdf('DevHDF5/Idf.hdf5', 'is')"
   ]
  },
  {
   "cell_type": "code",
   "execution_count": null,
   "metadata": {},
   "outputs": [],
   "source": [
    "df.iat[0, 0]"
   ]
  }
 ],
 "metadata": {
  "kernelspec": {
   "display_name": "Python 3",
   "language": "python",
   "name": "python3"
  },
  "language_info": {
   "codemirror_mode": {
    "name": "ipython",
    "version": 3
   },
   "file_extension": ".py",
   "mimetype": "text/x-python",
   "name": "python",
   "nbconvert_exporter": "python",
   "pygments_lexer": "ipython3",
   "version": "3.10.7"
  },
  "orig_nbformat": 4
 },
 "nbformat": 4,
 "nbformat_minor": 2
}
