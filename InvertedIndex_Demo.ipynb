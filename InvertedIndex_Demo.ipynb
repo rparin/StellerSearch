{
 "cells": [
  {
   "cell_type": "code",
   "execution_count": 1,
   "metadata": {},
   "outputs": [],
   "source": [
    "import sys  \n",
    "sys.path.insert(0, './HelperClass.py')\n",
    "from HelperClass import InvertedIndex, Token, Posting"
   ]
  },
  {
   "cell_type": "code",
   "execution_count": 2,
   "metadata": {},
   "outputs": [
    {
     "name": "stdout",
     "output_type": "stream",
     "text": [
      "\tDocId: 1, Freq: 2\n",
      "\t\tPositions: {1, 2}\n",
      "\t\tWeights:\n",
      "\t\t\ttitle:{1, 2}\n",
      "\t\t\tnormal:{3}\n",
      "\t\t\tbold:{4}\n"
     ]
    }
   ],
   "source": [
    "#Create posting obj to hold positions of where fish token occurs\n",
    "fishP = Posting(1)\n",
    "fishP.addPosition(1)\n",
    "fishP.addPosition(2)\n",
    "fishP.addWeight('title', 1)\n",
    "fishP.addWeight('title', 2)\n",
    "fishP.addWeight('normal', 3)\n",
    "fishP.addWeight('bold', 4)\n",
    "\n",
    "fishP2 = Posting(2)\n",
    "fishP2.addPosition(3)\n",
    "fishP2.addPosition(7)\n",
    "fishP2.addPosition(10)\n",
    "fishP2.addWeight('title', 5)\n",
    "fishP2.addWeight('title', 9)\n",
    "fishP2.addWeight('bold', 4)\n",
    "\n",
    "print(fishP)"
   ]
  },
  {
   "cell_type": "code",
   "execution_count": 3,
   "metadata": {},
   "outputs": [
    {
     "name": "stdout",
     "output_type": "stream",
     "text": [
      "Token: fish, Total Freq: 5\n",
      "\tDocId: 1, Freq: 2\n",
      "\t\tPositions: {1, 2}\n",
      "\t\tWeights:\n",
      "\t\t\ttitle:{1, 2}\n",
      "\t\t\tnormal:{3}\n",
      "\t\t\tbold:{4}\n",
      "\tDocId: 2, Freq: 3\n",
      "\t\tPositions: {10, 3, 7}\n",
      "\t\tWeights:\n",
      "\t\t\ttitle:{9, 5}\n",
      "\t\t\tbold:{4}\n",
      "\n"
     ]
    }
   ],
   "source": [
    "#Create token obj to hold multiple postings\n",
    "fishTok = Token('fish')\n",
    "fishTok.addPosting(fishP)\n",
    "fishTok.addPosting(fishP2)\n",
    "\n",
    "print(fishTok)"
   ]
  },
  {
   "cell_type": "code",
   "execution_count": 4,
   "metadata": {},
   "outputs": [
    {
     "data": {
      "text/plain": [
       "{1, 2}"
      ]
     },
     "execution_count": 4,
     "metadata": {},
     "output_type": "execute_result"
    }
   ],
   "source": [
    "#Get positions of fish token in doc# 1\n",
    "fishTok[1]['pos']"
   ]
  },
  {
   "cell_type": "code",
   "execution_count": 5,
   "metadata": {},
   "outputs": [
    {
     "name": "stdout",
     "output_type": "stream",
     "text": [
      "\t\tWeights:\n",
      "\t\t\ttitle:{9, 5}\n",
      "\t\t\tbold:{4}\n"
     ]
    }
   ],
   "source": [
    "#Print weights of fish token in doc# 2\n",
    "fishTok[2].printWeights()"
   ]
  },
  {
   "cell_type": "code",
   "execution_count": 6,
   "metadata": {},
   "outputs": [
    {
     "data": {
      "text/plain": [
       "{5, 9}"
      ]
     },
     "execution_count": 6,
     "metadata": {},
     "output_type": "execute_result"
    }
   ],
   "source": [
    "#Get title positions of fish token in doc# 2\n",
    "fishTok[2]['wt']['title']"
   ]
  },
  {
   "cell_type": "code",
   "execution_count": 7,
   "metadata": {},
   "outputs": [
    {
     "name": "stdout",
     "output_type": "stream",
     "text": [
      "Total Tokens: 1\n",
      "Token: fish, Total Freq: 5\n",
      "\tDocId: 1, Freq: 2\n",
      "\t\tPositions: {1, 2}\n",
      "\t\tWeights:\n",
      "\t\t\ttitle:{1, 2}\n",
      "\t\t\tnormal:{3}\n",
      "\t\t\tbold:{4}\n",
      "\tDocId: 2, Freq: 3\n",
      "\t\tPositions: {10, 3, 7}\n",
      "\t\tWeights:\n",
      "\t\t\ttitle:{9, 5}\n",
      "\t\t\tbold:{4}\n",
      "\n",
      "\n"
     ]
    }
   ],
   "source": [
    "invIndex = InvertedIndex()\n",
    "invIndex.addToken(fishTok)\n",
    "\n",
    "print(invIndex)"
   ]
  },
  {
   "cell_type": "code",
   "execution_count": 8,
   "metadata": {},
   "outputs": [
    {
     "data": {
      "text/plain": [
       "Total Tokens: 2\n",
       "Token: fish, Total Freq: 5\n",
       "\tDocId: 1, Freq: 2\n",
       "\t\tPositions: {1, 2}\n",
       "\t\tWeights:\n",
       "\t\t\ttitle:{1, 2}\n",
       "\t\t\tnormal:{3}\n",
       "\t\t\tbold:{4}\n",
       "\tDocId: 2, Freq: 3\n",
       "\t\tPositions: {10, 3, 7}\n",
       "\t\tWeights:\n",
       "\t\t\ttitle:{9, 5}\n",
       "\t\t\tbold:{4}\n",
       "\n",
       "Token: tropical, Total Freq: 2\n",
       "\tDocId: 1, Freq: 2\n",
       "\t\tPositions: {1, 2}\n",
       "\t\tWeights:\n",
       "\t\t\ttitle:{1, 2}\n",
       "\t\t\tnormal:{3}\n",
       "\t\t\tbold:{4}\n"
      ]
     },
     "execution_count": 8,
     "metadata": {},
     "output_type": "execute_result"
    }
   ],
   "source": [
    "#Create new Token using old posting obj\n",
    "tropicalTok = Token('tropical')\n",
    "tropicalTok.addPosting(fishP)\n",
    "\n",
    "invIndex.addToken(tropicalTok)\n",
    "\n",
    "invIndex"
   ]
  },
  {
   "cell_type": "code",
   "execution_count": 9,
   "metadata": {},
   "outputs": [
    {
     "data": {
      "text/plain": [
       "Token: fish, Total Freq: 5\n",
       "\tDocId: 1, Freq: 2\n",
       "\t\tPositions: {1, 2}\n",
       "\t\tWeights:\n",
       "\t\t\ttitle:{1, 2}\n",
       "\t\t\tnormal:{3}\n",
       "\t\t\tbold:{4}\n",
       "\tDocId: 2, Freq: 3\n",
       "\t\tPositions: {10, 3, 7}\n",
       "\t\tWeights:\n",
       "\t\t\ttitle:{9, 5}\n",
       "\t\t\tbold:{4}"
      ]
     },
     "execution_count": 9,
     "metadata": {},
     "output_type": "execute_result"
    }
   ],
   "source": [
    "#Get all fish postings in inverted index\n",
    "invIndex['fish']"
   ]
  },
  {
   "cell_type": "code",
   "execution_count": 10,
   "metadata": {},
   "outputs": [
    {
     "data": {
      "text/plain": [
       "Token: tropical, Total Freq: 2\n",
       "\tDocId: 1, Freq: 2\n",
       "\t\tPositions: {1, 2}\n",
       "\t\tWeights:\n",
       "\t\t\ttitle:{1, 2}\n",
       "\t\t\tnormal:{3}\n",
       "\t\t\tbold:{4}"
      ]
     },
     "execution_count": 10,
     "metadata": {},
     "output_type": "execute_result"
    }
   ],
   "source": [
    "#Get all tropical postings in inverted index\n",
    "invIndex['tropical']"
   ]
  },
  {
   "cell_type": "code",
   "execution_count": 11,
   "metadata": {},
   "outputs": [
    {
     "data": {
      "text/plain": [
       "\tDocId: 1, Freq: 3\n",
       "\t\tPositions: {1, 2, 3}\n",
       "\t\tWeights:\n",
       "\t\t\ttitle:{1, 2}\n",
       "\t\t\tnormal:{3}\n",
       "\t\t\tbold:{4}"
      ]
     },
     "execution_count": 11,
     "metadata": {},
     "output_type": "execute_result"
    }
   ],
   "source": [
    "#Add position to tropical posting doc#1\n",
    "invIndex['tropical'][1].addPosition(3)\n",
    "invIndex['tropical'][1]"
   ]
  },
  {
   "cell_type": "code",
   "execution_count": 12,
   "metadata": {},
   "outputs": [
    {
     "data": {
      "text/plain": [
       "\tDocId: 1, Freq: 3\n",
       "\t\tPositions: {1, 2, 3}\n",
       "\t\tWeights:\n",
       "\t\t\ttitle:{1, 2}\n",
       "\t\t\tnormal:{3}\n",
       "\t\t\tbold:{4}\n",
       "\t\t\th1:{10}"
      ]
     },
     "execution_count": 12,
     "metadata": {},
     "output_type": "execute_result"
    }
   ],
   "source": [
    "#Add new weight field to tropical posting\n",
    "invIndex['tropical'][1].addWeight('h1',10)\n",
    "invIndex['tropical'][1]"
   ]
  },
  {
   "cell_type": "code",
   "execution_count": 13,
   "metadata": {},
   "outputs": [
    {
     "data": {
      "text/plain": [
       "{3}"
      ]
     },
     "execution_count": 13,
     "metadata": {},
     "output_type": "execute_result"
    }
   ],
   "source": [
    "#Get tropical normal weight in inverted index for doc 1\n",
    "invIndex['tropical'][1]['wt']['normal']"
   ]
  },
  {
   "cell_type": "code",
   "execution_count": 14,
   "metadata": {},
   "outputs": [
    {
     "data": {
      "text/plain": [
       "{1, 2, 3}"
      ]
     },
     "execution_count": 14,
     "metadata": {},
     "output_type": "execute_result"
    }
   ],
   "source": [
    "#Get all tropical positions in inverted index for doc 1\n",
    "invIndex['tropical'][1]['pos']"
   ]
  },
  {
   "cell_type": "code",
   "execution_count": 15,
   "metadata": {},
   "outputs": [
    {
     "name": "stdout",
     "output_type": "stream",
     "text": [
      "Token: tropical, Total Freq: 2\n",
      "\tDocId: 1, Freq: 3\n",
      "\t\tPositions: {1, 2, 3}\n",
      "\t\tWeights:\n",
      "\t\t\ttitle:{1, 2}\n",
      "\t\t\tnormal:{3}\n",
      "\t\t\tbold:{4}\n",
      "\t\t\th1:{10}\n",
      "\n"
     ]
    }
   ],
   "source": [
    "#Check if tropical token exists in invIndex\n",
    "if 'tropical' in invIndex:\n",
    "    print(invIndex['tropical'])"
   ]
  },
  {
   "cell_type": "code",
   "execution_count": 16,
   "metadata": {},
   "outputs": [
    {
     "ename": "AssertionError",
     "evalue": "Token 'IDK' does NOT exist!",
     "output_type": "error",
     "traceback": [
      "\u001b[1;31m---------------------------------------------------------------------------\u001b[0m",
      "\u001b[1;31mAssertionError\u001b[0m                            Traceback (most recent call last)",
      "\u001b[1;32md:\\RJ\\UCI\\Ralph School\\2023 Spring\\CS 121\\Assignments\\A3WebSearch\\InvertDemov2.ipynb Cell 16\u001b[0m in \u001b[0;36m<cell line: 2>\u001b[1;34m()\u001b[0m\n\u001b[0;32m      <a href='vscode-notebook-cell:/d%3A/RJ/UCI/Ralph%20School/2023%20Spring/CS%20121/Assignments/A3WebSearch/InvertDemov2.ipynb#X15sZmlsZQ%3D%3D?line=0'>1</a>\u001b[0m \u001b[39m#Get all a NON existing token in inverted index\u001b[39;00m\n\u001b[1;32m----> <a href='vscode-notebook-cell:/d%3A/RJ/UCI/Ralph%20School/2023%20Spring/CS%20121/Assignments/A3WebSearch/InvertDemov2.ipynb#X15sZmlsZQ%3D%3D?line=1'>2</a>\u001b[0m invIndex[\u001b[39m'\u001b[39;49m\u001b[39mIDK\u001b[39;49m\u001b[39m'\u001b[39;49m]\n",
      "File \u001b[1;32md:\\RJ\\UCI\\Ralph School\\2023 Spring\\CS 121\\Assignments\\A3WebSearch\\HelperClass.py:118\u001b[0m, in \u001b[0;36mInvertedIndex.__getitem__\u001b[1;34m(self, tok)\u001b[0m\n\u001b[0;32m    117\u001b[0m \u001b[39mdef\u001b[39;00m \u001b[39m__getitem__\u001b[39m(\u001b[39mself\u001b[39m, tok):\n\u001b[1;32m--> 118\u001b[0m     \u001b[39massert\u001b[39;00m tok \u001b[39min\u001b[39;00m \u001b[39mself\u001b[39m\u001b[39m.\u001b[39m_index, \u001b[39mf\u001b[39m\u001b[39m\"\u001b[39m\u001b[39mToken \u001b[39m\u001b[39m'\u001b[39m\u001b[39m{\u001b[39;00mtok\u001b[39m}\u001b[39;00m\u001b[39m'\u001b[39m\u001b[39m does NOT exist!\u001b[39m\u001b[39m\"\u001b[39m\n\u001b[0;32m    119\u001b[0m     \u001b[39mreturn\u001b[39;00m \u001b[39mself\u001b[39m\u001b[39m.\u001b[39m_index[tok]\n",
      "\u001b[1;31mAssertionError\u001b[0m: Token 'IDK' does NOT exist!"
     ]
    }
   ],
   "source": [
    "#Get all a NON existing token in inverted index\n",
    "invIndex['IDK']"
   ]
  }
 ],
 "metadata": {
  "kernelspec": {
   "display_name": "Python 3",
   "language": "python",
   "name": "python3"
  },
  "language_info": {
   "codemirror_mode": {
    "name": "ipython",
    "version": 3
   },
   "file_extension": ".py",
   "mimetype": "text/x-python",
   "name": "python",
   "nbconvert_exporter": "python",
   "pygments_lexer": "ipython3",
   "version": "3.10.7"
  },
  "orig_nbformat": 4
 },
 "nbformat": 4,
 "nbformat_minor": 2
}
