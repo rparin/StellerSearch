{
 "cells": [
  {
   "cell_type": "code",
   "execution_count": null,
   "metadata": {},
   "outputs": [],
   "source": [
    "import sys  \n",
    "sys.path.insert(0, './HelperClass.py')\n",
    "from HelperClass import InvertedIndex, Token"
   ]
  },
  {
   "cell_type": "code",
   "execution_count": null,
   "metadata": {},
   "outputs": [],
   "source": [
    "fTok = Token('fish')\n",
    "fTok.addDoc(1)\n",
    "fTok.addPosition(1,1)\n",
    "fTok.addWeight(1,'title', 1)\n",
    "fTok.addWeight(1,'normal', 1)\n",
    "\n",
    "fTok.addDoc(2)\n",
    "fTok.addPosition(2,1)\n",
    "fTok.addPosition(2,2)\n",
    "fTok.addWeight(2,'title', 1)\n",
    "fTok.addWeight(2,'normal', 1)\n",
    "fTok.addWeight(2,'normal', 2)\n",
    "fTok"
   ]
  },
  {
   "cell_type": "code",
   "execution_count": null,
   "metadata": {},
   "outputs": [],
   "source": [
    "tropTok = Token('Tropical')\n",
    "tropTok.addDoc(1)\n",
    "tropTok.addPosition(1,10)\n",
    "tropTok.addWeight(1,'title', 12)\n",
    "tropTok.addWeight(1,'normal', 11)"
   ]
  },
  {
   "cell_type": "code",
   "execution_count": null,
   "metadata": {},
   "outputs": [],
   "source": [
    "invIndex = InvertedIndex()\n",
    "\n",
    "#Add tokens to inverted index\n",
    "invIndex.addToken(fTok)\n",
    "invIndex.addToken(tropTok)\n",
    "\n",
    "print(invIndex)"
   ]
  },
  {
   "cell_type": "code",
   "execution_count": null,
   "metadata": {},
   "outputs": [],
   "source": [
    "#Access fish term\n",
    "invIndex['fish']"
   ]
  },
  {
   "cell_type": "code",
   "execution_count": null,
   "metadata": {},
   "outputs": [],
   "source": [
    "#Access fish term positions in document 1\n",
    "#CHECK IF DOCID exists first\n",
    "if 1 in invIndex['fish']['pos']:\n",
    "    print(invIndex['fish']['pos'][1])"
   ]
  },
  {
   "cell_type": "code",
   "execution_count": null,
   "metadata": {},
   "outputs": [],
   "source": [
    "#Access fish term fields in document 1\n",
    "#CHECK IF DOCID exists first\n",
    "if 1 in invIndex['fish']['field']:\n",
    "    print(invIndex['fish']['field'][1])"
   ]
  },
  {
   "cell_type": "code",
   "execution_count": null,
   "metadata": {},
   "outputs": [],
   "source": [
    "#Access unknown type\n",
    "invIndex['fish']['IDK']"
   ]
  },
  {
   "cell_type": "code",
   "execution_count": 1,
   "metadata": {},
   "outputs": [
    {
     "name": "stdout",
     "output_type": "stream",
     "text": [
      "https://aiclub.ics.uci.edu/\n"
     ]
    },
    {
     "data": {
      "text/plain": [
       "390"
      ]
     },
     "execution_count": 1,
     "metadata": {},
     "output_type": "execute_result"
    }
   ],
   "source": [
    "from HelperClass import InvertedIndex, WeightFlags\n",
    "from helper import tokenizeHtml\n",
    "import json\n",
    "import os\n",
    "\n",
    "# Opening JSON file\n",
    "def getJsonData(filePath):\n",
    "    jFile = open(filePath)\n",
    "    data = json.load(jFile)\n",
    "    enc = data['encoding']\n",
    "    jFile.close()\n",
    "    data = ''\n",
    "    jFile = open(filePath, encoding=enc)\n",
    "    data = json.load(jFile)\n",
    "    jFile.close()\n",
    "    url = data['url']\n",
    "    htmlContent = data['content']\n",
    "    return (url, htmlContent)\n",
    "\n",
    "def getJsonFiles(rootDir):\n",
    "    jsonFiles = []\n",
    "    for root, dirs, files in os.walk(rootDir):\n",
    "        for name in files:\n",
    "            if name.endswith((\".json\")):\n",
    "                full_path = os.path.join(root, name)\n",
    "                jsonFiles.append(full_path)\n",
    "    return jsonFiles\n",
    "\n",
    "\n",
    "rootDir = 'D:/RJ/UCI/Ralph School/2023 Spring/CS 121/Assignments/.vscode/Res/DEV'\n",
    "jsonFiles = getJsonFiles(rootDir)\n",
    "\n",
    "docId = 1\n",
    "url, htmlContent = getJsonData(jsonFiles[docId-1])\n",
    "print(url)\n",
    "invIndex = InvertedIndex() #Create inverted index to hold tokens from parser\n",
    "tokenizeHtml(docId=docId, invIndex=invIndex, htmlContent=htmlContent)\n",
    "# print(invIndex)"
   ]
  },
  {
   "cell_type": "code",
   "execution_count": 3,
   "metadata": {},
   "outputs": [
    {
     "name": "stdout",
     "output_type": "stream",
     "text": [
      "{1: {'title': {1}, 'h3': {21, 46}, 'normal': {384, 211}}}\n"
     ]
    },
    {
     "data": {
      "text/plain": [
       "6"
      ]
     },
     "execution_count": 3,
     "metadata": {},
     "output_type": "execute_result"
    }
   ],
   "source": [
    "wFlag = WeightFlags()\n",
    "print(invIndex['field']['artifici'])\n",
    "wFlag.getSum(invIndex['field']['artifici'][1])"
   ]
  }
 ],
 "metadata": {
  "kernelspec": {
   "display_name": "Python 3",
   "language": "python",
   "name": "python3"
  },
  "language_info": {
   "codemirror_mode": {
    "name": "ipython",
    "version": 3
   },
   "file_extension": ".py",
   "mimetype": "text/x-python",
   "name": "python",
   "nbconvert_exporter": "python",
   "pygments_lexer": "ipython3",
   "version": "3.10.7"
  },
  "orig_nbformat": 4
 },
 "nbformat": 4,
 "nbformat_minor": 2
}
