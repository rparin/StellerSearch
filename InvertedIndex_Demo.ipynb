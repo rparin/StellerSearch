{
 "cells": [
  {
   "cell_type": "code",
   "execution_count": 1,
   "metadata": {},
   "outputs": [
    {
     "name": "stdout",
     "output_type": "stream",
     "text": [
      "{1: ({'titles': {(1, 2)}, 'bolded': {(1, 3), (5, 7)}}, {'tropical': {18, 7, 23}})}\n"
     ]
    }
   ],
   "source": [
    "#This cell is a raw example of a single item in our inverted index \n",
    "\n",
    "#Doc information\n",
    "docId = 1\n",
    "weights = {'titles':{1,2,3},'bolded':{5,6,7}}\n",
    "\n",
    "#Posting information\n",
    "positions = {7,18,23}\n",
    "posting = {'tropical': positions}\n",
    "\n",
    "doc = (weights, posting)\n",
    "\n",
    "#Raw Data structure to hold docId with multiple token postings\n",
    "invertedIndex = { docId: doc }\n",
    "print(invertedIndex)"
   ]
  },
  {
   "cell_type": "code",
   "execution_count": 2,
   "metadata": {},
   "outputs": [],
   "source": [
    "import sys  \n",
    "sys.path.insert(0, './HelperClass.py')\n",
    "from HelperClass import InvertedIndex, Posting, Document"
   ]
  },
  {
   "cell_type": "code",
   "execution_count": 3,
   "metadata": {},
   "outputs": [
    {
     "name": "stdout",
     "output_type": "stream",
     "text": [
      "\tToken: fish\n",
      "\t\tPositions: {1, 2}\n"
     ]
    }
   ],
   "source": [
    "#Create posting obj to hold positions of where token occurs\n",
    "fishP = Posting('fish') \n",
    "\n",
    "#Add positions where fish token found\n",
    "fishP.addPosition(1)\n",
    "fishP.addPosition(2)\n",
    "\n",
    "print(fishP)"
   ]
  },
  {
   "cell_type": "code",
   "execution_count": 4,
   "metadata": {},
   "outputs": [
    {
     "name": "stdout",
     "output_type": "stream",
     "text": [
      "\tToken: empty\n",
      "\t\tPositions: None\n"
     ]
    }
   ],
   "source": [
    "emptyP = Posting('empty')\n",
    "print(emptyP)"
   ]
  },
  {
   "cell_type": "code",
   "execution_count": 5,
   "metadata": {},
   "outputs": [
    {
     "name": "stdout",
     "output_type": "stream",
     "text": [
      "DocId: 1\n",
      "\tWeights:\n",
      "\t\ttitle:{1, 20}\n",
      "\t\tnormal:{20}\n",
      "\t\tbold:{4}\n",
      "DocId: 2\n",
      "\tWeights:\n",
      "\t\ttitle:{1}\n"
     ]
    }
   ],
   "source": [
    "#Create doc object to hold weights and multiple posting obj\n",
    "doc1 = Document(1) \n",
    "doc1.addWeight('title',(1))\n",
    "doc1.addWeight('title',(20))\n",
    "doc1.addWeight('normal',(21))\n",
    "doc1.addWeight('bold',(4))\n",
    "\n",
    "doc2 = Document(2)\n",
    "doc2.addWeight('title',(1))\n",
    "\n",
    "print(doc1)\n",
    "print(doc2)"
   ]
  },
  {
   "cell_type": "code",
   "execution_count": 6,
   "metadata": {},
   "outputs": [
    {
     "name": "stdout",
     "output_type": "stream",
     "text": [
      "DocId: 1\n",
      "\tWeights:\n",
      "\t\ttitle:{1, 20}\n",
      "\t\tnormal:{20}\n",
      "\t\tbold:{4}\n",
      "\tToken: fish\n",
      "\t\tPositions: {1, 2}\n",
      "\tToken: empty\n",
      "\t\tPositions: None\n",
      "DocId: 2\n",
      "\tWeights:\n",
      "\t\ttitle:{1}\n",
      "\tToken: empty\n",
      "\t\tPositions: None\n"
     ]
    }
   ],
   "source": [
    "#Add postings to document(s)\n",
    "doc1.addPosting(fishP)\n",
    "doc1.addPosting(emptyP)\n",
    "doc2.addPosting(emptyP)\n",
    "\n",
    "print(doc1)\n",
    "print(doc2)"
   ]
  },
  {
   "cell_type": "code",
   "execution_count": 7,
   "metadata": {},
   "outputs": [
    {
     "name": "stdout",
     "output_type": "stream",
     "text": [
      "Size: 2\n",
      "DocId: 1\n",
      "\tWeights:\n",
      "\t\ttitle:{1, 20}\n",
      "\t\tnormal:{20}\n",
      "\t\tbold:{4}\n",
      "\tToken: fish\n",
      "\t\tPositions: {1, 2}\n",
      "\tToken: empty\n",
      "\t\tPositions: None\n",
      "DocId: 2\n",
      "\tWeights:\n",
      "\t\ttitle:{1}\n",
      "\tToken: empty\n",
      "\t\tPositions: None\n",
      "\n"
     ]
    }
   ],
   "source": [
    "#create inverted index obj to hold multiple documents\n",
    "invIndex = InvertedIndex() \n",
    "invIndex.addDoc(doc1)\n",
    "invIndex.addDoc(doc2)\n",
    "\n",
    "print(invIndex)"
   ]
  },
  {
   "cell_type": "code",
   "execution_count": 8,
   "metadata": {},
   "outputs": [
    {
     "data": {
      "text/plain": [
       "\tToken: fish\n",
       "\t\tPositions: {1, 2}"
      ]
     },
     "execution_count": 8,
     "metadata": {},
     "output_type": "execute_result"
    }
   ],
   "source": [
    "#Go to doc 1 and get fish posting\n",
    "invIndex[1]['fish']"
   ]
  },
  {
   "cell_type": "code",
   "execution_count": 9,
   "metadata": {},
   "outputs": [
    {
     "data": {
      "text/plain": [
       "{1, 2}"
      ]
     },
     "execution_count": 9,
     "metadata": {},
     "output_type": "execute_result"
    }
   ],
   "source": [
    "#Go to doc 1 and get fish posting positions\n",
    "invIndex[1]['fish']['positions']"
   ]
  },
  {
   "cell_type": "code",
   "execution_count": 10,
   "metadata": {},
   "outputs": [
    {
     "name": "stdout",
     "output_type": "stream",
     "text": [
      "\tWeights:\n",
      "\t\ttitle:{1, 20}\n",
      "\t\tnormal:{20}\n",
      "\t\tbold:{4}\n"
     ]
    }
   ],
   "source": [
    "#Go to doc1 and print its weights\n",
    "invIndex[1].printWeights()"
   ]
  },
  {
   "cell_type": "code",
   "execution_count": 11,
   "metadata": {},
   "outputs": [
    {
     "data": {
      "text/plain": [
       "{1, 20}"
      ]
     },
     "execution_count": 11,
     "metadata": {},
     "output_type": "execute_result"
    }
   ],
   "source": [
    "#Go to doc1 and get the positions of where title is\n",
    "invIndex[1].getWeights()['title']"
   ]
  },
  {
   "cell_type": "code",
   "execution_count": 12,
   "metadata": {},
   "outputs": [],
   "source": [
    "#We will go through documents using this data structure\n",
    "\n",
    "#Raw Data structure to hold token and docId sorted by decreasing total frequency of word\n",
    "docId = 1\n",
    "totalCountForDoc = 5\n",
    "counts = { \"tropical\": [(docId,totalCountForDoc), (docId,totalCountForDoc)] }"
   ]
  }
 ],
 "metadata": {
  "kernelspec": {
   "display_name": "Python 3",
   "language": "python",
   "name": "python3"
  },
  "language_info": {
   "codemirror_mode": {
    "name": "ipython",
    "version": 3
   },
   "file_extension": ".py",
   "mimetype": "text/x-python",
   "name": "python",
   "nbconvert_exporter": "python",
   "pygments_lexer": "ipython3",
   "version": "3.10.7"
  },
  "orig_nbformat": 4
 },
 "nbformat": 4,
 "nbformat_minor": 2
}
