{
 "cells": [
  {
   "cell_type": "code",
   "execution_count": 23,
   "metadata": {},
   "outputs": [
    {
     "name": "stdout",
     "output_type": "stream",
     "text": [
      "{'tropical': {1: [{18, 7, 23}, {'titles': (1, 2), 'bolded': {(1, 3), (5, 7)}}]}}\n"
     ]
    }
   ],
   "source": [
    "#This cell is a raw example of a single item in our inverted index \n",
    "\n",
    "docId = 1\n",
    "\n",
    "#Create posting information\n",
    "posting = []\n",
    "postions = {7,18,23}\n",
    "weights = {'titles':(1,2),'bolded':{(1,3),(5,7)}}\n",
    "posting.append(postions)\n",
    "posting.append(weights)\n",
    "\n",
    "\n",
    "#Raw Data structure to hold Token and posting\n",
    "x = { \"tropical\": {docId: posting } }\n",
    "print(x)"
   ]
  },
  {
   "cell_type": "code",
   "execution_count": 24,
   "metadata": {},
   "outputs": [],
   "source": [
    "#Raw Data structure to hold token and docId sorted by decreasing total frequency of word\n",
    "totalCountForDoc = 5\n",
    "counts = { \"tropical\": [(docId,totalCountForDoc), (docId,totalCountForDoc)] }"
   ]
  },
  {
   "cell_type": "code",
   "execution_count": 2,
   "metadata": {},
   "outputs": [],
   "source": [
    "import sys  \n",
    "sys.path.insert(0, './HelperClass.py')\n",
    "from HelperClass import InvertedIndex, Posting"
   ]
  },
  {
   "cell_type": "code",
   "execution_count": 3,
   "metadata": {},
   "outputs": [
    {
     "data": {
      "text/plain": [
       "{1, 2}"
      ]
     },
     "execution_count": 3,
     "metadata": {},
     "output_type": "execute_result"
    }
   ],
   "source": [
    "fishP = Posting()\n",
    "\n",
    "#Add positions where fish token found\n",
    "fishP.addPosition(1)\n",
    "fishP.addPosition(2)\n",
    "fishP.positions"
   ]
  },
  {
   "cell_type": "code",
   "execution_count": 4,
   "metadata": {},
   "outputs": [
    {
     "data": {
      "text/plain": [
       "{(1, 4), (4, 5)}"
      ]
     },
     "execution_count": 4,
     "metadata": {},
     "output_type": "execute_result"
    }
   ],
   "source": [
    "#Add positions where title occurs\n",
    "fishP.addWeight('title',(1,4))\n",
    "fishP.addWeight('title',(4,5))\n",
    "fishP.weights['title']"
   ]
  },
  {
   "cell_type": "code",
   "execution_count": 5,
   "metadata": {},
   "outputs": [
    {
     "data": {
      "text/plain": [
       "{(5, 6), (16, 19)}"
      ]
     },
     "execution_count": 5,
     "metadata": {},
     "output_type": "execute_result"
    }
   ],
   "source": [
    "#Add positions where bold text occurs\n",
    "fishP.addWeight('bold',(5,6))\n",
    "fishP.addWeight('bold',(16,19))\n",
    "fishP.weights['bold']"
   ]
  },
  {
   "cell_type": "code",
   "execution_count": 6,
   "metadata": {},
   "outputs": [
    {
     "name": "stdout",
     "output_type": "stream",
     "text": [
      "\t\tPositions: {1, 2}\n",
      "\t\tWeights:\n",
      "\t\t\ttitle: {(4, 5), (1, 4)}\n",
      "\t\t\tbold: {(16, 19), (5, 6)}\n",
      "\n"
     ]
    }
   ],
   "source": [
    "print(fishP)"
   ]
  },
  {
   "cell_type": "code",
   "execution_count": 7,
   "metadata": {},
   "outputs": [
    {
     "name": "stdout",
     "output_type": "stream",
     "text": [
      "\t\tPositions: None\n",
      "\t\tWeights: None\n"
     ]
    }
   ],
   "source": [
    "emptyP = Posting()\n",
    "print(emptyP)"
   ]
  },
  {
   "cell_type": "code",
   "execution_count": 8,
   "metadata": {},
   "outputs": [
    {
     "name": "stdout",
     "output_type": "stream",
     "text": [
      "DocId: 1\n",
      "\tToken: fish\n",
      "\t\tPositions: {1, 2}\n",
      "\t\tWeights:\n",
      "\t\t\ttitle: {(4, 5), (1, 4)}\n",
      "\t\t\tbold: {(16, 19), (5, 6)}\n",
      "\n",
      "\tToken: tropical\n",
      "\t\tPositions: None\n",
      "\t\tWeights: None\n",
      "DocId: 2\n",
      "\tToken: fish\n",
      "\t\tPositions: {1, 2}\n",
      "\t\tWeights:\n",
      "\t\t\ttitle: {(4, 5), (1, 4)}\n",
      "\t\t\tbold: {(16, 19), (5, 6)}\n",
      "\n",
      "\n",
      "\n"
     ]
    }
   ],
   "source": [
    "invIndex = InvertedIndex() #create inverted index to hold token and posting\n",
    "invIndex.addTokenPosting('fish', fishP)\n",
    "invIndex.addTokenPosting('tropical', emptyP)\n",
    "\n",
    "#Finish reading a document increase count for docId\n",
    "invIndex.incDocId()\n",
    "invIndex.addTokenPosting('fish', fishP)\n",
    "\n",
    "print(invIndex)"
   ]
  }
 ],
 "metadata": {
  "kernelspec": {
   "display_name": "Python 3",
   "language": "python",
   "name": "python3"
  },
  "language_info": {
   "codemirror_mode": {
    "name": "ipython",
    "version": 3
   },
   "file_extension": ".py",
   "mimetype": "text/x-python",
   "name": "python",
   "nbconvert_exporter": "python",
   "pygments_lexer": "ipython3",
   "version": "3.10.7"
  },
  "orig_nbformat": 4
 },
 "nbformat": 4,
 "nbformat_minor": 2
}
