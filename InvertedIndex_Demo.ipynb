{
 "cells": [
  {
   "cell_type": "code",
   "execution_count": 1,
   "metadata": {},
   "outputs": [],
   "source": [
    "import sys  \n",
    "sys.path.insert(0, './HelperClass.py')\n",
    "from HelperClass import InvertedIndex, Token"
   ]
  },
  {
   "cell_type": "code",
   "execution_count": 2,
   "metadata": {},
   "outputs": [
    {
     "data": {
      "text/plain": [
       "Token: fish\n",
       "\tDocId: 1, Freq: 1\n",
       "\t\tPos: {1}\n",
       "\t\tWeights: {'title': {1}, 'normal': {1}}"
      ]
     },
     "execution_count": 2,
     "metadata": {},
     "output_type": "execute_result"
    }
   ],
   "source": [
    "fTok = Token('fish')\n",
    "fTok.addDoc(1)\n",
    "fTok.addPosition(1,1)\n",
    "fTok.addWeight(1,'title', 1)\n",
    "fTok.addWeight(1,'normal', 1)\n",
    "fTok"
   ]
  },
  {
   "cell_type": "code",
   "execution_count": 3,
   "metadata": {},
   "outputs": [],
   "source": [
    "tropTok = Token('Tropical')\n",
    "tropTok.addDoc(1)\n",
    "tropTok.addPosition(1,10)\n",
    "tropTok.addWeight(1,'title', 12)\n",
    "tropTok.addWeight(1,'normal', 11)"
   ]
  },
  {
   "cell_type": "code",
   "execution_count": 4,
   "metadata": {},
   "outputs": [
    {
     "name": "stdout",
     "output_type": "stream",
     "text": [
      "Total Tokens: 2\n",
      "Token: fish\n",
      "\tDocId: 1, Freq: 1\n",
      "\t\tPos: {1}\n",
      "\t\tWeights: {'title': {1}, 'normal': {1}}\n",
      "\n",
      "Token: Tropical\n",
      "\tDocId: 1, Freq: 1\n",
      "\t\tPos: {10}\n",
      "\t\tWeights: {'title': {12}, 'normal': {11}}\n",
      "\n",
      "\n"
     ]
    }
   ],
   "source": [
    "invIndex = InvertedIndex()\n",
    "\n",
    "#Add tokens to inverted index\n",
    "invIndex.addToken(fTok)\n",
    "invIndex.addToken(tropTok)\n",
    "\n",
    "print(invIndex)"
   ]
  },
  {
   "cell_type": "code",
   "execution_count": 5,
   "metadata": {},
   "outputs": [
    {
     "data": {
      "text/plain": [
       "Total Tokens: 2\n",
       "Token: fish\n",
       "\tDocId: 1, Freq: 1\n",
       "\t\tPos: {1}\n",
       "\t\tWeights: {'title': {1}, 'normal': {1}}\n",
       "\tDocId: 2, Freq: 2\n",
       "\t\tPos: {1, 2}\n",
       "\t\tWeights: {'title': {1}, 'normal': {1, 2}}\n",
       "\n",
       "Token: Tropical\n",
       "\tDocId: 1, Freq: 1\n",
       "\t\tPos: {10}\n",
       "\t\tWeights: {'title': {12}, 'normal': {11}}\n"
      ]
     },
     "execution_count": 5,
     "metadata": {},
     "output_type": "execute_result"
    }
   ],
   "source": [
    "fTok = Token('fish')\n",
    "fTok.addDoc(2)\n",
    "fTok.addPosition(2,1)\n",
    "fTok.addPosition(2,2)\n",
    "fTok.addWeight(2,'title', 1)\n",
    "fTok.addWeight(2,'normal', 1)\n",
    "fTok.addWeight(2,'normal', 2)\n",
    "\n",
    "invIndex.addToken(fTok)\n",
    "\n",
    "invIndex"
   ]
  },
  {
   "cell_type": "code",
   "execution_count": 6,
   "metadata": {},
   "outputs": [
    {
     "data": {
      "text/plain": [
       "Token: fish\n",
       "\tDocId: 1, Freq: 1\n",
       "\t\tPos: {1}\n",
       "\t\tWeights: {'title': {1}, 'normal': {1}}\n",
       "\tDocId: 2, Freq: 2\n",
       "\t\tPos: {1, 2}\n",
       "\t\tWeights: {'title': {1}, 'normal': {1, 2}}"
      ]
     },
     "execution_count": 6,
     "metadata": {},
     "output_type": "execute_result"
    }
   ],
   "source": [
    "#Access fish term\n",
    "invIndex['fish']"
   ]
  },
  {
   "cell_type": "code",
   "execution_count": 7,
   "metadata": {},
   "outputs": [
    {
     "name": "stdout",
     "output_type": "stream",
     "text": [
      "{1}\n"
     ]
    }
   ],
   "source": [
    "#Access fish term positions in document 1\n",
    "#CHECK IF DOCID exists first\n",
    "if 1 in invIndex['fish']['pos']:\n",
    "    print(invIndex['fish']['pos'][1])"
   ]
  },
  {
   "cell_type": "code",
   "execution_count": 8,
   "metadata": {},
   "outputs": [
    {
     "name": "stdout",
     "output_type": "stream",
     "text": [
      "{'title': {1}, 'normal': {1}}\n"
     ]
    }
   ],
   "source": [
    "#Access fish term fields in document 1\n",
    "#CHECK IF DOCID exists first\n",
    "if 1 in invIndex['fish']['field']:\n",
    "    print(invIndex['fish']['field'][1])"
   ]
  },
  {
   "cell_type": "code",
   "execution_count": 9,
   "metadata": {},
   "outputs": [
    {
     "ename": "AssertionError",
     "evalue": "Token info 'IDK' does NOT exist!",
     "output_type": "error",
     "traceback": [
      "\u001b[1;31m---------------------------------------------------------------------------\u001b[0m",
      "\u001b[1;31mAssertionError\u001b[0m                            Traceback (most recent call last)",
      "\u001b[1;32md:\\RJ\\UCI\\Ralph School\\2023 Spring\\CS 121\\Assignments\\A3WebSearch\\InvertedIndex_Demo.ipynb Cell 9\u001b[0m in \u001b[0;36m<cell line: 2>\u001b[1;34m()\u001b[0m\n\u001b[0;32m      <a href='vscode-notebook-cell:/d%3A/RJ/UCI/Ralph%20School/2023%20Spring/CS%20121/Assignments/A3WebSearch/InvertedIndex_Demo.ipynb#X10sZmlsZQ%3D%3D?line=0'>1</a>\u001b[0m \u001b[39m#Access unknown type\u001b[39;00m\n\u001b[1;32m----> <a href='vscode-notebook-cell:/d%3A/RJ/UCI/Ralph%20School/2023%20Spring/CS%20121/Assignments/A3WebSearch/InvertedIndex_Demo.ipynb#X10sZmlsZQ%3D%3D?line=1'>2</a>\u001b[0m invIndex[\u001b[39m'\u001b[39;49m\u001b[39mfish\u001b[39;49m\u001b[39m'\u001b[39;49m][\u001b[39m'\u001b[39;49m\u001b[39mIDK\u001b[39;49m\u001b[39m'\u001b[39;49m]\n",
      "File \u001b[1;32md:\\RJ\\UCI\\Ralph School\\2023 Spring\\CS 121\\Assignments\\A3WebSearch\\HelperClass.py:44\u001b[0m, in \u001b[0;36mToken.__getitem__\u001b[1;34m(self, postType)\u001b[0m\n\u001b[0;32m     43\u001b[0m \u001b[39mdef\u001b[39;00m \u001b[39m__getitem__\u001b[39m(\u001b[39mself\u001b[39m, postType:\u001b[39mstr\u001b[39m) \u001b[39m-\u001b[39m\u001b[39m>\u001b[39m \u001b[39mdict\u001b[39m:\n\u001b[1;32m---> 44\u001b[0m     \u001b[39massert\u001b[39;00m postType \u001b[39m==\u001b[39m \u001b[39m'\u001b[39m\u001b[39mpos\u001b[39m\u001b[39m'\u001b[39m \u001b[39mor\u001b[39;00m postType \u001b[39m==\u001b[39m \u001b[39m'\u001b[39m\u001b[39mfield\u001b[39m\u001b[39m'\u001b[39m, \u001b[39mf\u001b[39m\u001b[39m\"\u001b[39m\u001b[39mToken info \u001b[39m\u001b[39m'\u001b[39m\u001b[39m{\u001b[39;00mpostType\u001b[39m}\u001b[39;00m\u001b[39m'\u001b[39m\u001b[39m does NOT exist!\u001b[39m\u001b[39m\"\u001b[39m\n\u001b[0;32m     46\u001b[0m     \u001b[39mif\u001b[39;00m postType \u001b[39m==\u001b[39m \u001b[39m'\u001b[39m\u001b[39mpos\u001b[39m\u001b[39m'\u001b[39m:\n\u001b[0;32m     47\u001b[0m         \u001b[39mreturn\u001b[39;00m \u001b[39mself\u001b[39m\u001b[39m.\u001b[39m_positions\n",
      "\u001b[1;31mAssertionError\u001b[0m: Token info 'IDK' does NOT exist!"
     ]
    }
   ],
   "source": [
    "#Access unknown type\n",
    "invIndex['fish']['IDK']"
   ]
  }
 ],
 "metadata": {
  "kernelspec": {
   "display_name": "Python 3",
   "language": "python",
   "name": "python3"
  },
  "language_info": {
   "codemirror_mode": {
    "name": "ipython",
    "version": 3
   },
   "file_extension": ".py",
   "mimetype": "text/x-python",
   "name": "python",
   "nbconvert_exporter": "python",
   "pygments_lexer": "ipython3",
   "version": "3.10.7"
  },
  "orig_nbformat": 4
 },
 "nbformat": 4,
 "nbformat_minor": 2
}
