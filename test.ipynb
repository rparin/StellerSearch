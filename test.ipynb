{
 "cells": [
  {
   "cell_type": "code",
   "execution_count": 7,
   "metadata": {},
   "outputs": [
    {
     "data": {
      "text/plain": [
       "{'tropical': {1: [{7, 18, 23},\n",
       "   {'titles': (1, 2), 'bolded': [(1, 3), (5, 7)]}]}}"
      ]
     },
     "execution_count": 7,
     "metadata": {},
     "output_type": "execute_result"
    }
   ],
   "source": [
    "docId = 1\n",
    "postion = 2\n",
    "totalCountForDoc = 5\n",
    "query= 'tropical fish'\n",
    "\n",
    "x = { \"tropical\": {docId: [{7,18,23},{'titles':(1,2),'bolded':[(1,3),(5,7)]}]} }\n",
    "counts = { \"tropical\": [(docId,totalCountForDoc), (docId,totalCountForDoc)] }\n",
    "\n",
    "x"
   ]
  }
 ],
 "metadata": {
  "kernelspec": {
   "display_name": "Python 3",
   "language": "python",
   "name": "python3"
  },
  "language_info": {
   "codemirror_mode": {
    "name": "ipython",
    "version": 3
   },
   "file_extension": ".py",
   "mimetype": "text/x-python",
   "name": "python",
   "nbconvert_exporter": "python",
   "pygments_lexer": "ipython3",
   "version": "3.10.7"
  },
  "orig_nbformat": 4
 },
 "nbformat": 4,
 "nbformat_minor": 2
}
