{
 "cells": [
  {
   "cell_type": "code",
   "execution_count": 1,
   "metadata": {
    "dotnet_interactive": {
     "language": "csharp"
    },
    "polyglot_notebook": {
     "kernelName": "csharp"
    }
   },
   "outputs": [],
   "source": [
    "import os\n",
    "import psutil\n",
    "import json\n",
    "import shelve\n",
    "from HelperClass import InvertedIndex, Token\n",
    "from helper import tokenizeHtml\n",
    "\n",
    "rootDir = 'D:\\\\RJ\\\\UCI\\\\Ralph School\\\\2023 Spring\\\\CS 121\\\\Assignments\\\\.vscode\\\\Res\\\\Test'\n",
    "jsonFiles = []\n",
    "for root, dirs, files in os.walk(rootDir):\n",
    "    for name in files:\n",
    "        if name.endswith((\".json\")):\n",
    "            full_path = os.path.join(root, name)\n",
    "            jsonFiles.append(full_path)\n",
    "\n",
    "jsonFiles = jsonFiles[:5]"
   ]
  },
  {
   "cell_type": "code",
   "execution_count": 2,
   "metadata": {},
   "outputs": [],
   "source": [
    "def writeDoc(docId:str, url:str):\n",
    "    with shelve.open(f'DevShelve/Url', 'c') as shelf:\n",
    "        shelf[str(docId)] = url\n",
    "\n",
    "def getDocNum():\n",
    "    with shelve.open(f'DevShelve/Url', 'c') as shelf:\n",
    "        if 'totalDoc' not in shelf:\n",
    "            shelf['totalDoc'] = 0\n",
    "        return int(shelf['totalDoc'])\n",
    "    \n",
    "def storeDocNum(totalDoc:int):\n",
    "    with shelve.open(f'DevShelve/Url', 'c') as shelf:\n",
    "        shelf['totalDoc'] = totalDoc\n",
    "\n",
    "def readDocShelve(key):\n",
    "    with shelve.open(f'DevShelve/Url', 'c') as shelf:\n",
    "        return shelf[key]\n",
    "\n",
    "def getDocUrl(docId:int):\n",
    "    with shelve.open(f'DevShelve/Url', 'c') as shelf:\n",
    "        if str(docId) in shelf:\n",
    "            return shelf[str(docId)]\n",
    "        \n",
    "# Opening JSON file\n",
    "def getJsonData(filePath):\n",
    "    jFile = open(filePath)\n",
    "    data = json.load(jFile)\n",
    "    url = data['url']\n",
    "    htmlContent = data['content']\n",
    "    jFile.close()\n",
    "    return (url, htmlContent)\n",
    "\n",
    "def isValidJsonSize(file):\n",
    "    fileSize = os.path.getsize(file)/(1024*1024*1024)\n",
    "    ramUsedGb = psutil.virtual_memory()[3]/1000000000\n",
    "    totalRam = psutil.virtual_memory().total/(1024*1024*1024)\n",
    "    if fileSize + ramUsedGb >= (totalRam * .75):\n",
    "        return False\n",
    "    return True\n",
    "\n",
    "def isMemoryFull(limit=75):\n",
    "    if psutil.virtual_memory()[2] >= limit:\n",
    "       print(psutil.virtual_memory()[2])\n",
    "       return True\n",
    "    return False\n",
    "\n",
    "def writeData(invIndex, dList, docId):\n",
    "    invIndex.write('DevShelve')\n",
    "    invIndex.clear()\n",
    "    for dItem in dList:\n",
    "        writeDoc(dItem[0], dItem[1])\n",
    "    storeDocNum(docId)\n",
    "    dList.clear()\n",
    "    print(\"----Wrote Data to File----\")"
   ]
  },
  {
   "cell_type": "code",
   "execution_count": 3,
   "metadata": {},
   "outputs": [
    {
     "name": "stdout",
     "output_type": "stream",
     "text": [
      "1 https://www.ics.uci.edu/~irani/s15-6D/ClassNotes/23_GeneratingPermsSubsets.html\n",
      "2 https://grape.ics.uci.edu/wiki/public/wiki/cs222-2019-fall-git?version=4\n",
      "3 http://archive.ics.uci.edu/ml/datasets/Gas+sensor+array+exposed+to+turbulent+gas+mixtures\n",
      "4 http://alderis.ics.uci.edu/links.html\n",
      "5 https://aiclub.ics.uci.edu/\n",
      "----Wrote Data to File----\n"
     ]
    }
   ],
   "source": [
    "invIndex = InvertedIndex() #Create inverted index to hold tokens from parser\n",
    "docId = 0\n",
    "dList = []\n",
    "for jFile in jsonFiles:\n",
    "    docId += 1\n",
    "    if not isValidJsonSize(jFile):\n",
    "        writeData(invIndex, dList, docId)\n",
    "\n",
    "    #Dont Load json file\n",
    "    if not isValidJsonSize(jFile):\n",
    "        docId -= 1\n",
    "    else:\n",
    "        url, htmlContent = getJsonData(jFile)\n",
    "\n",
    "        #Check if already parsed\n",
    "        if url == getDocUrl(docId):\n",
    "            print(f'Parsed Already -- {docId}:{url}')\n",
    "        else:\n",
    "            # Cleans and parses HTML content into tokens then adds it to Inverted index\n",
    "            tokenizeHtml(docId=docId, invIndex=invIndex, htmlContent=htmlContent)\n",
    "            dList.append((docId,url))\n",
    "            print(docId, url)\n",
    "\n",
    "            if isMemoryFull():\n",
    "                print('memFull')\n",
    "                writeData(invIndex, dList, docId)\n",
    "\n",
    "if docId != getDocNum():\n",
    "    writeData(invIndex, dList, docId)"
   ]
  },
  {
   "cell_type": "code",
   "execution_count": 6,
   "metadata": {},
   "outputs": [
    {
     "data": {
      "text/plain": [
       "Total Tokens: 0"
      ]
     },
     "execution_count": 6,
     "metadata": {},
     "output_type": "execute_result"
    }
   ],
   "source": [
    "invIndex"
   ]
  }
 ],
 "metadata": {
  "kernelspec": {
   "display_name": "Python 3",
   "language": "python",
   "name": "python3"
  },
  "language_info": {
   "codemirror_mode": {
    "name": "ipython",
    "version": 3
   },
   "file_extension": ".py",
   "mimetype": "text/x-python",
   "name": "python",
   "nbconvert_exporter": "python",
   "pygments_lexer": "ipython3",
   "version": "3.10.7"
  },
  "orig_nbformat": 4,
  "polyglot_notebook": {
   "kernelInfo": {
    "defaultKernelName": "csharp",
    "items": [
     {
      "aliases": [],
      "name": "csharp"
     }
    ]
   }
  }
 },
 "nbformat": 4,
 "nbformat_minor": 2
}
