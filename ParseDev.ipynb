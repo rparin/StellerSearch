{
 "cells": [
  {
   "cell_type": "code",
   "execution_count": 1,
   "metadata": {},
   "outputs": [],
   "source": [
    "import os\n",
    "rootDir = 'D:\\\\RJ\\\\UCI\\\\Ralph School\\\\2023 Spring\\\\CS 121\\\\Assignments\\\\.vscode\\\\Res\\\\Test'\n",
    "jsonFiles = []\n",
    "for root, dirs, files in os.walk(rootDir):\n",
    "    for name in files:\n",
    "        if name.endswith((\".json\")):\n",
    "            full_path = os.path.join(root, name)\n",
    "            jsonFiles.append(full_path)"
   ]
  },
  {
   "cell_type": "code",
   "execution_count": 2,
   "metadata": {},
   "outputs": [],
   "source": [
    "import json\n",
    "import shelve\n",
    "from HelperClass import InvertedIndex\n",
    "from helper import tokenizeHtml"
   ]
  },
  {
   "cell_type": "code",
   "execution_count": 3,
   "metadata": {},
   "outputs": [],
   "source": [
    "def writeDoc(docId:str, url:str):\n",
    "    with shelve.open(f'DevShelve/DocId', 'c') as shelf:\n",
    "        shelf[str(docId)] = url\n",
    "\n",
    "def getDocNum():\n",
    "    with shelve.open(f'DevShelve/DocId', 'c') as shelf:\n",
    "        if 'totalDoc' not in shelf:\n",
    "            shelf['totalDoc'] = 0\n",
    "        return int(shelf['totalDoc'])\n",
    "    \n",
    "def storeDocNum(totalDoc:int):\n",
    "    with shelve.open(f'DevShelve/DocId', 'c') as shelf:\n",
    "        shelf['totalDoc'] = totalDoc\n",
    "\n",
    "def readDocShelve(key):\n",
    "    with shelve.open(f'DevShelve/DocId', 'c') as shelf:\n",
    "        return shelf[key]"
   ]
  },
  {
   "cell_type": "code",
   "execution_count": 4,
   "metadata": {},
   "outputs": [],
   "source": [
    "# Opening JSON file\n",
    "def getJsonData(filePath):\n",
    "    jFile = open(filePath)\n",
    "    data = json.load(jFile)\n",
    "    url = data['url']\n",
    "    htmlContent = data['content']\n",
    "    jFile.close()\n",
    "    return (url, htmlContent)"
   ]
  },
  {
   "cell_type": "code",
   "execution_count": 5,
   "metadata": {},
   "outputs": [
    {
     "name": "stdout",
     "output_type": "stream",
     "text": [
      "1 https://www.ics.uci.edu/~irani/s15-6D/ClassNotes/23_GeneratingPermsSubsets.html\n",
      "2 https://grape.ics.uci.edu/wiki/public/wiki/cs222-2019-fall-git?version=4\n",
      "3 http://archive.ics.uci.edu/ml/datasets/Gas+sensor+array+exposed+to+turbulent+gas+mixtures\n",
      "4 http://alderis.ics.uci.edu/links.html\n",
      "5 https://aiclub.ics.uci.edu/\n"
     ]
    }
   ],
   "source": [
    "invIndex = InvertedIndex() #Create inverted index to hold tokens from parser\n",
    "docId = getDocNum()\n",
    "for jFile in jsonFiles:\n",
    "    docId += 1\n",
    "    url, htmlContent = getJsonData(jFile)\n",
    "    # Cleans and parses HTML content into tokens then adds it to Inverted index\n",
    "    tokenizeHtml(docId=docId, invIndex=invIndex, htmlContent=htmlContent)\n",
    "    invIndex.write('DevShelve')\n",
    "    invIndex.clear()\n",
    "    writeDoc(docId, url)\n",
    "    storeDocNum(docId)\n",
    "    print(docId, url)"
   ]
  }
 ],
 "metadata": {
  "kernelspec": {
   "display_name": "Python 3",
   "language": "python",
   "name": "python3"
  },
  "language_info": {
   "codemirror_mode": {
    "name": "ipython",
    "version": 3
   },
   "file_extension": ".py",
   "mimetype": "text/x-python",
   "name": "python",
   "nbconvert_exporter": "python",
   "pygments_lexer": "ipython3",
   "version": "3.10.7"
  },
  "orig_nbformat": 4
 },
 "nbformat": 4,
 "nbformat_minor": 2
}
