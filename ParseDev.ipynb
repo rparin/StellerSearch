{
 "cells": [
  {
   "cell_type": "code",
   "execution_count": 1,
   "metadata": {},
   "outputs": [],
   "source": [
    "import os\n",
    "rootDir = 'D:\\\\RJ\\\\UCI\\\\Ralph School\\\\2023 Spring\\\\CS 121\\\\Assignments\\\\.vscode\\\\Res\\\\DEV'\n",
    "rootDir += '\\\\aiclub_ics_uci_edu'\n",
    "\n",
    "jsonFiles = []\n",
    "for root, dirs, files in os.walk(rootDir):\n",
    "    for name in files:\n",
    "        if name.endswith((\".json\")):\n",
    "            full_path = os.path.join(root, name)\n",
    "            jsonFiles.append(full_path)"
   ]
  },
  {
   "cell_type": "code",
   "execution_count": 2,
   "metadata": {},
   "outputs": [
    {
     "name": "stdout",
     "output_type": "stream",
     "text": [
      "D:\\RJ\\UCI\\Ralph School\\2023 Spring\\CS 121\\Assignments\\.vscode\\Res\\DEV\\aiclub_ics_uci_edu\\8ef6d99d9f9264fc84514cdd2e680d35843785310331e1db4bbd06dd2b8eda9b.json\n",
      "D:\\RJ\\UCI\\Ralph School\\2023 Spring\\CS 121\\Assignments\\.vscode\\Res\\DEV\\aiclub_ics_uci_edu\\906c24a2203dd5d6cce210c733c48b336ef58293212218808cf8fb88edcecc3b.json\n",
      "D:\\RJ\\UCI\\Ralph School\\2023 Spring\\CS 121\\Assignments\\.vscode\\Res\\DEV\\aiclub_ics_uci_edu\\9a59f63e6facdc3e5fe5aa105c603b545d4145769a107b4dc388312a85cf76d5.json\n"
     ]
    }
   ],
   "source": [
    "for file in jsonFiles:\n",
    "    print(file)"
   ]
  },
  {
   "cell_type": "code",
   "execution_count": 3,
   "metadata": {},
   "outputs": [],
   "source": [
    "import json\n",
    "from HelperClass import InvertedIndex, Posting, Token\n",
    "from helper import tokenizeHtml"
   ]
  },
  {
   "cell_type": "code",
   "execution_count": 4,
   "metadata": {},
   "outputs": [],
   "source": [
    "# Opening JSON file\n",
    "jFile = open('Res.json')\n",
    "data = json.load(jFile)\n",
    "data['encoding']\n",
    "jFile.close()"
   ]
  },
  {
   "cell_type": "code",
   "execution_count": 5,
   "metadata": {},
   "outputs": [],
   "source": [
    "text_file = open(\"simple.html\", \"r\", encoding='utf-8')\n",
    "htmlContent = text_file.read()\n",
    "text_file.close()"
   ]
  },
  {
   "cell_type": "code",
   "execution_count": 6,
   "metadata": {},
   "outputs": [],
   "source": [
    "invIndex = InvertedIndex() #Create inverted index to hold tokens from parser\n",
    "\n",
    "#Cleans and parses HTML content into tokens then adds it to Inverted index\n",
    "tokenizeHtml(docId=1, invIndex=invIndex, htmlContent=htmlContent)"
   ]
  },
  {
   "cell_type": "code",
   "execution_count": 7,
   "metadata": {},
   "outputs": [
    {
     "name": "stdout",
     "output_type": "stream",
     "text": [
      "Total Tokens: 13\n",
      "Token: my, Total Freq: 2\n",
      "\tDocId: 1, Freq: 2\n",
      "\t\tPositions: {1, 5}\n",
      "\t\tFields:\n",
      "\t\t\ttitle:{1}\n",
      "\t\t\th2:{5}\n",
      "\n",
      "Token: page, Total Freq: 2\n",
      "\tDocId: 1, Freq: 2\n",
      "\t\tPositions: {2, 6}\n",
      "\t\tFields:\n",
      "\t\t\ttitle:{2}\n",
      "\t\t\ta:{6}\n",
      "\t\t\th2:{6}\n",
      "\n",
      "Token: welcom, Total Freq: 1\n",
      "\tDocId: 1, Freq: 1\n",
      "\t\tPositions: {3}\n",
      "\t\tFields:\n",
      "\t\t\th2:{3}\n",
      "\n",
      "Token: to, Total Freq: 1\n",
      "\tDocId: 1, Freq: 1\n",
      "\t\tPositions: {4}\n",
      "\t\tFields:\n",
      "\t\t\th2:{4}\n",
      "\n",
      "Token: thi, Total Freq: 1\n",
      "\tDocId: 1, Freq: 1\n",
      "\t\tPositions: {7}\n",
      "\t\tFields:\n",
      "\t\t\tnormal:{7}\n",
      "\n",
      "Token: is, Total Freq: 1\n",
      "\tDocId: 1, Freq: 1\n",
      "\t\tPositions: {8}\n",
      "\t\tFields:\n",
      "\t\t\tnormal:{8}\n",
      "\n",
      "Token: the, Total Freq: 2\n",
      "\tDocId: 1, Freq: 2\n",
      "\t\tPositions: {9, 15}\n",
      "\t\tFields:\n",
      "\t\t\tnormal:{9, 15}\n",
      "\n",
      "Token: first, Total Freq: 1\n",
      "\tDocId: 1, Freq: 1\n",
      "\t\tPositions: {10}\n",
      "\t\tFields:\n",
      "\t\t\tnormal:{10}\n",
      "\n",
      "Token: paragraph, Total Freq: 1\n",
      "\tDocId: 1, Freq: 1\n",
      "\t\tPositions: {11}\n",
      "\t\tFields:\n",
      "\t\t\tnormal:{11}\n",
      "\n",
      "Token: pride, Total Freq: 1\n",
      "\tDocId: 1, Freq: 1\n",
      "\t\tPositions: {12}\n",
      "\t\tFields:\n",
      "\t\t\tnormal:{12}\n",
      "\n",
      "Token: cometh, Total Freq: 1\n",
      "\tDocId: 1, Freq: 1\n",
      "\t\tPositions: {13}\n",
      "\t\tFields:\n",
      "\t\t\tnormal:{13}\n",
      "\n",
      "Token: befor, Total Freq: 1\n",
      "\tDocId: 1, Freq: 1\n",
      "\t\tPositions: {14}\n",
      "\t\tFields:\n",
      "\t\t\tnormal:{14}\n",
      "\n",
      "Token: fall, Total Freq: 1\n",
      "\tDocId: 1, Freq: 1\n",
      "\t\tPositions: {16}\n",
      "\t\tFields:\n",
      "\t\t\tnormal:{16}\n",
      "\n",
      "\n"
     ]
    }
   ],
   "source": [
    "print(invIndex)"
   ]
  }
 ],
 "metadata": {
  "kernelspec": {
   "display_name": "Python 3",
   "language": "python",
   "name": "python3"
  },
  "language_info": {
   "codemirror_mode": {
    "name": "ipython",
    "version": 3
   },
   "file_extension": ".py",
   "mimetype": "text/x-python",
   "name": "python",
   "nbconvert_exporter": "python",
   "pygments_lexer": "ipython3",
   "version": "3.10.7"
  },
  "orig_nbformat": 4
 },
 "nbformat": 4,
 "nbformat_minor": 2
}
