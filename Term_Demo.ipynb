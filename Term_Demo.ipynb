{
 "cells": [
  {
   "cell_type": "code",
   "execution_count": 1,
   "metadata": {},
   "outputs": [],
   "source": [
    "# import warnings\n",
    "# warnings.filterwarnings('ignore')"
   ]
  },
  {
   "cell_type": "code",
   "execution_count": 2,
   "metadata": {},
   "outputs": [],
   "source": [
    "from HelperClass import InvertedIndex\n",
    "invIndex = InvertedIndex()"
   ]
  },
  {
   "cell_type": "code",
   "execution_count": 3,
   "metadata": {},
   "outputs": [],
   "source": [
    "invIndex.loadAll('DevShelve')"
   ]
  },
  {
   "cell_type": "code",
   "execution_count": 4,
   "metadata": {},
   "outputs": [
    {
     "data": {
      "text/plain": [
       "{1, 21, 46, 211, 384}"
      ]
     },
     "execution_count": 4,
     "metadata": {},
     "output_type": "execute_result"
    }
   ],
   "source": [
    "invIndex['pos']['artifici'][1]"
   ]
  },
  {
   "cell_type": "code",
   "execution_count": 5,
   "metadata": {},
   "outputs": [],
   "source": [
    "import pandas as pd\n",
    "\n",
    "def df_from_dict(dictObj:dict, toInt = False):\n",
    "    df = pd.DataFrame.from_dict(dictObj, orient='index')\n",
    "    df.fillna(0, inplace=True)\n",
    "    if toInt: df = df.astype('int32')\n",
    "    return df"
   ]
  },
  {
   "cell_type": "code",
   "execution_count": 7,
   "metadata": {},
   "outputs": [],
   "source": [
    "def storeTermDf(invIndex, term):\n",
    "    docDict = {}\n",
    "    termDf = None\n",
    "    start = True\n",
    "    for docId in invIndex['pos'][term]:\n",
    "        pos = invIndex['pos'][term][docId]\n",
    "        if start:\n",
    "            termDf = df_from_dict({1:{docId: pos}})\n",
    "            start = False\n",
    "        else:\n",
    "            newDf = df_from_dict({1:{docId: pos}})\n",
    "            termDf = pd.concat([termDf, newDf.transpose()])\n",
    "    termDf = termDf.transpose()\n",
    "    termDf.to_hdf(f'DevHDF5/Terms.hdf5', key=term)\n",
    "    return termDf"
   ]
  },
  {
   "cell_type": "code",
   "execution_count": 15,
   "metadata": {},
   "outputs": [
    {
     "data": {
      "text/plain": [
       "356273"
      ]
     },
     "execution_count": 15,
     "metadata": {},
     "output_type": "execute_result"
    }
   ],
   "source": [
    "len(invIndex['pos'])"
   ]
  },
  {
   "cell_type": "code",
   "execution_count": 18,
   "metadata": {},
   "outputs": [
    {
     "data": {
      "text/html": [
       "<div>\n",
       "<style scoped>\n",
       "    .dataframe tbody tr th:only-of-type {\n",
       "        vertical-align: middle;\n",
       "    }\n",
       "\n",
       "    .dataframe tbody tr th {\n",
       "        vertical-align: top;\n",
       "    }\n",
       "\n",
       "    .dataframe thead th {\n",
       "        text-align: right;\n",
       "    }\n",
       "</style>\n",
       "<table border=\"1\" class=\"dataframe\">\n",
       "  <thead>\n",
       "    <tr style=\"text-align: right;\">\n",
       "      <th></th>\n",
       "      <th>1</th>\n",
       "      <th>2</th>\n",
       "      <th>3</th>\n",
       "      <th>24</th>\n",
       "      <th>34</th>\n",
       "      <th>41</th>\n",
       "      <th>47</th>\n",
       "      <th>48</th>\n",
       "      <th>55</th>\n",
       "      <th>56</th>\n",
       "      <th>...</th>\n",
       "      <th>1618</th>\n",
       "      <th>1643</th>\n",
       "      <th>1698</th>\n",
       "      <th>1808</th>\n",
       "      <th>1882</th>\n",
       "      <th>1888</th>\n",
       "      <th>2176</th>\n",
       "      <th>2248</th>\n",
       "      <th>2276</th>\n",
       "      <th>2455</th>\n",
       "    </tr>\n",
       "  </thead>\n",
       "  <tbody>\n",
       "    <tr>\n",
       "      <th>1</th>\n",
       "      <td>{384, 1, 46, 211, 21}</td>\n",
       "      <td>{384, 1, 46, 211, 21}</td>\n",
       "      <td>{384, 1, 46, 211, 21}</td>\n",
       "      <td>{649}</td>\n",
       "      <td>{245, 237}</td>\n",
       "      <td>{275, 474, 522}</td>\n",
       "      <td>{1055}</td>\n",
       "      <td>{435}</td>\n",
       "      <td>{425, 323, 292}</td>\n",
       "      <td>{936, 1183, 1135}</td>\n",
       "      <td>...</td>\n",
       "      <td>{500}</td>\n",
       "      <td>{289}</td>\n",
       "      <td>{206}</td>\n",
       "      <td>{271}</td>\n",
       "      <td>{528}</td>\n",
       "      <td>{206}</td>\n",
       "      <td>{505}</td>\n",
       "      <td>{508}</td>\n",
       "      <td>{271}</td>\n",
       "      <td>{511}</td>\n",
       "    </tr>\n",
       "  </tbody>\n",
       "</table>\n",
       "<p>1 rows × 209 columns</p>\n",
       "</div>"
      ],
      "text/plain": [
       "                    1                      2                      3      24    \\\n",
       "1  {384, 1, 46, 211, 21}  {384, 1, 46, 211, 21}  {384, 1, 46, 211, 21}  {649}   \n",
       "\n",
       "         34               41      47     48               55    \\\n",
       "1  {245, 237}  {275, 474, 522}  {1055}  {435}  {425, 323, 292}   \n",
       "\n",
       "                56    ...   1618   1643   1698   1808   1882   1888   2176  \\\n",
       "1  {936, 1183, 1135}  ...  {500}  {289}  {206}  {271}  {528}  {206}  {505}   \n",
       "\n",
       "    2248   2276   2455  \n",
       "1  {508}  {271}  {511}  \n",
       "\n",
       "[1 rows x 209 columns]"
      ]
     },
     "execution_count": 18,
     "metadata": {},
     "output_type": "execute_result"
    }
   ],
   "source": [
    "termRead = pd.read_hdf('DevHDF5/Terms.hdf5', 'artifici')\n",
    "termRead"
   ]
  },
  {
   "cell_type": "code",
   "execution_count": 34,
   "metadata": {},
   "outputs": [
    {
     "data": {
      "text/plain": [
       "209"
      ]
     },
     "execution_count": 34,
     "metadata": {},
     "output_type": "execute_result"
    }
   ],
   "source": [
    "df = termRead.shape[1]\n",
    "df"
   ]
  },
  {
   "cell_type": "code",
   "execution_count": 29,
   "metadata": {},
   "outputs": [
    {
     "name": "stdout",
     "output_type": "stream",
     "text": [
      "Pos: {384, 1, 46, 211, 21}\n"
     ]
    },
    {
     "data": {
      "text/plain": [
       "5"
      ]
     },
     "execution_count": 29,
     "metadata": {},
     "output_type": "execute_result"
    }
   ],
   "source": [
    "docId = 2\n",
    "tf = len(termRead[docId][1])\n",
    "print(f'Pos: {termRead[docId][1]}')\n",
    "tf"
   ]
  }
 ],
 "metadata": {
  "kernelspec": {
   "display_name": "Python 3",
   "language": "python",
   "name": "python3"
  },
  "language_info": {
   "codemirror_mode": {
    "name": "ipython",
    "version": 3
   },
   "file_extension": ".py",
   "mimetype": "text/x-python",
   "name": "python",
   "nbconvert_exporter": "python",
   "pygments_lexer": "ipython3",
   "version": "3.10.7"
  },
  "orig_nbformat": 4
 },
 "nbformat": 4,
 "nbformat_minor": 2
}
