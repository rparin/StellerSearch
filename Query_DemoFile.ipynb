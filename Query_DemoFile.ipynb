{
 "cells": [
  {
   "attachments": {},
   "cell_type": "markdown",
   "metadata": {},
   "source": [
    "\n",
    "0. Intersection (all docId that contain all query terms)  \n",
    "1. Calculate tf-idf for each query term with in each doc from step 0  \n",
    "2. For each doc add up tf-idf (all query terms in doc)  \n",
    "3. Rank highest to lowest, return doc id  "
   ]
  },
  {
   "cell_type": "code",
   "execution_count": 1,
   "metadata": {},
   "outputs": [],
   "source": [
    "from HelperClass import InvertedIndex\n",
    "from nltk.stem import PorterStemmer\n",
    "from collections import defaultdict\n",
    "import math\n",
    "import re\n",
    "import shelve\n",
    "\n",
    "def calculate_idf(N, df):\n",
    "    idf = math.log((N + 0.1) / (df + 0.1))\n",
    "    return idf\n",
    "\n",
    "def getTfIdf(tf, df, N):\n",
    "    return tf * calculate_idf(N, df)\n",
    "\n",
    "def stemQuery(query:str) -> list:\n",
    "    stemmer = PorterStemmer()\n",
    "    queryList = list()\n",
    "    line = query.strip()\n",
    "    if line != '':\n",
    "        for aToken in re.split('[^a-z0-9]', line.lower()):\n",
    "            if (aToken != ''):\n",
    "                token = stemmer.stem(aToken)\n",
    "                queryList.append(token)\n",
    "    return queryList\n",
    "\n",
    "def getDfDict(query:set, invIndex):\n",
    "    queryDict = defaultdict(lambda: '')\n",
    "    for token in query:\n",
    "        if token in invIndex:\n",
    "            queryDict[token] = len(invIndex['pos'][token]) #df\n",
    "        else:\n",
    "            queryDict[token] = 0\n",
    "    return queryDict\n",
    "\n",
    "def getDocIds(qDict:dict, invIndex) -> set:\n",
    "    unionSet = set()\n",
    "    for word in qDict:\n",
    "        if len(unionSet) == 0:\n",
    "            unionSet = set(invIndex['pos'][word].keys())\n",
    "        else:\n",
    "            unionSet = unionSet.intersection(set(invIndex['pos'][word].keys()))\n",
    "    return unionSet\n",
    "\n",
    "def getTfIdfDict(qDict:dict, invIndex, N) -> dict:\n",
    "    tfIdfDict = defaultdict(lambda: 0)\n",
    "    for docId in getDocIds(qDict, invIndex):\n",
    "        for word in qDict:\n",
    "            tf = len(invIndex['pos'][word][docId])\n",
    "            tfIdfDict[docId] += getTfIdf(tf, qDict[word], N)\n",
    "    \n",
    "    #Sort based on tfIdf\n",
    "    return {k: v for k, v in sorted(tfIdfDict.items(), key=lambda item: item[1], reverse=True)}\n",
    "\n",
    "def getTopResults(idDict, limit):\n",
    "    count = 0\n",
    "    for docId in idDict:\n",
    "        with shelve.open(f'DevShelve/Url', 'c') as shelf:\n",
    "            print(shelf[str(docId)])\n",
    "            count += 1\n",
    "        if count >= limit: return\n",
    "\n",
    "N = 55383\n",
    "query = 'cristina lopes'\n",
    "stemList = stemQuery(query)\n",
    "invIndex = InvertedIndex()\n",
    "invIndex.load(stemList,count=10, filePath='DevShelve') #10 partial indexes in shelve file\n",
    "qDict = getDfDict(stemList,invIndex)\n",
    "tfIdfDict = getTfIdfDict(qDict, invIndex, N)\n",
    "# getTopResults(tfIdfDict,5)"
   ]
  },
  {
   "cell_type": "code",
   "execution_count": 2,
   "metadata": {},
   "outputs": [
    {
     "name": "stdout",
     "output_type": "stream",
     "text": [
      "['index1', 'weight1', 'index2', 'weight2', 'index3', 'weight3', 'index4', 'weight4', 'index5', 'weight5', 'index6', 'weight6', 'index7', 'weight7', 'index8', 'weight8', 'index9', 'weight9', 'index10', 'weight10']\n"
     ]
    }
   ],
   "source": [
    "import shelve\n",
    "def getDocNum():\n",
    "    with shelve.open(f'DevShelve/Index', 'c') as shelf:\n",
    "        print(list(shelf.keys()))\n",
    "\n",
    "getDocNum()"
   ]
  },
  {
   "attachments": {},
   "cell_type": "markdown",
   "metadata": {},
   "source": [
    "['index1', 'index2', 'index3', 'index4', 'index5', 'index6', 'index7', 'index8', 'index9', 'index10']"
   ]
  }
 ],
 "metadata": {
  "kernelspec": {
   "display_name": "Python 3",
   "language": "python",
   "name": "python3"
  },
  "language_info": {
   "codemirror_mode": {
    "name": "ipython",
    "version": 3
   },
   "file_extension": ".py",
   "mimetype": "text/x-python",
   "name": "python",
   "nbconvert_exporter": "python",
   "pygments_lexer": "ipython3",
   "version": "3.10.7"
  },
  "orig_nbformat": 4
 },
 "nbformat": 4,
 "nbformat_minor": 2
}
