{
 "cells": [
  {
   "cell_type": "code",
   "execution_count": 1,
   "metadata": {},
   "outputs": [],
   "source": [
    "import pyarrow.feather as feather\n",
    "import json\n",
    "\n",
    "def getFpDataframe(fileName:str):\n",
    "    fpDf = None\n",
    "    with open(f'Data/{fileName}.feather', 'rb') as f:\n",
    "        fpDf = feather.read_feather(f)\n",
    "    return fpDf\n",
    "\n",
    "def getTermData(term:str, fpDf):\n",
    "    termInfo = None\n",
    "    if term not in fpDf['fp']: return termInfo\n",
    "    with open(f'Data/Index.txt', \"r\") as indexFile:\n",
    "        indexFile.seek(fpDf['fp'][term])\n",
    "        tInfo = indexFile.readline().strip().split('>')[1]\n",
    "        return json.loads(tInfo) \n",
    "\n",
    "def getDocData(docId:int, fpDf):\n",
    "    docInfo = None\n",
    "    if docId not in fpDf['fp']: return docInfo\n",
    "    with open(f'Data/docId.txt', \"r\") as indexFile:\n",
    "        indexFile.seek(fpDf['fp'][docId])\n",
    "        tInfo = indexFile.readline().strip().split('>')[1]\n",
    "        return json.loads(tInfo) "
   ]
  },
  {
   "cell_type": "code",
   "execution_count": 2,
   "metadata": {},
   "outputs": [],
   "source": [
    "from nltk.stem import PorterStemmer\n",
    "from heapq import heapify, heappush, heappop\n",
    "import re\n",
    "import math\n",
    "\n",
    "def stemQuery(query:str, termFpDf:dict, countDict:dict) -> dict:\n",
    "    stemmer = PorterStemmer()\n",
    "    queryDict = {}\n",
    "    intersectOrder = []; heapify(intersectOrder)\n",
    "    line = query.strip()\n",
    "    if line != '':\n",
    "        for aToken in re.split('[^a-z0-9]', line.lower()):\n",
    "            if (aToken != ''):\n",
    "                token = stemmer.stem(aToken)\n",
    "                if token not in queryDict:\n",
    "                    termData = getTermData(token, termFpDf)\n",
    "                    countDict['terms'][token] = 1\n",
    "                    countDict['len'] += 1\n",
    "                    if termData:\n",
    "                        queryDict[token] = termData\n",
    "                        heappush(intersectOrder, (termData['idf']*-1,token))\n",
    "                else:\n",
    "                    countDict['terms'][token] += 1\n",
    "                    countDict['len'] += 1\n",
    "    return queryDict, intersectOrder\n",
    "\n",
    "def getDocIds(queryDict:dict[str], order:list[tuple]) -> set:\n",
    "    intersection_keys = set()\n",
    "    for tup in order:\n",
    "        if len(intersection_keys) == 0:\n",
    "            intersection_keys = set(queryDict[tup[1]].keys())\n",
    "            intersection_keys.remove('cList')\n",
    "            intersection_keys.remove('idf')\n",
    "        else:\n",
    "            intersection_keys = intersection_keys & queryDict[tup[1]].keys()\n",
    "\n",
    "    return intersection_keys\n",
    "\n",
    "def getTf_IdfRank(docIds:set[str], qDict:dict[str]) -> list[tuple]:\n",
    "    docRanks = []; heapify(docRanks)\n",
    "    tfSet = set()\n",
    "    for docIdStr in docIds:\n",
    "        sumTf_Idf = 0\n",
    "        for term in qDict:\n",
    "            sumTf_Idf += qDict[term][docIdStr]\n",
    "        sumTf_Idf = round(sumTf_Idf, 5)\n",
    "        if sumTf_Idf not in tfSet:\n",
    "            if len(docRanks) < 10:\n",
    "                heappush(docRanks, (sumTf_Idf,docIdStr))\n",
    "                tfSet.add(sumTf_Idf)\n",
    "            else:\n",
    "                if sumTf_Idf > docRanks[0][0]:\n",
    "                    heappop(docRanks)\n",
    "                    heappush(docRanks, (sumTf_Idf,docIdStr))\n",
    "                    tfSet.add(sumTf_Idf)\n",
    "    return docRanks\n",
    "\n",
    "def calculate_idf(df, N = 55382):\n",
    "    try:\n",
    "        idf = math.log((N) / (df))\n",
    "    except ZeroDivisionError as e:\n",
    "        idf = 0\n",
    "    return idf\n",
    "\n",
    "def calculate_tf_idf(tf, idf):\n",
    "    return ((1 + math.log(tf)) * idf)"
   ]
  },
  {
   "cell_type": "code",
   "execution_count": 3,
   "metadata": {},
   "outputs": [],
   "source": [
    "termFpDf = getFpDataframe('indexFp')\n",
    "docIdFpDf = getFpDataframe('docIdFp')"
   ]
  },
  {
   "cell_type": "code",
   "execution_count": 4,
   "metadata": {},
   "outputs": [],
   "source": [
    "def getQVector(termDict:dict[str], countDict:dict[dict]) -> list:\n",
    "    qVector = []\n",
    "    for term in termDict:\n",
    "        idf = termDict[term]['idf']\n",
    "        tfIdf = calculate_tf_idf(countDict['terms'][term],idf)\n",
    "        qVector.append(tfIdf)\n",
    "    return qVector"
   ]
  },
  {
   "cell_type": "code",
   "execution_count": 24,
   "metadata": {},
   "outputs": [
    {
     "name": "stdout",
     "output_type": "stream",
     "text": [
      "29716 https://www.ics.uci.edu/~neno/vita/vita.html 46.98415\n",
      "17001 https://mswe.ics.uci.edu/ 45.9336\n",
      "54680 https://www.informatics.uci.edu/grad/mswe/#content 44.21775\n",
      "24257 https://www.ics.uci.edu/grad/degrees/index 43.71712\n",
      "51294 https://www.ics.uci.edu/grad/admissions/index.php 43.66838\n",
      "16995 https://mswe.ics.uci.edu/program/curriculum/ 42.92395\n",
      "34271 https://www.ics.uci.edu/~mrrahimi/Education.html 40.82172\n",
      "53900 https://www.informatics.uci.edu/grad/ms-software-engineering/ 40.80404\n",
      "21729 https://www.ics.uci.edu/~epaikari/#portfolioModal3 40.38412\n",
      "54391 https://www.informatics.uci.edu/alumni-spotlights-ics-grads-help-autogravity-revolutionize-digital-car-buying/ 40.07312\n",
      "41.2932 ms\n"
     ]
    }
   ],
   "source": [
    "import time\n",
    "start = time.time_ns()\n",
    "\n",
    "query = 'master of software engineer'\n",
    "countDict = {'terms':{}, 'len': 0}\n",
    "termDict, intersectOrder = stemQuery(query, termFpDf, countDict)\n",
    "docIds = getDocIds(termDict, intersectOrder)\n",
    "docRanks = getTf_IdfRank(docIds, termDict)\n",
    "for tup in sorted(docRanks, reverse=True):\n",
    "    url = getDocData(int(tup[1]),docIdFpDf)['url']\n",
    "    print(tup[1], url, tup[0])\n",
    "qVector = getQVector(termDict, countDict)\n",
    "end = time.time_ns()\n",
    "print(round(end - start) / (10**6),'ms') #Time in milliseconds"
   ]
  }
 ],
 "metadata": {
  "kernelspec": {
   "display_name": "Python 3",
   "language": "python",
   "name": "python3"
  },
  "language_info": {
   "codemirror_mode": {
    "name": "ipython",
    "version": 3
   },
   "file_extension": ".py",
   "mimetype": "text/x-python",
   "name": "python",
   "nbconvert_exporter": "python",
   "pygments_lexer": "ipython3",
   "version": "3.10.7"
  },
  "orig_nbformat": 4
 },
 "nbformat": 4,
 "nbformat_minor": 2
}
