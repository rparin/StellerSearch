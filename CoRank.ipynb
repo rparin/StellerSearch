{
 "cells": [
  {
   "cell_type": "code",
   "execution_count": 1,
   "metadata": {},
   "outputs": [],
   "source": [
    "import pyarrow.feather as feather\n",
    "import json\n",
    "\n",
    "def getFpDataframe(fileName:str):\n",
    "    fpDf = None\n",
    "    with open(f'Data/{fileName}.feather', 'rb') as f:\n",
    "        fpDf = feather.read_feather(f)\n",
    "    return fpDf\n",
    "\n",
    "def getTermData(term:str, fpDf):\n",
    "    termInfo = None\n",
    "    if term not in fpDf['fp']: return termInfo\n",
    "    with open(f'Data/Index.txt', \"r\") as indexFile:\n",
    "        indexFile.seek(fpDf['fp'][term])\n",
    "        tInfo = indexFile.readline().strip().split('>')[1]\n",
    "        return json.loads(tInfo) \n",
    "\n",
    "def getDocData(docId:int, fpDf):\n",
    "    docInfo = None\n",
    "    if docId not in fpDf['fp']: return docInfo\n",
    "    with open(f'Data/docId.txt', \"r\") as indexFile:\n",
    "        indexFile.seek(fpDf['fp'][docId])\n",
    "        tInfo = indexFile.readline().strip().split('>')[1]\n",
    "        return json.loads(tInfo) "
   ]
  },
  {
   "cell_type": "code",
   "execution_count": 87,
   "metadata": {},
   "outputs": [],
   "source": [
    "from nltk.stem import PorterStemmer\n",
    "from heapq import heapify, heappush, heappop\n",
    "import re\n",
    "\n",
    "def stemQuery(query:str, termFpDf:dict) -> dict:\n",
    "    stemmer = PorterStemmer()\n",
    "    queryDict = {}\n",
    "    intersectOrder = []; heapify(intersectOrder)\n",
    "    line = query.strip()\n",
    "    if line != '':\n",
    "        for aToken in re.split('[^a-z0-9]', line.lower()):\n",
    "            if (aToken != ''):\n",
    "                token = stemmer.stem(aToken)\n",
    "                termData = getTermData(token, termFpDf)\n",
    "                if termData:\n",
    "                    queryDict[token] = termData\n",
    "                    heappush(intersectOrder, (termData['idf']*-1,token))\n",
    "    return queryDict, intersectOrder\n",
    "\n",
    "def getDocIds(queryDict:dict[str], order:list[tuple]) -> set:\n",
    "    intersection_keys = set()\n",
    "    for tup in order:\n",
    "        if len(intersection_keys) == 0:\n",
    "            intersection_keys = set(queryDict[tup[1]].keys())\n",
    "            intersection_keys.remove('cList')\n",
    "            intersection_keys.remove('idf')\n",
    "        else:\n",
    "            intersection_keys = intersection_keys & queryDict[tup[1]].keys()\n",
    "\n",
    "    return intersection_keys"
   ]
  },
  {
   "cell_type": "code",
   "execution_count": 32,
   "metadata": {},
   "outputs": [],
   "source": [
    "termFpDf = getFpDataframe('indexFp')\n",
    "docIdFpDf = getFpDataframe('docIdFp')"
   ]
  },
  {
   "cell_type": "code",
   "execution_count": 110,
   "metadata": {},
   "outputs": [
    {
     "name": "stdout",
     "output_type": "stream",
     "text": [
      "108 ms\n"
     ]
    }
   ],
   "source": [
    "import time\n",
    "start = time.time()\n",
    "\n",
    "query = 'University of California Irvine'\n",
    "termDict, intersectOrder = stemQuery(query, termFpDf)\n",
    "docIds = getDocIds(termDict, intersectOrder)\n",
    "\n",
    "end = time.time()\n",
    "print(round((end - start) * 1000),'ms') #Time in milliseconds"
   ]
  }
 ],
 "metadata": {
  "kernelspec": {
   "display_name": "Python 3",
   "language": "python",
   "name": "python3"
  },
  "language_info": {
   "codemirror_mode": {
    "name": "ipython",
    "version": 3
   },
   "file_extension": ".py",
   "mimetype": "text/x-python",
   "name": "python",
   "nbconvert_exporter": "python",
   "pygments_lexer": "ipython3",
   "version": "3.10.7"
  },
  "orig_nbformat": 4
 },
 "nbformat": 4,
 "nbformat_minor": 2
}
