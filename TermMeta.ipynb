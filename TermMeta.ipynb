{
 "cells": [
  {
   "cell_type": "code",
   "execution_count": 1,
   "metadata": {},
   "outputs": [],
   "source": [
    "from HelperClass import InvertedIndex\n",
    "import pandas as pd\n",
    "\n",
    "invIndex = InvertedIndex()\n",
    "invIndex.loadAll('DevShelve')\n",
    "\n",
    "# import warnings\n",
    "# warnings.filterwarnings('ignore')"
   ]
  },
  {
   "cell_type": "code",
   "execution_count": 2,
   "metadata": {},
   "outputs": [],
   "source": [
    "#ToDo split into a-f etc and get top 10k words\n",
    "\n",
    "tfDict = {} #{token:{docId:tf}}\n",
    "for term in invIndex['pos']:\n",
    "    dfCount = len(invIndex['pos'][term])\n",
    "    tfDict[term] = {}\n",
    "    for docId in invIndex['pos'][term]:\n",
    "        tfDict[term].update({docId: len(invIndex['pos'][term][docId])})"
   ]
  },
  {
   "cell_type": "code",
   "execution_count": 3,
   "metadata": {},
   "outputs": [],
   "source": [
    "def df_from_dict(dictObj:dict, toInt = False):\n",
    "    df = pd.DataFrame.from_dict(dictObj, orient='index')\n",
    "    df.fillna(0, inplace=True)\n",
    "    if toInt: df = df.astype('int32')\n",
    "    return df.transpose()"
   ]
  },
  {
   "cell_type": "code",
   "execution_count": null,
   "metadata": {},
   "outputs": [],
   "source": [
    "# df = df_from_dict(idfDict)\n",
    "# df.to_hdf(f'DevHDF5/TermInfo.hdf5', key='idf')"
   ]
  },
  {
   "cell_type": "code",
   "execution_count": 4,
   "metadata": {},
   "outputs": [],
   "source": [
    "#ToDo split into a-f etc and get top 10k words\n",
    "\n",
    "termDict = {} #{term:{{docIds:{docId}},df:dfNum}}\n",
    "for term in invIndex['pos']:\n",
    "    docSet = set()\n",
    "    dfCount = len(invIndex['pos'][term])\n",
    "    for docId in invIndex['pos'][term]:\n",
    "        docSet.add(docId)\n",
    "    termDict[term] = {'docIds':docSet, 'df':dfCount}"
   ]
  },
  {
   "cell_type": "code",
   "execution_count": 5,
   "metadata": {},
   "outputs": [
    {
     "name": "stdout",
     "output_type": "stream",
     "text": [
      "{19969, 18947, 18949, 24069, 22025, 19978, 18444, 23059, 21525, 22038, 21530, 24603, 21532, 21537, 25122, 25123, 20005, 24620, 22575, 18483, 24628, 17976, 21562, 21563, 21566, 21572, 24137, 19537, 21585, 24657, 18518, 25175, 19032, 21592, 21593, 21594, 23130, 23643, 23644, 21599, 20064, 18017, 21603, 21606, 20071, 21621, 21622, 22134, 21625, 25210, 21627, 18044, 20094, 21630, 21631, 22656, 18050, 21636, 21637, 21640, 18569, 22153, 22666, 18061, 19598, 21646, 24208, 21649, 24722, 21654, 17559, 21655, 24216, 19099, 19614, 25247, 24225, 19106, 21679, 23221, 24253, 21185, 17602, 21187, 18118, 19144, 23752, 23246, 25810, 21204, 19673, 19674, 21211, 22249, 21228, 18159, 19695, 18161, 17650, 21234, 20213, 22263, 24312, 19705, 21242, 21248, 20226, 21252, 19720, 22281, 21258, 21771, 25867, 23310, 21264, 22290, 24851, 21268, 19221, 21270, 20252, 21276, 19230, 21279, 24351, 21286, 20265, 21294, 25905, 21813, 19769, 20795, 21308, 17729, 23361, 18245, 20297, 20298, 21835, 22858, 21325, 19790, 20304, 21329, 24404, 20310, 20311, 20313, 20315, 19804, 21341, 19807, 21343, 17761, 21344, 19811, 21350, 22374, 19817, 19821, 22897, 18805, 19830, 21365, 21375, 17794, 21379, 21382, 18825, 18314, 21386, 21389, 18319, 21392, 23955, 23957, 22422, 21400, 21402, 21406, 18337, 21411, 23975, 23977, 25515, 22956, 23985, 22963, 21940, 17845, 18869, 24500, 22457, 22459, 21437, 21440, 18882, 18372, 18373, 19913, 21962, 24011, 24525, 21455, 21458, 25557, 23516, 18397, 18398, 21470, 17888, 21471, 21475, 23526, 22503, 25064, 21481, 23530, 18412, 21484, 21485, 22510, 25070, 24051, 21492, 21498, 23549}\n",
      "227\n"
     ]
    }
   ],
   "source": [
    "print(termDict['artifici']['docIds'])\n",
    "print(termDict['artifici']['df'])"
   ]
  },
  {
   "cell_type": "code",
   "execution_count": 6,
   "metadata": {},
   "outputs": [
    {
     "name": "stdout",
     "output_type": "stream",
     "text": [
      "a\n"
     ]
    },
    {
     "name": "stderr",
     "output_type": "stream",
     "text": [
      "C:\\Users\\RJ\\AppData\\Local\\Temp\\ipykernel_4296\\2371581741.py:11: PerformanceWarning: \n",
      "your performance may suffer as PyTables will pickle object types that it cannot\n",
      "map directly to c-types [inferred_type->mixed-integer,key->block0_values] [items->Index(['and', 'about', 'affili', 'attract', 'anoth', 'are', 'a', 'at',\n",
      "       'august', 'as',\n",
      "       ...\n",
      "       'average1', 'average2', 'averqage2', 'analag', 'arbitarili', 'aeiouy',\n",
      "       'afterword', 'assocati', 'additionali', 'arkhipov'],\n",
      "      dtype='object', length=6066)]\n",
      "\n",
      "  df.to_hdf(f'DevHDF5/TermMeta.hdf5', key=letter)\n"
     ]
    },
    {
     "name": "stdout",
     "output_type": "stream",
     "text": [
      "b\n"
     ]
    },
    {
     "name": "stderr",
     "output_type": "stream",
     "text": [
      "C:\\Users\\RJ\\AppData\\Local\\Temp\\ipykernel_4296\\2371581741.py:11: PerformanceWarning: \n",
      "your performance may suffer as PyTables will pickle object types that it cannot\n",
      "map directly to c-types [inferred_type->mixed-integer,key->block0_values] [items->Index(['blog', 'book', 'becaus', 'by', 'back', 'bit', 'but', 'bach', 'bradley',\n",
      "       'been',\n",
      "       ...\n",
      "       'bcdfghjklmnpqrstvwxz', 'bozo', 'bithday', 'beilla', 'baranowska',\n",
      "       'bermann', 'bakofen', 'bevc', 'bonsi', 'bonifaci'],\n",
      "      dtype='object', length=5229)]\n",
      "\n",
      "  df.to_hdf(f'DevHDF5/TermMeta.hdf5', key=letter)\n"
     ]
    },
    {
     "name": "stdout",
     "output_type": "stream",
     "text": [
      "c\n"
     ]
    },
    {
     "name": "stderr",
     "output_type": "stream",
     "text": [
      "C:\\Users\\RJ\\AppData\\Local\\Temp\\ipykernel_4296\\2371581741.py:11: PerformanceWarning: \n",
      "your performance may suffer as PyTables will pickle object types that it cannot\n",
      "map directly to c-types [inferred_type->mixed-integer,key->block0_values] [items->Index(['comput', 'current', 'cours', 'compani', 'collabor', 'competit',\n",
      "       'comment', 'champagn', 'comcast', 'cabl',\n",
      "       ...\n",
      "       'chitkara', 'canno', 'constuct', 'chajabrucha', 'certli', 'c1732',\n",
      "       'cusrom', 'caifornia', 'chockalingam', 'conp'],\n",
      "      dtype='object', length=8087)]\n",
      "\n",
      "  df.to_hdf(f'DevHDF5/TermMeta.hdf5', key=letter)\n"
     ]
    },
    {
     "name": "stdout",
     "output_type": "stream",
     "text": [
      "d\n"
     ]
    },
    {
     "name": "stderr",
     "output_type": "stream",
     "text": [
      "C:\\Users\\RJ\\AppData\\Local\\Temp\\ipykernel_4296\\2371581741.py:11: PerformanceWarning: \n",
      "your performance may suffer as PyTables will pickle object types that it cannot\n",
      "map directly to c-types [inferred_type->mixed-integer,key->block0_values] [items->Index(['differ', 'day', 'difficulti', 'discontinu', 'definit', 'discuss', 'do',\n",
      "       'design', 'develop', 'decid',\n",
      "       ...\n",
      "       'dentalwbcod', 'drei', 'dn3', 'datr', 'dvdlist', 'digt', 'deepcopi',\n",
      "       'distinguis', 'defaultdictionari', 'dworya'],\n",
      "      dtype='object', length=5291)]\n",
      "\n",
      "  df.to_hdf(f'DevHDF5/TermMeta.hdf5', key=letter)\n"
     ]
    },
    {
     "name": "stdout",
     "output_type": "stream",
     "text": [
      "e\n"
     ]
    },
    {
     "name": "stderr",
     "output_type": "stream",
     "text": [
      "C:\\Users\\RJ\\AppData\\Local\\Temp\\ipykernel_4296\\2371581741.py:11: PerformanceWarning: \n",
      "your performance may suffer as PyTables will pickle object types that it cannot\n",
      "map directly to c-types [inferred_type->mixed-integer,key->block0_values] [items->Index(['entrepreneur', 'event', 'experienti', 'entrepreneurship', 'educ',\n",
      "       'element', 'everi', 'eat', 'even', 'eager',\n",
      "       ...\n",
      "       'expressionlist', 'expr3', 'expr4', 'easu246', 'ezaija', 'eziaa',\n",
      "       'expres', 'expresss', 'empi', 'eisenth'],\n",
      "      dtype='object', length=3962)]\n",
      "\n",
      "  df.to_hdf(f'DevHDF5/TermMeta.hdf5', key=letter)\n"
     ]
    },
    {
     "name": "stdout",
     "output_type": "stream",
     "text": [
      "f\n"
     ]
    },
    {
     "name": "stderr",
     "output_type": "stream",
     "text": [
      "C:\\Users\\RJ\\AppData\\Local\\Temp\\ipykernel_4296\\2371581741.py:11: PerformanceWarning: \n",
      "your performance may suffer as PyTables will pickle object types that it cannot\n",
      "map directly to c-types [inferred_type->mixed-integer,key->block0_values] [items->Index(['favorit', 'feel', 'from', 'friend', 'first', 'field', 'folktv', 'fals',\n",
      "       'fax', 'few',\n",
      "       ...\n",
      "       'familar', 'functioni', 'functioin', 'feoop', 'frozenset', 'fromkey',\n",
      "       'forcunac', 'fundamen', 'freuntlich', 'feywel'],\n",
      "      dtype='object', length=3990)]\n",
      "\n",
      "  df.to_hdf(f'DevHDF5/TermMeta.hdf5', key=letter)\n"
     ]
    },
    {
     "name": "stdout",
     "output_type": "stream",
     "text": [
      "g\n"
     ]
    },
    {
     "name": "stderr",
     "output_type": "stream",
     "text": [
      "C:\\Users\\RJ\\AppData\\Local\\Temp\\ipykernel_4296\\2371581741.py:11: PerformanceWarning: \n",
      "your performance may suffer as PyTables will pickle object types that it cannot\n",
      "map directly to c-types [inferred_type->mixed-integer,key->block0_values] [items->Index(['gener', 'great', 'get', 'googl', 'gopal', 'gave', 'goodby', 'good',\n",
      "       'gere', 'go',\n",
      "       ...\n",
      "       'giragosian', 'gaty', 'gn1', 'gn2', 'gnn', 'grd', 'gelbberg',\n",
      "       'grunauer', 'ganapathi', 'ghigi'],\n",
      "      dtype='object', length=3556)]\n",
      "\n",
      "  df.to_hdf(f'DevHDF5/TermMeta.hdf5', key=letter)\n"
     ]
    },
    {
     "name": "stdout",
     "output_type": "stream",
     "text": [
      "h\n"
     ]
    },
    {
     "name": "stderr",
     "output_type": "stream",
     "text": [
      "C:\\Users\\RJ\\AppData\\Local\\Temp\\ipykernel_4296\\2371581741.py:11: PerformanceWarning: \n",
      "your performance may suffer as PyTables will pickle object types that it cannot\n",
      "map directly to c-types [inferred_type->mixed-integer,key->block0_values] [items->Index(['happen', 'had', 'hear', 'heard', 'hi', 'he', 'happi', 'health', 'hors',\n",
      "       'half',\n",
      "       ...\n",
      "       'hyperconvex', 'halin', 'hesterberg', 'homotopi', 'heyang',\n",
      "       'hometheaterinfo', 'haramb', 'huggabl', 'hashabl', 'has2'],\n",
      "      dtype='object', length=3615)]\n",
      "\n",
      "  df.to_hdf(f'DevHDF5/TermMeta.hdf5', key=letter)\n"
     ]
    },
    {
     "name": "stdout",
     "output_type": "stream",
     "text": [
      "i\n"
     ]
    },
    {
     "name": "stderr",
     "output_type": "stream",
     "text": [
      "C:\\Users\\RJ\\AppData\\Local\\Temp\\ipykernel_4296\\2371581741.py:11: PerformanceWarning: \n",
      "your performance may suffer as PyTables will pickle object types that it cannot\n",
      "map directly to c-types [inferred_type->mixed-integer,key->block0_values] [items->Index(['inform', 'interview', 'in', 'it', 'import', 'is', 'i', 'if',\n",
      "       'interest', 'improv',\n",
      "       ...\n",
      "       'isha', 'interp2', 'imwforward', 'itli', 'interstel', 'illust',\n",
      "       'indvidu', 'implem', 'iteratr', 'im2doubl'],\n",
      "      dtype='object', length=4019)]\n",
      "\n",
      "  df.to_hdf(f'DevHDF5/TermMeta.hdf5', key=letter)\n"
     ]
    },
    {
     "name": "stdout",
     "output_type": "stream",
     "text": [
      "j\n"
     ]
    },
    {
     "name": "stderr",
     "output_type": "stream",
     "text": [
      "C:\\Users\\RJ\\AppData\\Local\\Temp\\ipykernel_4296\\2371581741.py:11: PerformanceWarning: \n",
      "your performance may suffer as PyTables will pickle object types that it cannot\n",
      "map directly to c-types [inferred_type->mixed-integer,key->block0_values] [items->Index(['jain', 'john', 'jay', 'juli', 'jeff', 'job', 'june', 'just', 'jim',\n",
      "       'journey',\n",
      "       ...\n",
      "       'jecheskel', 'jaspan', 'jaden', 'jakubowicz', 'jano', 'jflex', 'jeonju',\n",
      "       'jpshowgo', 'jx', 'jy'],\n",
      "      dtype='object', length=1284)]\n",
      "\n",
      "  df.to_hdf(f'DevHDF5/TermMeta.hdf5', key=letter)\n"
     ]
    },
    {
     "name": "stdout",
     "output_type": "stream",
     "text": [
      "k\n"
     ]
    },
    {
     "name": "stderr",
     "output_type": "stream",
     "text": [
      "C:\\Users\\RJ\\AppData\\Local\\Temp\\ipykernel_4296\\2371581741.py:11: PerformanceWarning: \n",
      "your performance may suffer as PyTables will pickle object types that it cannot\n",
      "map directly to c-types [inferred_type->mixed-integer,key->block0_values] [items->Index(['kerri', 'katiyar', 'keynot', 'kim', 'knowledg', 'know', 'keep', 'kid',\n",
      "       'killer', 'kodak',\n",
      "       ...\n",
      "       'keepgo', 'kirloskar', 'krejcik', 'karg', 'kwarg', 'kirschenbaum',\n",
      "       'klasna', 'kirszen', 'kirsz', 'kohlman'],\n",
      "      dtype='object', length=1849)]\n",
      "\n",
      "  df.to_hdf(f'DevHDF5/TermMeta.hdf5', key=letter)\n"
     ]
    },
    {
     "name": "stdout",
     "output_type": "stream",
     "text": [
      "l\n"
     ]
    },
    {
     "name": "stderr",
     "output_type": "stream",
     "text": [
      "C:\\Users\\RJ\\AppData\\Local\\Temp\\ipykernel_4296\\2371581741.py:11: PerformanceWarning: \n",
      "your performance may suffer as PyTables will pickle object types that it cannot\n",
      "map directly to c-types [inferred_type->mixed-integer,key->block0_values] [items->Index(['live', 'lot', 'littl', 'longer', 'level', 'last', 'like', 'long',\n",
      "       'least', 'life',\n",
      "       ...\n",
      "       'laboutdialog', 'lquitdialog', 'loption', 'ljpshowgo', 'lconnectk',\n",
      "       'lpboard', 'lightheart', 'legb', 'lenth', 'lloret'],\n",
      "      dtype='object', length=3201)]\n",
      "\n",
      "  df.to_hdf(f'DevHDF5/TermMeta.hdf5', key=letter)\n"
     ]
    },
    {
     "name": "stdout",
     "output_type": "stream",
     "text": [
      "m\n"
     ]
    },
    {
     "name": "stderr",
     "output_type": "stream",
     "text": [
      "C:\\Users\\RJ\\AppData\\Local\\Temp\\ipykernel_4296\\2371581741.py:11: PerformanceWarning: \n",
      "your performance may suffer as PyTables will pickle object types that it cannot\n",
      "map directly to c-types [inferred_type->mixed-integer,key->block0_values] [items->Index(['multimedia', 'manag', 'mani', 'more', 'my', 'miss', 'mail', 'morn',\n",
      "       'map', 'msn',\n",
      "       ...\n",
      "       'm5a', 'myprint', 'mejer', 'mingelgrun', 'miruna', 'mirko', 'montanari',\n",
      "       'marchetti', 'megow', 'metaheurist'],\n",
      "      dtype='object', length=6301)]\n",
      "\n",
      "  df.to_hdf(f'DevHDF5/TermMeta.hdf5', key=letter)\n"
     ]
    },
    {
     "name": "stdout",
     "output_type": "stream",
     "text": [
      "n\n"
     ]
    },
    {
     "name": "stderr",
     "output_type": "stream",
     "text": [
      "C:\\Users\\RJ\\AppData\\Local\\Temp\\ipykernel_4296\\2371581741.py:11: PerformanceWarning: \n",
      "your performance may suffer as PyTables will pickle object types that it cannot\n",
      "map directly to c-types [inferred_type->mixed-integer,key->block0_values] [items->Index(['news', 'navig', 'no', 'normal', 'not', 'new', 'normalci', 'nausea',\n",
      "       'next', 'now',\n",
      "       ...\n",
      "       'neerajk', 'newsworthi', 'needn', 'novafest', 'novaf', 'namspac',\n",
      "       'nonetyp', 'normthresh', 'neutsch', 'nonconsecut'],\n",
      "      dtype='object', length=2381)]\n",
      "\n",
      "  df.to_hdf(f'DevHDF5/TermMeta.hdf5', key=letter)\n"
     ]
    },
    {
     "name": "stdout",
     "output_type": "stream",
     "text": [
      "o\n"
     ]
    },
    {
     "name": "stderr",
     "output_type": "stream",
     "text": [
      "C:\\Users\\RJ\\AppData\\Local\\Temp\\ipykernel_4296\\2371581741.py:11: PerformanceWarning: \n",
      "your performance may suffer as PyTables will pickle object types that it cannot\n",
      "map directly to c-types [inferred_type->mixed-integer,key->block0_values] [items->Index(['of', 'onli', 'onc', 'or', 'on', 'other', 'overal', 'off', 'one', 'out',\n",
      "       ...\n",
      "       'obo4', 'omino', 'orbifold', 'opq', 'outerpath', 'openaccess', 'oasic',\n",
      "       'opheld', 'ohrenstein', 'ofen'],\n",
      "      dtype='object', length=1399)]\n",
      "\n",
      "  df.to_hdf(f'DevHDF5/TermMeta.hdf5', key=letter)\n"
     ]
    },
    {
     "name": "stdout",
     "output_type": "stream",
     "text": [
      "p\n"
     ]
    },
    {
     "name": "stderr",
     "output_type": "stream",
     "text": [
      "C:\\Users\\RJ\\AppData\\Local\\Temp\\ipykernel_4296\\2371581741.py:11: PerformanceWarning: \n",
      "your performance may suffer as PyTables will pickle object types that it cannot\n",
      "map directly to c-types [inferred_type->mixed-integer,key->block0_values] [items->Index(['page', 'patent', 'present', 'project', 'paper', 'past', 'partner',\n",
      "       'profession', 'person', 'peopl',\n",
      "       ...\n",
      "       'peysak', 'peisach', 'ploo', 'proust', 'preconstruct', 'popitem',\n",
      "       'psychadel', 'parys', 'petrescu', 'prahova'],\n",
      "      dtype='object', length=5685)]\n",
      "\n",
      "  df.to_hdf(f'DevHDF5/TermMeta.hdf5', key=letter)\n"
     ]
    },
    {
     "name": "stdout",
     "output_type": "stream",
     "text": [
      "q\n"
     ]
    },
    {
     "name": "stderr",
     "output_type": "stream",
     "text": [
      "C:\\Users\\RJ\\AppData\\Local\\Temp\\ipykernel_4296\\2371581741.py:11: PerformanceWarning: \n",
      "your performance may suffer as PyTables will pickle object types that it cannot\n",
      "map directly to c-types [inferred_type->mixed-integer,key->block0_values] [items->Index(['quot', 'question', 'quit', 'quantifi', 'quest', 'quietli', 'qualiti',\n",
      "       'queri', 'quantit', 'quarter',\n",
      "       ...\n",
      "       'quent', 'quimper', 'quang', 'queeni', 'qingyun',\n",
      "       'queryperformancecount', 'q1', 'qeueue', 'quitdialog', 'quincunx'],\n",
      "      dtype='object', length=249)]\n",
      "\n",
      "  df.to_hdf(f'DevHDF5/TermMeta.hdf5', key=letter)\n"
     ]
    },
    {
     "name": "stdout",
     "output_type": "stream",
     "text": [
      "r\n"
     ]
    },
    {
     "name": "stderr",
     "output_type": "stream",
     "text": [
      "C:\\Users\\RJ\\AppData\\Local\\Temp\\ipykernel_4296\\2371581741.py:11: PerformanceWarning: \n",
      "your performance may suffer as PyTables will pickle object types that it cannot\n",
      "map directly to c-types [inferred_type->mixed-integer,key->block0_values] [items->Index(['ramesh', 'research', 'recognit', 'read', 'red', 'realli', 'request',\n",
      "       'recent', 'receiv', 'recoveri',\n",
      "       ...\n",
      "       'rallyforriv', 'revit', 'roke', 'randint', 'reprompt', 'resultt',\n",
      "       'resultf', 'rema', 'reimann', 'redraw'],\n",
      "      dtype='object', length=2434)]\n",
      "\n",
      "  df.to_hdf(f'DevHDF5/TermMeta.hdf5', key=letter)\n"
     ]
    },
    {
     "name": "stdout",
     "output_type": "stream",
     "text": [
      "s\n"
     ]
    },
    {
     "name": "stderr",
     "output_type": "stream",
     "text": [
      "C:\\Users\\RJ\\AppData\\Local\\Temp\\ipykernel_4296\\2371581741.py:11: PerformanceWarning: \n",
      "your performance may suffer as PyTables will pickle object types that it cannot\n",
      "map directly to c-types [inferred_type->mixed-integer,key->block0_values] [items->Index(['self', 'search', 'student', 'social', 'servic', 'success', 'sport',\n",
      "       'strong', 'someth', 'stori',\n",
      "       ...\n",
      "       'schondel', 'simecha', 'slatt', 'suczawa', 'scherman', 'susman',\n",
      "       'szklarz', 'shmueli', 'spaccamela', 'speclist'],\n",
      "      dtype='object', length=5202)]\n",
      "\n",
      "  df.to_hdf(f'DevHDF5/TermMeta.hdf5', key=letter)\n"
     ]
    },
    {
     "name": "stdout",
     "output_type": "stream",
     "text": [
      "t\n"
     ]
    },
    {
     "name": "stderr",
     "output_type": "stream",
     "text": [
      "C:\\Users\\RJ\\AppData\\Local\\Temp\\ipykernel_4296\\2371581741.py:11: PerformanceWarning: \n",
      "your performance may suffer as PyTables will pickle object types that it cannot\n",
      "map directly to c-types [inferred_type->mixed-integer,key->block0_values] [items->Index(['teacher', 'teach', 'the', 'that', 'time', 'to', 'today', 'talk',\n",
      "       'toward', 'tire',\n",
      "       ...\n",
      "       'treedepth', 'triconnect', 'turninics199', 'totalel', 'times10',\n",
      "       'temprorari', 'tupel', 'tumer', 'trestl', 'tshirt'],\n",
      "      dtype='object', length=2365)]\n",
      "\n",
      "  df.to_hdf(f'DevHDF5/TermMeta.hdf5', key=letter)\n"
     ]
    },
    {
     "name": "stdout",
     "output_type": "stream",
     "text": [
      "u\n"
     ]
    },
    {
     "name": "stderr",
     "output_type": "stream",
     "text": [
      "C:\\Users\\RJ\\AppData\\Local\\Temp\\ipykernel_4296\\2371581741.py:11: PerformanceWarning: \n",
      "your performance may suffer as PyTables will pickle object types that it cannot\n",
      "map directly to c-types [inferred_type->mixed-integer,key->block0_values] [items->Index(['updat', 'upsw', 'us', 'understand', 'use', 'under', 'underkoffl',\n",
      "       'upset', 'univers', 'upload',\n",
      "       ...\n",
      "       'unrepres', 'uslan', 'unaccess', 'unceas', 'uyeda', 'ueckerdt',\n",
      "       'uniqueel', 'uncal', 'unhash', 'unhashalbl'],\n",
      "      dtype='object', length=970)]\n",
      "\n",
      "  df.to_hdf(f'DevHDF5/TermMeta.hdf5', key=letter)\n"
     ]
    },
    {
     "name": "stdout",
     "output_type": "stream",
     "text": [
      "v\n"
     ]
    },
    {
     "name": "stderr",
     "output_type": "stream",
     "text": [
      "C:\\Users\\RJ\\AppData\\Local\\Temp\\ipykernel_4296\\2371581741.py:11: PerformanceWarning: \n",
      "your performance may suffer as PyTables will pickle object types that it cannot\n",
      "map directly to c-types [inferred_type->mixed-integer,key->block0_values] [items->Index(['vision', 'veri', 'virag', 'visual', 'visit', 'video', 'vod', 'view',\n",
      "       'vehicl', 'vanilla',\n",
      "       ...\n",
      "       'victorina', 'vinh', 'variabledeclar', 'vaxman', 'vignesh', 'virgi',\n",
      "       'vaiabl', 'vk', 'verstandig', 'valentina'],\n",
      "      dtype='object', length=948)]\n",
      "\n",
      "  df.to_hdf(f'DevHDF5/TermMeta.hdf5', key=letter)\n"
     ]
    },
    {
     "name": "stdout",
     "output_type": "stream",
     "text": [
      "w\n"
     ]
    },
    {
     "name": "stderr",
     "output_type": "stream",
     "text": [
      "C:\\Users\\RJ\\AppData\\Local\\Temp\\ipykernel_4296\\2371581741.py:11: PerformanceWarning: \n",
      "your performance may suffer as PyTables will pickle object types that it cannot\n",
      "map directly to c-types [inferred_type->mixed-integer,key->block0_values] [items->Index(['watch', 'walk', 'wine', 'wa', 'wait', 'with', 'well', 'wordpress',\n",
      "       'where', 'way',\n",
      "       ...\n",
      "       'whileloop', 'winbug', 'wulff', 'winnepeg', 'waldmann', 'whetehr',\n",
      "       'wxyz', 'wiliam', 'whomev', 'worcest'],\n",
      "      dtype='object', length=1449)]\n",
      "\n",
      "  df.to_hdf(f'DevHDF5/TermMeta.hdf5', key=letter)\n"
     ]
    },
    {
     "name": "stdout",
     "output_type": "stream",
     "text": [
      "x\n"
     ]
    },
    {
     "name": "stderr",
     "output_type": "stream",
     "text": [
      "C:\\Users\\RJ\\AppData\\Local\\Temp\\ipykernel_4296\\2371581741.py:11: PerformanceWarning: \n",
      "your performance may suffer as PyTables will pickle object types that it cannot\n",
      "map directly to c-types [inferred_type->mixed-integer,key->block0_values] [items->Index(['x', 'xid', 'xma', 'xy', 'xiang', 'xyz', 'xianyang', 'xue', 'xidtech',\n",
      "       'xyggi',\n",
      "       ...\n",
      "       'x790', 'xb5', 'xaa', 'x87', 'xyplot', 'xlab', 'xlim', 'x10', 'xea',\n",
      "       'xavera'],\n",
      "      dtype='object', length=284)]\n",
      "\n",
      "  df.to_hdf(f'DevHDF5/TermMeta.hdf5', key=letter)\n"
     ]
    },
    {
     "name": "stdout",
     "output_type": "stream",
     "text": [
      "y\n"
     ]
    },
    {
     "name": "stderr",
     "output_type": "stream",
     "text": [
      "C:\\Users\\RJ\\AppData\\Local\\Temp\\ipykernel_4296\\2371581741.py:11: PerformanceWarning: \n",
      "your performance may suffer as PyTables will pickle object types that it cannot\n",
      "map directly to c-types [inferred_type->mixed-integer,key->block0_values] [items->Index(['yesterday', 'yahoo', 'year', 'your', 'ye', 'young', 'you', 'youtub',\n",
      "       'yearli', 'yourself',\n",
      "       ...\n",
      "       'yooni', 'yaron5', 'yongwei', 'yimin', 'yener', 'yhe', 'yybturn',\n",
      "       'yannan', 'yf', 'yl'],\n",
      "      dtype='object', length=443)]\n",
      "\n",
      "  df.to_hdf(f'DevHDF5/TermMeta.hdf5', key=letter)\n"
     ]
    },
    {
     "name": "stdout",
     "output_type": "stream",
     "text": [
      "z\n"
     ]
    },
    {
     "name": "stderr",
     "output_type": "stream",
     "text": [
      "C:\\Users\\RJ\\AppData\\Local\\Temp\\ipykernel_4296\\2371581741.py:11: PerformanceWarning: \n",
      "your performance may suffer as PyTables will pickle object types that it cannot\n",
      "map directly to c-types [inferred_type->mixed-integer,key->block0_values] [items->Index(['zero', 'zuckerberg', 'zone', 'ztv', 'zdnet', 'zac', 'zoom', 'zeetv',\n",
      "       'zurich', 'zidillo',\n",
      "       ...\n",
      "       'zygmund', 'zortel', 'zakliczi', 'ziwj', 'zukowic', 'zgierz', 'zahavi',\n",
      "       'zalel', 'zobel', 'zwierzynic'],\n",
      "      dtype='object', length=460)]\n",
      "\n",
      "  df.to_hdf(f'DevHDF5/TermMeta.hdf5', key=letter)\n"
     ]
    }
   ],
   "source": [
    "from string import ascii_lowercase as alc\n",
    "for letter in alc:\n",
    "    print(letter)\n",
    "    df = pd.DataFrame()\n",
    "    for term in termDict:\n",
    "        if term.startswith(letter):\n",
    "            if term == 'self':\n",
    "                df.insert(0, term, [termDict[term]['docIds'], termDict[term]['df']])\n",
    "            else:\n",
    "                df = df.assign(**{term:termDict[term]})\n",
    "    # df.to_hdf(f'DevHDF5/TermMeta.hdf5', key=letter)"
   ]
  },
  {
   "cell_type": "code",
   "execution_count": null,
   "metadata": {},
   "outputs": [],
   "source": [
    "# from string import ascii_lowercase as alc\n",
    "# abcSet = set()\n",
    "# for letter in alc: abcSet.add(letter)\n",
    "# df = pd.DataFrame()\n",
    "# for term in termDict:\n",
    "#     if term.isdigit():\n",
    "#         num = int(term)\n",
    "#         if ((num >= 0) and (num <= 5000)):\n",
    "#             if(term[0] != '0'):\n",
    "#                 print(term)\n",
    "                # df = df.assign(**{term:termDict[term]})\n",
    "# df.to_hdf(f'DevHDF5/TermMeta.hdf5', key='num')"
   ]
  },
  {
   "cell_type": "code",
   "execution_count": 15,
   "metadata": {},
   "outputs": [
    {
     "name": "stdout",
     "output_type": "stream",
     "text": [
      "{\"60\": 1}\n"
     ]
    }
   ],
   "source": [
    "import json\n",
    "json_str = json.dumps(tfDict['hello'])\n",
    "json_dict = json.loads(json_str)\n",
    "print(json_str)"
   ]
  },
  {
   "cell_type": "code",
   "execution_count": 16,
   "metadata": {},
   "outputs": [],
   "source": [
    "jsonDict = {}\n",
    "for term in tfDict:\n",
    "    jsonDict[term] = json.dumps(tfDict[term])"
   ]
  },
  {
   "cell_type": "code",
   "execution_count": 32,
   "metadata": {},
   "outputs": [
    {
     "name": "stdout",
     "output_type": "stream",
     "text": [
      "<class 'pandas.core.frame.DataFrame'>\n",
      "Index: 356273 entries, artifici to 2510003e04rik\n",
      "Data columns (total 1 columns):\n",
      " #   Column  Non-Null Count   Dtype \n",
      "---  ------  --------------   ----- \n",
      " 0   Terms   356273 non-null  object\n",
      "dtypes: object(1)\n",
      "memory usage: 5.4+ MB\n"
     ]
    }
   ],
   "source": [
    "df = df_from_dict(jsonDict).transpose()\n",
    "df.columns = ['Terms']\n",
    "df['Terms'] = df['Terms'].astype(str)\n",
    "df.info()"
   ]
  },
  {
   "cell_type": "code",
   "execution_count": 33,
   "metadata": {},
   "outputs": [],
   "source": [
    "df.to_hdf(f'DevHDF5/Terms.hdf5', key='terms')"
   ]
  }
 ],
 "metadata": {
  "kernelspec": {
   "display_name": "Python 3",
   "language": "python",
   "name": "python3"
  },
  "language_info": {
   "codemirror_mode": {
    "name": "ipython",
    "version": 3
   },
   "file_extension": ".py",
   "mimetype": "text/x-python",
   "name": "python",
   "nbconvert_exporter": "python",
   "pygments_lexer": "ipython3",
   "version": "3.10.7"
  },
  "orig_nbformat": 4
 },
 "nbformat": 4,
 "nbformat_minor": 2
}
