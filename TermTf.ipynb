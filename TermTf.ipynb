{
 "cells": [
  {
   "cell_type": "code",
   "execution_count": 1,
   "metadata": {},
   "outputs": [],
   "source": [
    "from HelperClass import InvertedIndex\n",
    "import pandas as pd\n",
    "\n",
    "import warnings\n",
    "warnings.filterwarnings('ignore')\n",
    "\n",
    "invIndex = InvertedIndex()\n",
    "invIndex.loadAll('DevShelve')"
   ]
  },
  {
   "cell_type": "code",
   "execution_count": 2,
   "metadata": {},
   "outputs": [],
   "source": [
    "tfDict = {}\n",
    "for term in invIndex['pos']:\n",
    "    tfDict[term] = {}\n",
    "    for docId in invIndex['pos'][term]:\n",
    "        tfDict[term].update({docId:len(invIndex['pos'][term][docId])})"
   ]
  },
  {
   "cell_type": "code",
   "execution_count": 3,
   "metadata": {},
   "outputs": [
    {
     "name": "stdout",
     "output_type": "stream",
     "text": [
      "a\n",
      "b\n",
      "c\n",
      "d\n",
      "e\n",
      "f\n",
      "g\n",
      "h\n",
      "i\n",
      "j\n",
      "k\n",
      "l\n",
      "m\n",
      "n\n",
      "o\n",
      "p\n"
     ]
    }
   ],
   "source": [
    "from string import ascii_lowercase as alc\n",
    "import json\n",
    "for letter in alc:\n",
    "    print(letter)\n",
    "    df = pd.DataFrame()\n",
    "    for term in tfDict:\n",
    "        if term.startswith(letter):\n",
    "            json_str = json.dumps(tfDict[term])\n",
    "            df.insert(0, term, [json_str])\n",
    "    \n",
    "    df = df.transpose()\n",
    "    df.columns = ['Terms']\n",
    "    df['Terms'] = df['Terms'].astype(str)\n",
    "    df.to_hdf(f'DevHDF5/TermTf.hdf5', key=letter)"
   ]
  }
 ],
 "metadata": {
  "kernelspec": {
   "display_name": "Python 3",
   "language": "python",
   "name": "python3"
  },
  "language_info": {
   "codemirror_mode": {
    "name": "ipython",
    "version": 3
   },
   "file_extension": ".py",
   "mimetype": "text/x-python",
   "name": "python",
   "nbconvert_exporter": "python",
   "pygments_lexer": "ipython3",
   "version": "3.10.7"
  },
  "orig_nbformat": 4
 },
 "nbformat": 4,
 "nbformat_minor": 2
}
