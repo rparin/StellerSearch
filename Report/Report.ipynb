{
 "cells": [
  {
   "cell_type": "code",
   "execution_count": 1,
   "metadata": {},
   "outputs": [],
   "source": [
    "from HelperClass import HTMLTokenizer, InvertedIndex\n",
    "from helper import cleanHtml"
   ]
  },
  {
   "cell_type": "code",
   "execution_count": 2,
   "metadata": {},
   "outputs": [
    {
     "name": "stdout",
     "output_type": "stream",
     "text": [
      "['0f274aaa945c05641a9677b951c32026bb201ec9aeb6e691fedd1235b3a5d6af.json', '192286a9954a2917a50ad6d5bb1efa61e2de5e94c7e9763d0d3c6e985677c6a5.json', '2b8802db76f30d1ea6cfc23048d6513e8a23dbf307976fff915062100762d99f.json', '35f503672017253c81058a83bc9ad0adfe3aa6f3933a4f232a93b6a5cdfd28cf.json', '7a23de605f63cf4d997c135aec35ffca3ddef439c383a7cab9b149e829d4e3f6.json', '8ef6d99d9f9264fc84514cdd2e680d35843785310331e1db4bbd06dd2b8eda9b.json', '906c24a2203dd5d6cce210c733c48b336ef58293212218808cf8fb88edcecc3b.json', '9a59f63e6facdc3e5fe5aa105c603b545d4145769a107b4dc388312a85cf76d5.json', 'c6e615a6a72d7518bd77857d8651f2c04b35207d9039ebf3cc1509ea76202013.json', 'e3554fad67505553a9742d31c4b526701f9f4a8a0a0eedfd9dafee6af43d59fc.json']\n"
     ]
    }
   ],
   "source": [
    "import os, json\n",
    "\n",
    "jsonFolder = 'Json/'\n",
    "jsonFiles = [pos_json for pos_json in os.listdir(jsonFolder) if pos_json.endswith('.json')]\n",
    "print(jsonFiles)"
   ]
  },
  {
   "cell_type": "code",
   "execution_count": 3,
   "metadata": {},
   "outputs": [],
   "source": [
    "def getHtmlContent(jsonFile:str):\n",
    "    jFile = open('Json/'+jsonFile)\n",
    "    data = json.load(jFile)\n",
    "    jFile.close()\n",
    "\n",
    "    #Get encoding and html content\n",
    "    e = data['encoding']\n",
    "    jFile = open('Json/'+jsonFile, encoding=e)\n",
    "    data = json.load(jFile)\n",
    "    jFile.close()\n",
    "    return data['content']"
   ]
  },
  {
   "cell_type": "code",
   "execution_count": 4,
   "metadata": {},
   "outputs": [],
   "source": [
    "def geturl(jsonFile:str):\n",
    "    jFile = open('Json/'+jsonFile)\n",
    "    data = json.load(jFile)\n",
    "    jFile.close()\n",
    "    return data['url']"
   ]
  },
  {
   "cell_type": "code",
   "execution_count": 5,
   "metadata": {},
   "outputs": [],
   "source": [
    "urlList = []\n",
    "for file in jsonFiles:\n",
    "    urlList.append(geturl(file))"
   ]
  },
  {
   "cell_type": "code",
   "execution_count": 17,
   "metadata": {},
   "outputs": [],
   "source": [
    "invIndex = InvertedIndex()\n",
    "docIdCount = 1\n",
    "for file in jsonFiles:\n",
    "    htmlContent = getHtmlContent(file)\n",
    "    parser = HTMLTokenizer() #Create parser obj\n",
    "    parser.feed(cleanHtml(htmlContent)) #pass in clean html to parse\n",
    "    parser.getDoc().setDocId(docIdCount) #Set docId\n",
    "    doc = parser.getDoc()\n",
    "    parser.clear() #reset parser to parse new doc\n",
    "    invIndex.addDoc(doc)\n",
    "    docIdCount += 1"
   ]
  },
  {
   "cell_type": "code",
   "execution_count": 19,
   "metadata": {},
   "outputs": [
    {
     "data": {
      "text/plain": [
       "713"
      ]
     },
     "execution_count": 19,
     "metadata": {},
     "output_type": "execute_result"
    }
   ],
   "source": [
    "def getAllTokens(invIndex):\n",
    "    tokens = set()\n",
    "    for i in range(1, invIndex.getSize()+1):\n",
    "        for tok in invIndex[i]._postings:\n",
    "            tokens.add(tok)\n",
    "    return tokens\n",
    "\n",
    "len(getAllTokens(invIndex))"
   ]
  },
  {
   "cell_type": "code",
   "execution_count": 8,
   "metadata": {},
   "outputs": [],
   "source": [
    "def getWeightStr(invIndex):\n",
    "    wStr = '| Weights | '\n",
    "    for i in range(1, invIndex.getSize()+1):\n",
    "        wCount = 0\n",
    "        for w in invIndex[i].getWeights():\n",
    "            wStr += f'{w}: '\n",
    "            pCount = 0\n",
    "            for p in invIndex[i].getWeights()[w]:\n",
    "                wStr += f'{p}'\n",
    "                pCount += 1\n",
    "                if pCount > 2:\n",
    "                    wStr += '..'\n",
    "                    break\n",
    "                wStr += ','\n",
    "            wStr = wStr.strip(',') + ' '\n",
    "            wCount += 1\n",
    "            if wCount > 1:\n",
    "                break\n",
    "        wStr += '|'\n",
    "        \n",
    "    return wStr"
   ]
  },
  {
   "cell_type": "code",
   "execution_count": 9,
   "metadata": {},
   "outputs": [],
   "source": [
    "def getTokenStr(invIndex, token):\n",
    "    tStr = token + ' Freq: '\n",
    "    pos = 0\n",
    "    fStr = '| '\n",
    "    for i in range(1, invIndex.getSize()+1):\n",
    "        pSize = len(invIndex[i][token]['pos'])\n",
    "        pos += pSize\n",
    "        fStr += f'Freq: {pSize} '\n",
    "        pCount = 0\n",
    "        if pSize > 0:\n",
    "            fStr += 'Pos: '\n",
    "        for p in invIndex[i][token]['pos']:\n",
    "            pCount += 1\n",
    "            fStr += f'{p},'\n",
    "            if pCount > 2:\n",
    "                fStr = fStr.strip(',')\n",
    "                fStr += '...'\n",
    "                break\n",
    "        fStr.strip(',')\n",
    "        fStr += '| '\n",
    "\n",
    "    return tStr + f'{pos} ' + fStr"
   ]
  },
  {
   "cell_type": "code",
   "execution_count": 10,
   "metadata": {},
   "outputs": [],
   "source": [
    "def getAllTok(invIndex):\n",
    "    tStr = ''\n",
    "    for tok in getAllTokens(invIndex):\n",
    "        if not tStr:\n",
    "            tStr += f'| Tokens  | {getTokenStr(invIndex, tok)}'\n",
    "        else:\n",
    "            tStr += f'|  | {getTokenStr(invIndex, tok)}'\n",
    "        tStr += '\\n'\n",
    "    return tStr"
   ]
  },
  {
   "cell_type": "code",
   "execution_count": 11,
   "metadata": {},
   "outputs": [],
   "source": [
    "def getUrlStr(urlList):\n",
    "    uStr = '| DocId | Url |\\n|-------|-----|\\n'\n",
    "    count = 1\n",
    "    for url in urlList:\n",
    "        uStr += f'| {count} | {url} |'\n",
    "        count += 1\n",
    "        uStr += '\\n'\n",
    "    uStr += '\\n\\n'\n",
    "    return uStr"
   ]
  },
  {
   "cell_type": "code",
   "execution_count": 12,
   "metadata": {},
   "outputs": [],
   "source": [
    "\n",
    "reportFile = open(\"Report/Report.md\", \"w\")\n",
    "reportFile.write(getUrlStr(urlList)+'\\n')\n",
    "reportFile.close()"
   ]
  },
  {
   "cell_type": "code",
   "execution_count": 13,
   "metadata": {},
   "outputs": [],
   "source": [
    "reportFile = open(\"Report/Report.md\", \"a\")\n",
    "dStr = '| DocId'\n",
    "for i in range(1, invIndex.getSize()+1):\n",
    "    dStr += f' | {i}'\n",
    "dStr += ' |'\n",
    "reportFile.write(dStr+'\\n')\n",
    "dStr = '|'\n",
    "for i in range(0, invIndex.getSize()+1):\n",
    "    dStr += '-----'\n",
    "    dStr += ' |'\n",
    "reportFile.write(dStr+'\\n')\n",
    "reportFile.close()"
   ]
  },
  {
   "cell_type": "code",
   "execution_count": 14,
   "metadata": {},
   "outputs": [],
   "source": [
    "reportFile = open(\"Report/Report.md\", \"a\")\n",
    "reportFile.write(getWeightStr(invIndex)+'\\n')\n",
    "reportFile.close()"
   ]
  },
  {
   "cell_type": "code",
   "execution_count": 15,
   "metadata": {},
   "outputs": [],
   "source": [
    "reportFile = open(\"Report/Report.md\", \"a\")\n",
    "reportFile.write(getAllTok(invIndex)+'\\n')\n",
    "reportFile.close()"
   ]
  }
 ],
 "metadata": {
  "kernelspec": {
   "display_name": "Python 3",
   "language": "python",
   "name": "python3"
  },
  "language_info": {
   "codemirror_mode": {
    "name": "ipython",
    "version": 3
   },
   "file_extension": ".py",
   "mimetype": "text/x-python",
   "name": "python",
   "nbconvert_exporter": "python",
   "pygments_lexer": "ipython3",
   "version": "3.10.7"
  },
  "orig_nbformat": 4
 },
 "nbformat": 4,
 "nbformat_minor": 2
}
