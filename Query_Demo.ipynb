{
 "cells": [
  {
   "cell_type": "code",
   "execution_count": 1,
   "metadata": {},
   "outputs": [],
   "source": [
    "import shelve\n",
    "from HelperClass import InvertedIndex, ShelveDB"
   ]
  },
  {
   "cell_type": "code",
   "execution_count": 20,
   "metadata": {},
   "outputs": [
    {
     "name": "stdout",
     "output_type": "stream",
     "text": [
      "Shows up in documents: 2\n",
      "Frequency: 2:6;\n",
      "Positions: 2:1088,930,935,942,1083,926;\n",
      "Fields: 2-normal:1088,930,935,942,1083,926;\n",
      "2:6;\n",
      "2:1088,930,935,942,1083,926;\n",
      "2-normal:1088,930,935,942,1083,926;\n"
     ]
    }
   ],
   "source": [
    "shelveDb = ShelveDB()\n",
    "totalDoc = shelveDb.getTotalDocNum() #5\n",
    "\n",
    "token = 'hello'\n",
    "postId = shelveDb.getPostId(token)\n",
    "tFreq = shelveDb.getTokenFreq(token)\n",
    "tPos = shelveDb.getTokenPos(token)\n",
    "tFields = shelveDb.getTokenFields(token)\n",
    "\n",
    "print(f'Shows up in documents: {postId}')\n",
    "print(f'Frequency: {tFreq}')\n",
    "print(f'Positions: {tPos}')\n",
    "print(f'Fields: {tFields}')\n",
    "print(tFreq)\n",
    "print(tPos)\n",
    "print(tFields)"
   ]
  },
  {
   "attachments": {},
   "cell_type": "markdown",
   "metadata": {},
   "source": [
    "1 https://www.ics.uci.edu/~irani/s15-6D/ClassNotes/23_GeneratingPermsSubsets.html  \n",
    "2 https://grape.ics.uci.edu/wiki/public/wiki/cs222-2019-fall-git?version=4  \n",
    "3 http://archive.ics.uci.edu/ml/datasets/Gas+sensor+array+exposed+to+turbulent+gas+mixtures  \n",
    "4 http://alderis.ics.uci.edu/links.html  \n",
    "5 https://aiclub.ics.uci.edu/  "
   ]
  }
 ],
 "metadata": {
  "kernelspec": {
   "display_name": "Python 3",
   "language": "python",
   "name": "python3"
  },
  "language_info": {
   "codemirror_mode": {
    "name": "ipython",
    "version": 3
   },
   "file_extension": ".py",
   "mimetype": "text/x-python",
   "name": "python",
   "nbconvert_exporter": "python",
   "pygments_lexer": "ipython3",
   "version": "3.10.7"
  },
  "orig_nbformat": 4
 },
 "nbformat": 4,
 "nbformat_minor": 2
}
