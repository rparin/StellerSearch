{
 "cells": [
  {
   "cell_type": "code",
   "execution_count": 1,
   "metadata": {},
   "outputs": [],
   "source": [
    "import shelve\n",
    "from HelperClass import InvertedIndex, ShelveDB"
   ]
  },
  {
   "cell_type": "code",
   "execution_count": 5,
   "metadata": {},
   "outputs": [
    {
     "name": "stdout",
     "output_type": "stream",
     "text": [
      "Shows up in documents: 2,3,4,5\n",
      "Frequency: 2:5;3:1;4:3;5:6;\n",
      "Positions: 2:385,1025,298,268,767;3:4;4:417,5,46;5:291,6564,2246,335,15,275;\n",
      "Fields: 2-normal:385,1025,298,268,767;3-title:4;4-title:5,h1:46,normal:417;5-title:15,h1:275,h3:291,335,normal:2246,footer:6564;\n",
      "2:5;3:1;4:3;5:6;\n",
      "2:385,1025,298,268,767;3:4;4:417,5,46;5:291,6564,2246,335,15,275;\n",
      "2-normal:385,1025,298,268,767;3-title:4;4-title:5,h1:46,normal:417;5-title:15,h1:275,h3:291,335,normal:2246,footer:6564;\n"
     ]
    }
   ],
   "source": [
    "shelveDb = ShelveDB()\n",
    "totalDoc = shelveDb.getTotalDocNum() #5\n",
    "\n",
    "token = 'uci'\n",
    "postId = shelveDb.getPostId(token)\n",
    "tFreq = shelveDb.getTokenFreq(token)\n",
    "tPos = shelveDb.getTokenPos(token)\n",
    "tFields = shelveDb.getTokenFields(token)\n",
    "\n",
    "print(f'Shows up in documents: {postId}')\n",
    "print(f'Frequency: {tFreq}')\n",
    "print(f'Positions: {tPos}')\n",
    "print(f'Fields: {tFields}')\n",
    "print(tFreq)\n",
    "print(tPos)\n",
    "print(tFields)"
   ]
  },
  {
   "cell_type": "code",
   "execution_count": 4,
   "metadata": {},
   "outputs": [
    {
     "name": "stdout",
     "output_type": "stream",
     "text": [
      "Shows up in documents: 2,5\n",
      "Frequency: 2:2;5:2;\n",
      "Positions: 2:943,927;5:542,3767;\n",
      "Fields: 2-normal:943,927;5-normal:542,3767;\n",
      "2:2;5:2;\n",
      "2:943,927;5:542,3767;\n",
      "2-normal:943,927;5-normal:542,3767;\n"
     ]
    }
   ],
   "source": [
    "token = 'world'\n",
    "postId = shelveDb.getPostId(token)\n",
    "tFreq = shelveDb.getTokenFreq(token)\n",
    "tPos = shelveDb.getTokenPos(token)\n",
    "tFields = shelveDb.getTokenFields(token)\n",
    "\n",
    "print(f'Shows up in documents: {postId}')\n",
    "print(f'Frequency: {tFreq}')\n",
    "print(f'Positions: {tPos}')\n",
    "print(f'Fields: {tFields}')\n",
    "print(tFreq)\n",
    "print(tPos)\n",
    "print(tFields)"
   ]
  },
  {
   "attachments": {},
   "cell_type": "markdown",
   "metadata": {},
   "source": [
    "1 https://www.ics.uci.edu/~irani/s15-6D/ClassNotes/23_GeneratingPermsSubsets.html  \n",
    "2 https://grape.ics.uci.edu/wiki/public/wiki/cs222-2019-fall-git?version=4  \n",
    "3 http://archive.ics.uci.edu/ml/datasets/Gas+sensor+array+exposed+to+turbulent+gas+mixtures  \n",
    "4 http://alderis.ics.uci.edu/links.html  \n",
    "5 https://aiclub.ics.uci.edu/  "
   ]
  },
  {
   "attachments": {},
   "cell_type": "markdown",
   "metadata": {},
   "source": [
    "0. Intersection (all docId that contain all query terms)  \n",
    "1. Calculate tf-idf for each query term with in each doc from step 0  \n",
    "2. For each doc add up tf-idf (all query terms in doc)  \n",
    "3. Rank highest to lowest, return doc id  "
   ]
  }
 ],
 "metadata": {
  "kernelspec": {
   "display_name": "Python 3",
   "language": "python",
   "name": "python3"
  },
  "language_info": {
   "codemirror_mode": {
    "name": "ipython",
    "version": 3
   },
   "file_extension": ".py",
   "mimetype": "text/x-python",
   "name": "python",
   "nbconvert_exporter": "python",
   "pygments_lexer": "ipython3",
   "version": "3.10.7"
  },
  "orig_nbformat": 4
 },
 "nbformat": 4,
 "nbformat_minor": 2
}
