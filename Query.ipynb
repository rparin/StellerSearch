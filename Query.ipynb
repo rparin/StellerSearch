{
 "cells": [
  {
   "cell_type": "code",
   "execution_count": 1,
   "metadata": {},
   "outputs": [],
   "source": [
    "from HelperClass import QueryParser\n",
    "\n",
    "#Open Index of Index files\n",
    "indexFp = open(\"Data/indexFp.feather\", \"rb\")\n",
    "docIdFp = open(\"Data/docIdFp.feather\", \"rb\")\n",
    "\n",
    "#Open index files\n",
    "indexFile = open('Data/Index.txt', \"r\")\n",
    "docFile = open('Data/docId.txt', \"r\")\n",
    "\n",
    "#Create query parser obj\n",
    "queryParser = QueryParser(indexFp, docIdFp, indexFile, docFile)"
   ]
  },
  {
   "cell_type": "code",
   "execution_count": 24,
   "metadata": {},
   "outputs": [
    {
     "name": "stdout",
     "output_type": "stream",
     "text": [
      "https://www.ics.uci.edu/~minhaenl/class/2015/cs_171_fall/draft/results/results_vs_PoorAI_w9_h7_g1/really_late/OurAI.class_log.txt\n",
      "https://www.ics.uci.edu/~leiy17/categories/paper/\n",
      "https://www.ics.uci.edu/~rickl/courses/cs-171/2016-smrq-cs171/CS-171-SMRQ-2016.htm\n",
      "https://www.ics.uci.edu/~minhaenl/class/2015/cs_171_fall/draft/results/results_vs_PoorAI_w8_h8_g1/really_late/OurAI.class_log.txt\n",
      "https://www.ics.uci.edu/~minhaenl/class/2015/cs_171_fall/draft/results/results_vs_PoorAI_w9_h8_g0/really_late/OurAI.class_log.txt\n",
      "https://www.ics.uci.edu/~kay/courses/i42/wildride/data/1000customers.txt\n",
      "https://www.ics.uci.edu/~rickl/courses/cs-171/2015-wq-cs171/CS-171-WQ-2015.htm\n",
      "https://www.ics.uci.edu/~eppstein/pubs/pubs.ff\n",
      "https://www.ics.uci.edu/~pattis/educationvideoclips.html\n",
      "https://www.ics.uci.edu/~rickl/courses/cs-171/2016-fq-cs171/CS-171-FQ-2016_20160919.htm\n",
      "264.1574 ms\n"
     ]
    }
   ],
   "source": [
    "import time\n",
    "start = time.time_ns()\n",
    "\n",
    "avoid = {}\n",
    "query = 'time'\n",
    "results = queryParser.runQuery(query, avoid)\n",
    "for tup in results:\n",
    "    print(queryParser._getDocData(int(tup[1]))['url'])\n",
    "\n",
    "end = time.time_ns()\n",
    "print(round(end - start) / (10**6),'ms') #Time in milliseconds"
   ]
  },
  {
   "cell_type": "code",
   "execution_count": 3,
   "metadata": {},
   "outputs": [
    {
     "name": "stdout",
     "output_type": "stream",
     "text": [
      "None\n"
     ]
    }
   ],
   "source": [
    "from spellchecker import SpellChecker\n",
    "\n",
    "spell = SpellChecker()\n",
    "word = 'asdkjaskdfasldkj'\n",
    "print(spell.correction(word))"
   ]
  }
 ],
 "metadata": {
  "kernelspec": {
   "display_name": "Python 3",
   "language": "python",
   "name": "python3"
  },
  "language_info": {
   "codemirror_mode": {
    "name": "ipython",
    "version": 3
   },
   "file_extension": ".py",
   "mimetype": "text/x-python",
   "name": "python",
   "nbconvert_exporter": "python",
   "pygments_lexer": "ipython3",
   "version": "3.10.7"
  },
  "orig_nbformat": 4
 },
 "nbformat": 4,
 "nbformat_minor": 2
}
