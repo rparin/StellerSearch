{
 "cells": [
  {
   "cell_type": "code",
   "execution_count": 1,
   "metadata": {},
   "outputs": [],
   "source": [
    "from HelperClass import QueryParser\n",
    "\n",
    "#Open Index of Index files\n",
    "indexFp = open(\"Data/indexFp.feather\", \"rb\")\n",
    "docIdFp = open(\"Data/docIdFp.feather\", \"rb\")\n",
    "\n",
    "#Open index files\n",
    "indexFile = open('Data/Index.txt', \"r\")\n",
    "docFile = open('Data/docId.txt', \"r\")\n",
    "\n",
    "#Create query parser obj\n",
    "queryParser = QueryParser(indexFp, docIdFp, indexFile, docFile)"
   ]
  },
  {
   "cell_type": "code",
   "execution_count": 6,
   "metadata": {},
   "outputs": [
    {
     "name": "stdout",
     "output_type": "stream",
     "text": [
      "2.6294252829828206\n",
      "https://www.ics.uci.edu/~kobsa/privacy/intlprivlawsurvey.html\n",
      "https://www.ics.uci.edu/~eppstein/pix/iday06/IranAndIreland.html\n",
      "https://www.ics.uci.edu/~emilyo/SimSE/publications.html\n",
      "http://archive.ics.uci.edu/ml/support/Lymphography#d342517262ff52ffd3566bd8f520b36723486aa3\n",
      "https://www.ics.uci.edu/~kay/courses/h22/hw/DVD.txt\n",
      "https://www.ics.uci.edu/~kobsa/kobsa-vita.html\n",
      "https://www.ics.uci.edu/~kay/wordlist.txt\n",
      "https://www.ics.uci.edu/~dan/class/267P/datasets/calgary/bib\n",
      "https://www.ics.uci.edu/~icgse2016/4_05accepted_papers.html\n",
      "https://duttgroup.ics.uci.edu/projects/neuromorphic-computing/#content\n",
      "329.6882 ms\n"
     ]
    }
   ],
   "source": [
    "import time\n",
    "start = time.time_ns()\n",
    "\n",
    "avoid = {}\n",
    "query = 'kirkland'\n",
    "results = queryParser.runQuery(query, avoid)\n",
    "for tup in results:\n",
    "    print(queryParser._getDocData(int(tup[1]))['url'])\n",
    "\n",
    "end = time.time_ns()\n",
    "print(round(end - start) / (10**6),'ms') #Time in milliseconds"
   ]
  },
  {
   "cell_type": "code",
   "execution_count": 3,
   "metadata": {},
   "outputs": [
    {
     "name": "stdout",
     "output_type": "stream",
     "text": [
      "student clubs\n"
     ]
    }
   ],
   "source": [
    "from autocorrect import Speller\n",
    "\n",
    "spellCheck = Speller(lang='en')\n",
    "word = 'stdent clubbs'\n",
    "print(spellCheck(word))"
   ]
  }
 ],
 "metadata": {
  "kernelspec": {
   "display_name": "Python 3",
   "language": "python",
   "name": "python3"
  },
  "language_info": {
   "codemirror_mode": {
    "name": "ipython",
    "version": 3
   },
   "file_extension": ".py",
   "mimetype": "text/x-python",
   "name": "python",
   "nbconvert_exporter": "python",
   "pygments_lexer": "ipython3",
   "version": "3.10.7"
  },
  "orig_nbformat": 4
 },
 "nbformat": 4,
 "nbformat_minor": 2
}
