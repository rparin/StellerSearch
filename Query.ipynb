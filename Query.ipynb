{
 "cells": [
  {
   "cell_type": "code",
   "execution_count": 1,
   "metadata": {},
   "outputs": [],
   "source": [
    "from HelperClass import QueryParser\n",
    "\n",
    "queryParser = QueryParser()"
   ]
  },
  {
   "cell_type": "code",
   "execution_count": 8,
   "metadata": {},
   "outputs": [
    {
     "name": "stdout",
     "output_type": "stream",
     "text": [
      "54604 https://www.informatics.uci.edu/grad/mswe/ -11.6239\n",
      "51294 https://www.ics.uci.edu/grad/admissions/index.php -14.88464\n",
      "28849 https://www.ics.uci.edu/grad/degrees/ -14.90857\n",
      "17001 https://mswe.ics.uci.edu/ -15.66403\n",
      "54459 https://www.informatics.uci.edu/grad/ms-software-engineering/#content -18.38871\n",
      "23089 https://www.ics.uci.edu/~aalshayb/ -18.41666\n",
      "28506 https://www.ics.uci.edu/~shantas/cv.html -20.43796\n",
      "34271 https://www.ics.uci.edu/~mrrahimi/Education.html -20.98733\n",
      "54666 https://www.informatics.uci.edu/training-tomorrows-software-engineers/#content -21.12372\n",
      "42529 https://www.ics.uci.edu/~epaikari/ -22.34779\n",
      "76.7769 ms\n"
     ]
    }
   ],
   "source": [
    "import time\n",
    "start = time.time_ns()\n",
    "query = 'master of software engineer'\n",
    "queryParser.setQuery(query)\n",
    "queryParser.printTf_IdfRank()\n",
    "\n",
    "end = time.time_ns()\n",
    "print(round(end - start) / (10**6),'ms') #Time in milliseconds"
   ]
  }
 ],
 "metadata": {
  "kernelspec": {
   "display_name": "Python 3",
   "language": "python",
   "name": "python3"
  },
  "language_info": {
   "codemirror_mode": {
    "name": "ipython",
    "version": 3
   },
   "file_extension": ".py",
   "mimetype": "text/x-python",
   "name": "python",
   "nbconvert_exporter": "python",
   "pygments_lexer": "ipython3",
   "version": "3.10.7"
  },
  "orig_nbformat": 4
 },
 "nbformat": 4,
 "nbformat_minor": 2
}
