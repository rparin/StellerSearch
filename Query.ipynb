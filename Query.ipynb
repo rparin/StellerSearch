{
 "cells": [
  {
   "cell_type": "code",
   "execution_count": 1,
   "metadata": {},
   "outputs": [],
   "source": [
    "from HelperClass import QueryParser\n",
    "\n",
    "#Open Index of Index files\n",
    "indexFp = open(\"Data/indexFp.feather\", \"rb\")\n",
    "docIdFp = open(\"Data/docIdFp.feather\", \"rb\")\n",
    "\n",
    "#Open index files\n",
    "indexFile = open('Data/Index.txt', \"r\")\n",
    "docFile = open('Data/docId.txt', \"r\")\n",
    "\n",
    "#Create query parser obj\n",
    "queryParser = QueryParser(indexFp, docIdFp, indexFile, docFile)"
   ]
  },
  {
   "cell_type": "code",
   "execution_count": 3,
   "metadata": {},
   "outputs": [
    {
     "name": "stdout",
     "output_type": "stream",
     "text": [
      "29716\n",
      "17001\n",
      "54680\n",
      "24257\n",
      "51294\n",
      "16995\n",
      "34271\n",
      "54459\n",
      "21729\n",
      "54391\n",
      "45.496 ms\n"
     ]
    }
   ],
   "source": [
    "import time\n",
    "start = time.time_ns()\n",
    "\n",
    "avoid = {}\n",
    "query = 'master of software engineer'\n",
    "results = queryParser.runQuery(query, avoid)\n",
    "for tup in results:\n",
    "    print(tup[1])\n",
    "\n",
    "end = time.time_ns()\n",
    "print(round(end - start) / (10**6),'ms') #Time in milliseconds"
   ]
  }
 ],
 "metadata": {
  "kernelspec": {
   "display_name": "Python 3",
   "language": "python",
   "name": "python3"
  },
  "language_info": {
   "codemirror_mode": {
    "name": "ipython",
    "version": 3
   },
   "file_extension": ".py",
   "mimetype": "text/x-python",
   "name": "python",
   "nbconvert_exporter": "python",
   "pygments_lexer": "ipython3",
   "version": "3.10.7"
  },
  "orig_nbformat": 4
 },
 "nbformat": 4,
 "nbformat_minor": 2
}
