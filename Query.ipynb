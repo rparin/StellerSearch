{
 "cells": [
  {
   "cell_type": "code",
   "execution_count": 1,
   "metadata": {},
   "outputs": [],
   "source": [
    "from HelperClass import QueryParser\n",
    "\n",
    "queryParser = QueryParser()\n",
    "query = 'master of software engineer'"
   ]
  },
  {
   "cell_type": "code",
   "execution_count": 3,
   "metadata": {},
   "outputs": [
    {
     "name": "stdout",
     "output_type": "stream",
     "text": [
      "29716 https://www.ics.uci.edu/~neno/vita/vita.html 46.98415\n",
      "17001 https://mswe.ics.uci.edu/ 45.9336\n",
      "54680 https://www.informatics.uci.edu/grad/mswe/#content 44.21775\n",
      "28849 https://www.ics.uci.edu/grad/degrees/ 43.71712\n",
      "26317 https://www.ics.uci.edu/grad/admissions/index 43.66838\n",
      "16995 https://mswe.ics.uci.edu/program/curriculum/ 42.92395\n",
      "34271 https://www.ics.uci.edu/~mrrahimi/Education.html 40.82172\n",
      "53900 https://www.informatics.uci.edu/grad/ms-software-engineering/ 40.80404\n",
      "21729 https://www.ics.uci.edu/~epaikari/#portfolioModal3 40.38412\n",
      "54745 https://www.informatics.uci.edu/alumni-spotlights-ics-grads-help-autogravity-revolutionize-digital-car-buying/#content 40.07312\n",
      "44.1787 ms\n"
     ]
    }
   ],
   "source": [
    "import time\n",
    "start = time.time_ns()\n",
    "\n",
    "queryParser.setQuery(query)\n",
    "queryParser.printTf_IdfRank()\n",
    "\n",
    "end = time.time_ns()\n",
    "print(round(end - start) / (10**6),'ms') #Time in milliseconds"
   ]
  }
 ],
 "metadata": {
  "kernelspec": {
   "display_name": "Python 3",
   "language": "python",
   "name": "python3"
  },
  "language_info": {
   "codemirror_mode": {
    "name": "ipython",
    "version": 3
   },
   "file_extension": ".py",
   "mimetype": "text/x-python",
   "name": "python",
   "nbconvert_exporter": "python",
   "pygments_lexer": "ipython3",
   "version": "3.10.7"
  },
  "orig_nbformat": 4
 },
 "nbformat": 4,
 "nbformat_minor": 2
}
