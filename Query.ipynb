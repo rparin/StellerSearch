{
 "cells": [
  {
   "cell_type": "code",
   "execution_count": 1,
   "metadata": {},
   "outputs": [],
   "source": [
    "from HelperClass import QueryParser\n",
    "\n",
    "#Open Index of Index files\n",
    "indexFp = open(\"Data/indexFp.feather\", \"rb\")\n",
    "docIdFp = open(\"Data/docIdFp.feather\", \"rb\")\n",
    "\n",
    "#Open index files\n",
    "indexFile = open('Data/Index.txt', \"r\")\n",
    "docFile = open('Data/docId.txt', \"r\")\n",
    "\n",
    "#Create query parser obj\n",
    "queryParser = QueryParser(indexFp, docIdFp, indexFile, docFile)"
   ]
  },
  {
   "cell_type": "code",
   "execution_count": 3,
   "metadata": {},
   "outputs": [
    {
     "name": "stdout",
     "output_type": "stream",
     "text": [
      "https://www.ics.uci.edu/~pattis/ICS-21/lectures/usingclasses/lecture.html\n",
      "https://www.ics.uci.edu/~feldman/LEC12.htm\n",
      "https://www.ics.uci.edu/~eppstein/pubs/pubs.ff\n",
      "https://www.ics.uci.edu/~eppstein/pubs/all.html\n",
      "https://www.ics.uci.edu/~thornton/ics32/Notes/WebAPIs/\n",
      "https://www.ics.uci.edu/~ejw/authoring/scenarios/webdav_scen_110796.html\n",
      "http://sli.ics.uci.edu/pmwiki/pmwiki.php?n=PmWiki%2FUploads\n",
      "https://www.ics.uci.edu/~dan/class/267P/datasets/calgary/book1\n",
      "https://www.ics.uci.edu/~pattis/ICS-21/lectures/writingclasses/lecture.html\n",
      "https://grape.ics.uci.edu/wiki/public/wiki/cs122b-2019-winter-project3?version=8\n",
      "152.1573 ms\n"
     ]
    }
   ],
   "source": [
    "import time\n",
    "start = time.time_ns()\n",
    "\n",
    "avoid = {}\n",
    "query = 'Replace this with your query'\n",
    "results = queryParser.runQuery(query, avoid)\n",
    "for tup in results:\n",
    "    print(queryParser._getDocData(int(tup[1]))['url'])\n",
    "\n",
    "end = time.time_ns()\n",
    "print(round(end - start) / (10**6),'ms') #Time in milliseconds"
   ]
  },
  {
   "cell_type": "code",
   "execution_count": 7,
   "metadata": {},
   "outputs": [
    {
     "name": "stdout",
     "output_type": "stream",
     "text": [
      "None\n"
     ]
    }
   ],
   "source": [
    "from spellchecker import SpellChecker\n",
    "\n",
    "spell = SpellChecker()\n",
    "word = 'asdkjaskdfasldkj'\n",
    "print(spell.correction(word))"
   ]
  }
 ],
 "metadata": {
  "kernelspec": {
   "display_name": "Python 3",
   "language": "python",
   "name": "python3"
  },
  "language_info": {
   "codemirror_mode": {
    "name": "ipython",
    "version": 3
   },
   "file_extension": ".py",
   "mimetype": "text/x-python",
   "name": "python",
   "nbconvert_exporter": "python",
   "pygments_lexer": "ipython3",
   "version": "3.10.7"
  },
  "orig_nbformat": 4
 },
 "nbformat": 4,
 "nbformat_minor": 2
}
