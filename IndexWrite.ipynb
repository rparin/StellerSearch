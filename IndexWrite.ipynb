{
 "cells": [
  {
   "cell_type": "code",
   "execution_count": 1,
   "metadata": {},
   "outputs": [],
   "source": [
    "import os\n",
    "import json\n",
    "\n",
    "def getFpDict():\n",
    "    fpDict = {}\n",
    "    with open('Test.txt', \"r+\") as fp:\n",
    "        while not (fp.tell() == os.fstat(fp.fileno()).st_size):\n",
    "            fpPos = fp.tell()\n",
    "            line = fp.readline().split('-')\n",
    "            fpDict[line[0]] = fpPos\n",
    "    return fpDict\n",
    "\n",
    "def getTermInfo(term:str, fpDict:dict):\n",
    "    termInfo = None\n",
    "    with open('Test.txt', \"r+\") as fp:\n",
    "        fp.seek(fpDict[term])\n",
    "        termInfo = fp.readline().strip().split('-')[1]\n",
    "    return json.loads(termInfo)"
   ]
  },
  {
   "cell_type": "code",
   "execution_count": 2,
   "metadata": {},
   "outputs": [
    {
     "data": {
      "text/plain": [
       "{'allhyp': 0, 'hilla': 66, 'corsika': 135, 'terrnec': 187}"
      ]
     },
     "execution_count": 2,
     "metadata": {},
     "output_type": "execute_result"
    }
   ],
   "source": [
    "fpDict = getFpDict()\n",
    "fpDict"
   ]
  },
  {
   "cell_type": "code",
   "execution_count": 9,
   "metadata": {},
   "outputs": [
    {
     "name": "stdout",
     "output_type": "stream",
     "text": [
      "{'df': 2, 'tf': {'60': 3, '800': 1}, 'docIds': [800, 60]}\n",
      "{'df': 2, 'tf': {'63': 1, '1166': 1}, 'docIds': [1166, 63]}\n"
     ]
    }
   ],
   "source": [
    "termA = getTermInfo('allhyp', fpDict)\n",
    "termT = getTermInfo('terrnec', fpDict)\n",
    "\n",
    "print(termA)\n",
    "print(termT)"
   ]
  },
  {
   "cell_type": "code",
   "execution_count": 10,
   "metadata": {},
   "outputs": [
    {
     "data": {
      "text/plain": [
       "{'60': 3, '800': 1}"
      ]
     },
     "execution_count": 10,
     "metadata": {},
     "output_type": "execute_result"
    }
   ],
   "source": [
    "termA['tf']"
   ]
  },
  {
   "cell_type": "code",
   "execution_count": 12,
   "metadata": {},
   "outputs": [
    {
     "data": {
      "text/plain": [
       "['60', '800']"
      ]
     },
     "execution_count": 12,
     "metadata": {},
     "output_type": "execute_result"
    }
   ],
   "source": [
    "list(termA['tf'])"
   ]
  },
  {
   "cell_type": "code",
   "execution_count": 4,
   "metadata": {},
   "outputs": [
    {
     "data": {
      "text/plain": [
       "{'df': 10,\n",
       " 'tf': {'60': 3, '800': 1, '63': 1, '1166': 1},\n",
       " 'docIds': [800, 60, 1166, 63]}"
      ]
     },
     "execution_count": 4,
     "metadata": {},
     "output_type": "execute_result"
    }
   ],
   "source": [
    "termA['df'] = 10\n",
    "termA['tf'].update(termT['tf'])\n",
    "termA['docIds'] = list(set(termA['docIds']).union(termT['docIds']))\n",
    "termA"
   ]
  },
  {
   "cell_type": "code",
   "execution_count": 8,
   "metadata": {},
   "outputs": [],
   "source": [
    "term = 'allhyp'\n",
    "termA_str = json.dumps(termA)\n",
    "with open('Test.txt', \"r+\") as fp:\n",
    "    fp.seek(fpDict[term])\n",
    "    fp.write(f'{term}-{termA_str}\\n')"
   ]
  }
 ],
 "metadata": {
  "kernelspec": {
   "display_name": "Python 3",
   "language": "python",
   "name": "python3"
  },
  "language_info": {
   "codemirror_mode": {
    "name": "ipython",
    "version": 3
   },
   "file_extension": ".py",
   "mimetype": "text/x-python",
   "name": "python",
   "nbconvert_exporter": "python",
   "pygments_lexer": "ipython3",
   "version": "3.10.7"
  },
  "orig_nbformat": 4
 },
 "nbformat": 4,
 "nbformat_minor": 2
}
