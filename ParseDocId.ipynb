{
 "cells": [
  {
   "cell_type": "code",
   "execution_count": null,
   "metadata": {},
   "outputs": [],
   "source": [
    "docUrl = {}\n",
    "docLen = {}\n",
    "\n",
    "with open(\"docId.txt\") as inFile:\n",
    "    for line in inFile:\n",
    "        parsed = line.split()\n",
    "        docUrl[int(parsed[0])] = parsed[1]\n",
    "        docLen[int(parsed[0])] = int(parsed[2])\n",
    "\n",
    "print(len(docUrl),docUrl[1],docLen[1])"
   ]
  },
  {
   "cell_type": "code",
   "execution_count": null,
   "metadata": {},
   "outputs": [],
   "source": [
    "import pandas as pd\n",
    "\n",
    "def df_from_dict(dictObj:dict, toInt = False):\n",
    "    df = pd.DataFrame.from_dict(dictObj, orient='index')\n",
    "    if toInt: df = df.astype('int32')\n",
    "    return df.transpose()\n",
    "\n",
    "dfLen = df_from_dict(docLen, True)\n",
    "dfUrl = df_from_dict(docUrl)"
   ]
  },
  {
   "cell_type": "code",
   "execution_count": null,
   "metadata": {},
   "outputs": [],
   "source": [
    "dfUrl"
   ]
  },
  {
   "cell_type": "code",
   "execution_count": null,
   "metadata": {},
   "outputs": [],
   "source": [
    "dfLen"
   ]
  },
  {
   "cell_type": "code",
   "execution_count": null,
   "metadata": {},
   "outputs": [],
   "source": [
    "doc10Len = dfLen[10][0]\n",
    "doc10Len"
   ]
  },
  {
   "cell_type": "code",
   "execution_count": null,
   "metadata": {},
   "outputs": [],
   "source": [
    "doc10Url = dfUrl[10][0]\n",
    "doc10Url"
   ]
  },
  {
   "cell_type": "code",
   "execution_count": null,
   "metadata": {},
   "outputs": [],
   "source": [
    "# dfLen.to_hdf(f'DevHDF5/DocId.hdf5', key='docLen')\n",
    "# dfUrl.to_hdf(f'DevHDF5/DocId.hdf5', key='url')"
   ]
  },
  {
   "cell_type": "code",
   "execution_count": null,
   "metadata": {},
   "outputs": [],
   "source": [
    "dfLenRead = pd.read_hdf('DevHDF5/DocId.hdf5', 'docLen')"
   ]
  },
  {
   "cell_type": "code",
   "execution_count": null,
   "metadata": {},
   "outputs": [],
   "source": [
    "dfLenRead[11][0]"
   ]
  }
 ],
 "metadata": {
  "kernelspec": {
   "display_name": "Python 3",
   "language": "python",
   "name": "python3"
  },
  "language_info": {
   "codemirror_mode": {
    "name": "ipython",
    "version": 3
   },
   "file_extension": ".py",
   "mimetype": "text/x-python",
   "name": "python",
   "nbconvert_exporter": "python",
   "pygments_lexer": "ipython3",
   "version": "3.10.7"
  },
  "orig_nbformat": 4
 },
 "nbformat": 4,
 "nbformat_minor": 2
}
