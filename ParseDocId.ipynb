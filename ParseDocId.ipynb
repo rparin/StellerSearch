{
 "cells": [
  {
   "cell_type": "code",
   "execution_count": 6,
   "metadata": {},
   "outputs": [
    {
     "name": "stdout",
     "output_type": "stream",
     "text": [
      "55382 https://aiclub.ics.uci.edu/ 390\n"
     ]
    }
   ],
   "source": [
    "docUrl = {}\n",
    "docLen = {}\n",
    "\n",
    "with open(\"docId.txt\") as inFile:\n",
    "    for line in inFile:\n",
    "        parsed = line.split()\n",
    "        docUrl[int(parsed[0])] = parsed[1]\n",
    "        docLen[int(parsed[0])] = int(parsed[2])\n",
    "\n",
    "print(len(docUrl),docUrl[1],docLen[1])"
   ]
  },
  {
   "cell_type": "code",
   "execution_count": 30,
   "metadata": {},
   "outputs": [],
   "source": [
    "import pandas as pd\n",
    "\n",
    "def df_from_dict(dictObj:dict, toInt = False):\n",
    "    df = pd.DataFrame.from_dict(dictObj, orient='index')\n",
    "    if toInt: df = df.astype('int32')\n",
    "    return df.transpose()\n",
    "\n",
    "dfLen = df_from_dict(docLen, True)\n",
    "dfUrl = df_from_dict(docUrl)"
   ]
  },
  {
   "cell_type": "code",
   "execution_count": 31,
   "metadata": {},
   "outputs": [
    {
     "data": {
      "text/html": [
       "<div>\n",
       "<style scoped>\n",
       "    .dataframe tbody tr th:only-of-type {\n",
       "        vertical-align: middle;\n",
       "    }\n",
       "\n",
       "    .dataframe tbody tr th {\n",
       "        vertical-align: top;\n",
       "    }\n",
       "\n",
       "    .dataframe thead th {\n",
       "        text-align: right;\n",
       "    }\n",
       "</style>\n",
       "<table border=\"1\" class=\"dataframe\">\n",
       "  <thead>\n",
       "    <tr style=\"text-align: right;\">\n",
       "      <th></th>\n",
       "      <th>1</th>\n",
       "      <th>2</th>\n",
       "      <th>3</th>\n",
       "      <th>4</th>\n",
       "      <th>5</th>\n",
       "      <th>6</th>\n",
       "      <th>7</th>\n",
       "      <th>8</th>\n",
       "      <th>9</th>\n",
       "      <th>10</th>\n",
       "      <th>...</th>\n",
       "      <th>55373</th>\n",
       "      <th>55374</th>\n",
       "      <th>55375</th>\n",
       "      <th>55376</th>\n",
       "      <th>55377</th>\n",
       "      <th>55378</th>\n",
       "      <th>55379</th>\n",
       "      <th>55380</th>\n",
       "      <th>55381</th>\n",
       "      <th>55382</th>\n",
       "    </tr>\n",
       "  </thead>\n",
       "  <tbody>\n",
       "    <tr>\n",
       "      <th>0</th>\n",
       "      <td>https://aiclub.ics.uci.edu/</td>\n",
       "      <td>https://aiclub.ics.uci.edu/#body</td>\n",
       "      <td>https://aiclub.ics.uci.edu/index.html</td>\n",
       "      <td>http://alderis.ics.uci.edu/links.html</td>\n",
       "      <td>http://alderis.ics.uci.edu/publications.html</td>\n",
       "      <td>http://alderis.ics.uci.edu/</td>\n",
       "      <td>http://alderis.ics.uci.edu/dresystems.html</td>\n",
       "      <td>http://alderis.ics.uci.edu/amba2.html</td>\n",
       "      <td>http://alderis.ics.uci.edu/index.html</td>\n",
       "      <td>http://alderis.ics.uci.edu/downloads.html</td>\n",
       "      <td>...</td>\n",
       "      <td>http://www-db.ics.uci.edu/pages/research/satur...</td>\n",
       "      <td>http://www-db.ics.uci.edu/pages/research/mars/</td>\n",
       "      <td>http://www-db.ics.uci.edu/pages/research/mars/...</td>\n",
       "      <td>http://www-db.ics.uci.edu/pages/research/mars/...</td>\n",
       "      <td>http://xtune.ics.uci.edu/people.htm</td>\n",
       "      <td>http://xtune.ics.uci.edu/sponsor.htm</td>\n",
       "      <td>http://xtune.ics.uci.edu/news.htm</td>\n",
       "      <td>http://xtune.ics.uci.edu/xtune-pub.htm</td>\n",
       "      <td>http://xtune.ics.uci.edu/link.htm</td>\n",
       "      <td>http://xtune.ics.uci.edu/</td>\n",
       "    </tr>\n",
       "  </tbody>\n",
       "</table>\n",
       "<p>1 rows × 55382 columns</p>\n",
       "</div>"
      ],
      "text/plain": [
       "                         1                                 2      \\\n",
       "0  https://aiclub.ics.uci.edu/  https://aiclub.ics.uci.edu/#body   \n",
       "\n",
       "                                   3      \\\n",
       "0  https://aiclub.ics.uci.edu/index.html   \n",
       "\n",
       "                                   4      \\\n",
       "0  http://alderis.ics.uci.edu/links.html   \n",
       "\n",
       "                                          5                            6      \\\n",
       "0  http://alderis.ics.uci.edu/publications.html  http://alderis.ics.uci.edu/   \n",
       "\n",
       "                                        7      \\\n",
       "0  http://alderis.ics.uci.edu/dresystems.html   \n",
       "\n",
       "                                   8      \\\n",
       "0  http://alderis.ics.uci.edu/amba2.html   \n",
       "\n",
       "                                   9      \\\n",
       "0  http://alderis.ics.uci.edu/index.html   \n",
       "\n",
       "                                       10     ...  \\\n",
       "0  http://alderis.ics.uci.edu/downloads.html  ...   \n",
       "\n",
       "                                               55373  \\\n",
       "0  http://www-db.ics.uci.edu/pages/research/satur...   \n",
       "\n",
       "                                            55374  \\\n",
       "0  http://www-db.ics.uci.edu/pages/research/mars/   \n",
       "\n",
       "                                               55375  \\\n",
       "0  http://www-db.ics.uci.edu/pages/research/mars/...   \n",
       "\n",
       "                                               55376  \\\n",
       "0  http://www-db.ics.uci.edu/pages/research/mars/...   \n",
       "\n",
       "                                 55377                                 55378  \\\n",
       "0  http://xtune.ics.uci.edu/people.htm  http://xtune.ics.uci.edu/sponsor.htm   \n",
       "\n",
       "                               55379                                   55380  \\\n",
       "0  http://xtune.ics.uci.edu/news.htm  http://xtune.ics.uci.edu/xtune-pub.htm   \n",
       "\n",
       "                               55381                      55382  \n",
       "0  http://xtune.ics.uci.edu/link.htm  http://xtune.ics.uci.edu/  \n",
       "\n",
       "[1 rows x 55382 columns]"
      ]
     },
     "execution_count": 31,
     "metadata": {},
     "output_type": "execute_result"
    }
   ],
   "source": [
    "dfUrl"
   ]
  },
  {
   "cell_type": "code",
   "execution_count": 27,
   "metadata": {},
   "outputs": [
    {
     "data": {
      "text/html": [
       "<div>\n",
       "<style scoped>\n",
       "    .dataframe tbody tr th:only-of-type {\n",
       "        vertical-align: middle;\n",
       "    }\n",
       "\n",
       "    .dataframe tbody tr th {\n",
       "        vertical-align: top;\n",
       "    }\n",
       "\n",
       "    .dataframe thead th {\n",
       "        text-align: right;\n",
       "    }\n",
       "</style>\n",
       "<table border=\"1\" class=\"dataframe\">\n",
       "  <thead>\n",
       "    <tr style=\"text-align: right;\">\n",
       "      <th></th>\n",
       "      <th>1</th>\n",
       "      <th>2</th>\n",
       "      <th>3</th>\n",
       "      <th>4</th>\n",
       "      <th>5</th>\n",
       "      <th>6</th>\n",
       "      <th>7</th>\n",
       "      <th>8</th>\n",
       "      <th>9</th>\n",
       "      <th>10</th>\n",
       "      <th>...</th>\n",
       "      <th>55373</th>\n",
       "      <th>55374</th>\n",
       "      <th>55375</th>\n",
       "      <th>55376</th>\n",
       "      <th>55377</th>\n",
       "      <th>55378</th>\n",
       "      <th>55379</th>\n",
       "      <th>55380</th>\n",
       "      <th>55381</th>\n",
       "      <th>55382</th>\n",
       "    </tr>\n",
       "  </thead>\n",
       "  <tbody>\n",
       "    <tr>\n",
       "      <th>0</th>\n",
       "      <td>390</td>\n",
       "      <td>390</td>\n",
       "      <td>390</td>\n",
       "      <td>140</td>\n",
       "      <td>317</td>\n",
       "      <td>429</td>\n",
       "      <td>450</td>\n",
       "      <td>515</td>\n",
       "      <td>429</td>\n",
       "      <td>170</td>\n",
       "      <td>...</td>\n",
       "      <td>104</td>\n",
       "      <td>1942</td>\n",
       "      <td>1942</td>\n",
       "      <td>1942</td>\n",
       "      <td>65</td>\n",
       "      <td>37</td>\n",
       "      <td>53</td>\n",
       "      <td>356</td>\n",
       "      <td>53</td>\n",
       "      <td>256</td>\n",
       "    </tr>\n",
       "  </tbody>\n",
       "</table>\n",
       "<p>1 rows × 55382 columns</p>\n",
       "</div>"
      ],
      "text/plain": [
       "   1      2      3      4      5      6      7      8      9      10     ...  \\\n",
       "0    390    390    390    140    317    429    450    515    429    170  ...   \n",
       "\n",
       "   55373  55374  55375  55376  55377  55378  55379  55380  55381  55382  \n",
       "0    104   1942   1942   1942     65     37     53    356     53    256  \n",
       "\n",
       "[1 rows x 55382 columns]"
      ]
     },
     "execution_count": 27,
     "metadata": {},
     "output_type": "execute_result"
    }
   ],
   "source": [
    "dfLen"
   ]
  },
  {
   "cell_type": "code",
   "execution_count": 29,
   "metadata": {},
   "outputs": [
    {
     "data": {
      "text/plain": [
       "170"
      ]
     },
     "execution_count": 29,
     "metadata": {},
     "output_type": "execute_result"
    }
   ],
   "source": [
    "doc10Len = dfLen[10][0]\n",
    "doc10Len"
   ]
  },
  {
   "cell_type": "code",
   "execution_count": 34,
   "metadata": {},
   "outputs": [
    {
     "data": {
      "text/plain": [
       "'http://alderis.ics.uci.edu/downloads.html'"
      ]
     },
     "execution_count": 34,
     "metadata": {},
     "output_type": "execute_result"
    }
   ],
   "source": [
    "doc10Url = dfUrl[10][0]\n",
    "doc10Url"
   ]
  },
  {
   "cell_type": "code",
   "execution_count": 35,
   "metadata": {},
   "outputs": [],
   "source": [
    "dfLen.to_hdf(f'DevHDF5/DocId.hdf5', key='docLen')\n",
    "dfUrl.to_hdf(f'DevHDF5/DocId.hdf5', key='url')"
   ]
  }
 ],
 "metadata": {
  "kernelspec": {
   "display_name": "Python 3",
   "language": "python",
   "name": "python3"
  },
  "language_info": {
   "codemirror_mode": {
    "name": "ipython",
    "version": 3
   },
   "file_extension": ".py",
   "mimetype": "text/x-python",
   "name": "python",
   "nbconvert_exporter": "python",
   "pygments_lexer": "ipython3",
   "version": "3.10.7"
  },
  "orig_nbformat": 4
 },
 "nbformat": 4,
 "nbformat_minor": 2
}
