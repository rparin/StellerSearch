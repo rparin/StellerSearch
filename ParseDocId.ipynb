{
 "cells": [
  {
   "cell_type": "code",
   "execution_count": 1,
   "metadata": {},
   "outputs": [
    {
     "name": "stdout",
     "output_type": "stream",
     "text": [
      "55382 https://aiclub.ics.uci.edu/ 390\n"
     ]
    },
    {
     "data": {
      "text/plain": [
       "'60000'"
      ]
     },
     "execution_count": 1,
     "metadata": {},
     "output_type": "execute_result"
    }
   ],
   "source": [
    "import pandas as pd\n",
    "import warnings\n",
    "warnings.filterwarnings('ignore')\n",
    "\n",
    "def df_from_dict(dictObj:dict, toInt = False):\n",
    "    df = pd.DataFrame.from_dict(dictObj, orient='index')\n",
    "    if toInt: df = df.astype('int32')\n",
    "    return df.transpose()\n",
    "\n",
    "def getDocKey(docId:int, N = 60000):\n",
    "    for doc in range(0,N+1,5000):\n",
    "        if docId <= doc:\n",
    "            return str(doc)\n",
    "\n",
    "docUrl = {}\n",
    "docLen = {}\n",
    "\n",
    "with open(\"docId.txt\") as inFile:\n",
    "    for line in inFile:\n",
    "        parsed = line.split()\n",
    "        docUrl[int(parsed[0])] = parsed[1]\n",
    "        docLen[int(parsed[0])] = int(parsed[2])\n",
    "\n",
    "print(len(docUrl),docUrl[1],docLen[1])\n",
    "getDocKey(55382)"
   ]
  },
  {
   "cell_type": "code",
   "execution_count": 30,
   "metadata": {},
   "outputs": [
    {
     "name": "stdout",
     "output_type": "stream",
     "text": [
      "write 5000\n",
      "write 10000\n",
      "write 15000\n",
      "write 20000\n",
      "write 25000\n",
      "write 30000\n",
      "write 35000\n",
      "write 40000\n",
      "write 45000\n",
      "write 50000\n",
      "write 55000\n"
     ]
    }
   ],
   "source": [
    "df = pd.DataFrame()\n",
    "lastDoc = None\n",
    "for docId in docUrl:\n",
    "    lastDoc = docId\n",
    "    df.insert(len(df.columns), docId, [docUrl[docId], docLen[docId]])\n",
    "    if docId % 5000 == 0:\n",
    "        df = df.transpose()\n",
    "        df.columns = ['url', 'docLen']\n",
    "        df['url'] = df['url'].astype(str)\n",
    "        df['docLen'] = df['docLen'].astype('int32')\n",
    "        # df.to_hdf(f'DevHDF5/DocId.hdf5', key=getDocKey(docId))\n",
    "        df = pd.DataFrame()\n",
    "        print('write', docId)\n",
    "\n",
    "df = df.transpose()\n",
    "df.columns = ['url', 'docLen']\n",
    "df['url'] = df['url'].astype(str)\n",
    "df['docLen'] = df['docLen'].astype('int32')\n",
    "# df.to_hdf(f'DevHDF5/DocId.hdf5', key=getDocKey(lastDoc))"
   ]
  }
 ],
 "metadata": {
  "kernelspec": {
   "display_name": "Python 3",
   "language": "python",
   "name": "python3"
  },
  "language_info": {
   "codemirror_mode": {
    "name": "ipython",
    "version": 3
   },
   "file_extension": ".py",
   "mimetype": "text/x-python",
   "name": "python",
   "nbconvert_exporter": "python",
   "pygments_lexer": "ipython3",
   "version": "3.10.7"
  },
  "orig_nbformat": 4
 },
 "nbformat": 4,
 "nbformat_minor": 2
}
