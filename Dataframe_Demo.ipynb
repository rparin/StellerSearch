{
 "cells": [
  {
   "cell_type": "code",
   "execution_count": null,
   "metadata": {},
   "outputs": [],
   "source": [
    "import os\n",
    "rootDir = 'D:\\\\RJ\\\\UCI\\\\Ralph School\\\\2023 Spring\\\\CS 121\\\\Assignments\\\\.vscode\\\\Res\\\\Dev'\n",
    "jsonFiles = []\n",
    "for root, dirs, files in os.walk(rootDir):\n",
    "    for name in files:\n",
    "        if name.endswith((\".json\")):\n",
    "            full_path = os.path.join(root, name)\n",
    "            jsonFiles.append(full_path)\n",
    "\n",
    "jsonFiles = jsonFiles[:5000]"
   ]
  },
  {
   "cell_type": "code",
   "execution_count": null,
   "metadata": {},
   "outputs": [],
   "source": [
    "import json\n",
    "from HelperClass import InvertedIndex\n",
    "from helper import tokenizeHtml"
   ]
  },
  {
   "cell_type": "code",
   "execution_count": null,
   "metadata": {},
   "outputs": [],
   "source": [
    "# Opening JSON file\n",
    "def getJsonData(filePath):\n",
    "    jFile = open(filePath)\n",
    "    data = json.load(jFile)\n",
    "    url = data['url']\n",
    "    htmlContent = data['content']\n",
    "    jFile.close()\n",
    "    return (url, htmlContent)"
   ]
  },
  {
   "cell_type": "code",
   "execution_count": null,
   "metadata": {},
   "outputs": [],
   "source": [
    "invIndex = InvertedIndex() #Create inverted index to hold tokens from parser\n",
    "docId = 0\n",
    "for jFile in jsonFiles:\n",
    "    docId += 1\n",
    "    url, htmlContent = getJsonData(jFile)\n",
    "    # Cleans and parses HTML content into tokens then adds it to Inverted index\n",
    "    tokenizeHtml(docId=docId, invIndex=invIndex, htmlContent=htmlContent)\n",
    "    print(docId, url)"
   ]
  },
  {
   "cell_type": "code",
   "execution_count": null,
   "metadata": {},
   "outputs": [],
   "source": [
    "invIndex.write('HDF5')"
   ]
  }
 ],
 "metadata": {
  "kernelspec": {
   "display_name": "Python 3",
   "language": "python",
   "name": "python3"
  },
  "language_info": {
   "codemirror_mode": {
    "name": "ipython",
    "version": 3
   },
   "file_extension": ".py",
   "mimetype": "text/x-python",
   "name": "python",
   "nbconvert_exporter": "python",
   "pygments_lexer": "ipython3",
   "version": "3.10.7"
  },
  "orig_nbformat": 4
 },
 "nbformat": 4,
 "nbformat_minor": 2
}
